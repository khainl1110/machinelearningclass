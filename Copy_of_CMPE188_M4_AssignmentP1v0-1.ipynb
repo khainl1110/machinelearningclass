{
  "nbformat": 4,
  "nbformat_minor": 0,
  "metadata": {
    "colab": {
      "name": "Copy of CMPE188_M4_AssignmentP1v0.ipynb",
      "provenance": [],
      "collapsed_sections": []
    },
    "kernelspec": {
      "name": "python3",
      "display_name": "Python 3"
    },
    "language_info": {
      "name": "python"
    }
  },
  "cells": [
    {
      "cell_type": "markdown",
      "source": [
        "### **Please submit the different parts of Module 4 in separate notebooks.**"
      ],
      "metadata": {
        "id": "4CIeFulNC-pu"
      }
    },
    {
      "cell_type": "markdown",
      "source": [
        "**Please enter your name and email in the textbox below, and state whether or not you are planning to take the next available Module 4 Assessment.  This way, we will make sure you receive feedback on the assignment as soon as possible.**"
      ],
      "metadata": {
        "id": "0oQgm9A3pM5u"
      }
    },
    {
      "cell_type": "markdown",
      "source": [
        "*Name*: Khai Nguyen\n",
        "\n",
        "*Email*: khailuu.nguyen@sjsu.edu\n",
        "\n",
        "*I plan to take the next available Module 4 Assessment*: **Yes**"
      ],
      "metadata": {
        "id": "dZnh3EBKpghg"
      }
    },
    {
      "cell_type": "markdown",
      "source": [
        "# Module 4, Part 1\n",
        "\n",
        "Please complete this assignment in a Colab.  \n",
        "\n",
        "Please submit all parts of the Module 4 assignment as separate notebooks in the Canvas assignment for Module 4 (\"Module 4 Assignment\")."
      ],
      "metadata": {
        "id": "r6D5BNPJji5e"
      }
    },
    {
      "cell_type": "markdown",
      "source": [
        "# Section 0: Setup & Initialization "
      ],
      "metadata": {
        "id": "0walhdckUbi1"
      }
    },
    {
      "cell_type": "code",
      "execution_count": null,
      "metadata": {
        "id": "IUElo8IrxAOf"
      },
      "outputs": [],
      "source": [
        "# Importing required libraries\n",
        "import numpy as np\n",
        "import pandas as pd\n",
        "import seaborn as sns\n",
        "import matplotlib.pyplot as plt\n",
        "import math\n",
        "from sklearn.metrics import confusion_matrix\n",
        "from tqdm import tqdm\n",
        "from google.colab import drive"
      ]
    },
    {
      "cell_type": "code",
      "source": [
        "# mounting google drive\n",
        "drive.mount('/content/drive')"
      ],
      "metadata": {
        "id": "9jt5XbqEx86p",
        "colab": {
          "base_uri": "https://localhost:8080/"
        },
        "outputId": "8d55b1ef-863e-4a34-dd33-c6ff890606aa"
      },
      "execution_count": null,
      "outputs": [
        {
          "output_type": "stream",
          "name": "stdout",
          "text": [
            "Mounted at /content/drive\n"
          ]
        }
      ]
    },
    {
      "cell_type": "code",
      "source": [
        "# reading the dataset\n",
        "df = pd.read_csv(\"/content/drive/MyDrive/Datasets/S4.txt\", delim_whitespace = True, names = ['a','b'])\n",
        "df.head(3)"
      ],
      "metadata": {
        "id": "Cm8fky3Ux_2I",
        "colab": {
          "base_uri": "https://localhost:8080/",
          "height": 143
        },
        "outputId": "08b81c1f-ae04-45d5-9c05-063f06672cf2"
      },
      "execution_count": null,
      "outputs": [
        {
          "output_type": "execute_result",
          "data": {
            "text/plain": [
              "        a       b\n",
              "0  624474  837604\n",
              "1  673412  735362\n",
              "2  647442  677000"
            ],
            "text/html": [
              "\n",
              "  <div id=\"df-470e8b34-2690-4e4a-a1e9-481de5d25eb5\">\n",
              "    <div class=\"colab-df-container\">\n",
              "      <div>\n",
              "<style scoped>\n",
              "    .dataframe tbody tr th:only-of-type {\n",
              "        vertical-align: middle;\n",
              "    }\n",
              "\n",
              "    .dataframe tbody tr th {\n",
              "        vertical-align: top;\n",
              "    }\n",
              "\n",
              "    .dataframe thead th {\n",
              "        text-align: right;\n",
              "    }\n",
              "</style>\n",
              "<table border=\"1\" class=\"dataframe\">\n",
              "  <thead>\n",
              "    <tr style=\"text-align: right;\">\n",
              "      <th></th>\n",
              "      <th>a</th>\n",
              "      <th>b</th>\n",
              "    </tr>\n",
              "  </thead>\n",
              "  <tbody>\n",
              "    <tr>\n",
              "      <th>0</th>\n",
              "      <td>624474</td>\n",
              "      <td>837604</td>\n",
              "    </tr>\n",
              "    <tr>\n",
              "      <th>1</th>\n",
              "      <td>673412</td>\n",
              "      <td>735362</td>\n",
              "    </tr>\n",
              "    <tr>\n",
              "      <th>2</th>\n",
              "      <td>647442</td>\n",
              "      <td>677000</td>\n",
              "    </tr>\n",
              "  </tbody>\n",
              "</table>\n",
              "</div>\n",
              "      <button class=\"colab-df-convert\" onclick=\"convertToInteractive('df-470e8b34-2690-4e4a-a1e9-481de5d25eb5')\"\n",
              "              title=\"Convert this dataframe to an interactive table.\"\n",
              "              style=\"display:none;\">\n",
              "        \n",
              "  <svg xmlns=\"http://www.w3.org/2000/svg\" height=\"24px\"viewBox=\"0 0 24 24\"\n",
              "       width=\"24px\">\n",
              "    <path d=\"M0 0h24v24H0V0z\" fill=\"none\"/>\n",
              "    <path d=\"M18.56 5.44l.94 2.06.94-2.06 2.06-.94-2.06-.94-.94-2.06-.94 2.06-2.06.94zm-11 1L8.5 8.5l.94-2.06 2.06-.94-2.06-.94L8.5 2.5l-.94 2.06-2.06.94zm10 10l.94 2.06.94-2.06 2.06-.94-2.06-.94-.94-2.06-.94 2.06-2.06.94z\"/><path d=\"M17.41 7.96l-1.37-1.37c-.4-.4-.92-.59-1.43-.59-.52 0-1.04.2-1.43.59L10.3 9.45l-7.72 7.72c-.78.78-.78 2.05 0 2.83L4 21.41c.39.39.9.59 1.41.59.51 0 1.02-.2 1.41-.59l7.78-7.78 2.81-2.81c.8-.78.8-2.07 0-2.86zM5.41 20L4 18.59l7.72-7.72 1.47 1.35L5.41 20z\"/>\n",
              "  </svg>\n",
              "      </button>\n",
              "      \n",
              "  <style>\n",
              "    .colab-df-container {\n",
              "      display:flex;\n",
              "      flex-wrap:wrap;\n",
              "      gap: 12px;\n",
              "    }\n",
              "\n",
              "    .colab-df-convert {\n",
              "      background-color: #E8F0FE;\n",
              "      border: none;\n",
              "      border-radius: 50%;\n",
              "      cursor: pointer;\n",
              "      display: none;\n",
              "      fill: #1967D2;\n",
              "      height: 32px;\n",
              "      padding: 0 0 0 0;\n",
              "      width: 32px;\n",
              "    }\n",
              "\n",
              "    .colab-df-convert:hover {\n",
              "      background-color: #E2EBFA;\n",
              "      box-shadow: 0px 1px 2px rgba(60, 64, 67, 0.3), 0px 1px 3px 1px rgba(60, 64, 67, 0.15);\n",
              "      fill: #174EA6;\n",
              "    }\n",
              "\n",
              "    [theme=dark] .colab-df-convert {\n",
              "      background-color: #3B4455;\n",
              "      fill: #D2E3FC;\n",
              "    }\n",
              "\n",
              "    [theme=dark] .colab-df-convert:hover {\n",
              "      background-color: #434B5C;\n",
              "      box-shadow: 0px 1px 3px 1px rgba(0, 0, 0, 0.15);\n",
              "      filter: drop-shadow(0px 1px 2px rgba(0, 0, 0, 0.3));\n",
              "      fill: #FFFFFF;\n",
              "    }\n",
              "  </style>\n",
              "\n",
              "      <script>\n",
              "        const buttonEl =\n",
              "          document.querySelector('#df-470e8b34-2690-4e4a-a1e9-481de5d25eb5 button.colab-df-convert');\n",
              "        buttonEl.style.display =\n",
              "          google.colab.kernel.accessAllowed ? 'block' : 'none';\n",
              "\n",
              "        async function convertToInteractive(key) {\n",
              "          const element = document.querySelector('#df-470e8b34-2690-4e4a-a1e9-481de5d25eb5');\n",
              "          const dataTable =\n",
              "            await google.colab.kernel.invokeFunction('convertToInteractive',\n",
              "                                                     [key], {});\n",
              "          if (!dataTable) return;\n",
              "\n",
              "          const docLinkHtml = 'Like what you see? Visit the ' +\n",
              "            '<a target=\"_blank\" href=https://colab.research.google.com/notebooks/data_table.ipynb>data table notebook</a>'\n",
              "            + ' to learn more about interactive tables.';\n",
              "          element.innerHTML = '';\n",
              "          dataTable['output_type'] = 'display_data';\n",
              "          await google.colab.output.renderOutput(dataTable, element);\n",
              "          const docLink = document.createElement('div');\n",
              "          docLink.innerHTML = docLinkHtml;\n",
              "          element.appendChild(docLink);\n",
              "        }\n",
              "      </script>\n",
              "    </div>\n",
              "  </div>\n",
              "  "
            ]
          },
          "metadata": {},
          "execution_count": 9
        }
      ]
    },
    {
      "cell_type": "code",
      "source": [
        "# plotting the dataset\n",
        "plt.scatter(x = df[\"a\"], y = df[\"b\"])"
      ],
      "metadata": {
        "colab": {
          "base_uri": "https://localhost:8080/",
          "height": 293
        },
        "id": "E84S2-1r1j88",
        "outputId": "adc4428e-e426-45bc-c1bf-206d50478979"
      },
      "execution_count": null,
      "outputs": [
        {
          "output_type": "execute_result",
          "data": {
            "text/plain": [
              "<matplotlib.collections.PathCollection at 0x7f2f1106af10>"
            ]
          },
          "metadata": {},
          "execution_count": 10
        },
        {
          "output_type": "display_data",
          "data": {
            "text/plain": [
              "<Figure size 432x288 with 1 Axes>"
            ],
            "image/png": "[encoded data removed]"
          },
          "metadata": {
            "needs_background": "light"
          }
        }
      ]
    },
    {
      "cell_type": "markdown",
      "source": [
        "# Section 2: Kmeans algorithm implementation"
      ],
      "metadata": {
        "id": "vdbNWBhPp4w7"
      }
    },
    {
      "cell_type": "markdown",
      "source": [
        "### 1\\. Implement a function to compute Euclidean Distance"
      ],
      "metadata": {
        "id": "3z74BYTGqDOr"
      }
    },
    {
      "cell_type": "code",
      "source": [
        "# function to calculate euclidean distance\n",
        "def euclidean_dist(p1, p2):\n",
        "    dist = 0.0\n",
        "    for i in range(len(p1)): dist += (p1[i] - p2[i])**2\n",
        "    return math.sqrt(dist)"
      ],
      "metadata": {
        "id": "O57JFslFEpcN"
      },
      "execution_count": null,
      "outputs": []
    },
    {
      "cell_type": "markdown",
      "source": [
        "### 2\\.  Complete the implemeantation of the kmeans_fit() method for the Kmeans algorithms"
      ],
      "metadata": {
        "id": "r9LwtoLeqQWP"
      }
    },
    {
      "cell_type": "code",
      "source": [
        "# get the index of the smallest value in an array\n",
        "a = [495, 33,294,1]\n",
        "print(min(a))"
      ],
      "metadata": {
        "colab": {
          "base_uri": "https://localhost:8080/"
        },
        "id": "44zurP_OsiET",
        "outputId": "8b2b17f8-16bc-4292-82a1-f8aba8f55db9"
      },
      "execution_count": null,
      "outputs": [
        {
          "output_type": "stream",
          "name": "stdout",
          "text": [
            "1\n"
          ]
        }
      ]
    },
    {
      "cell_type": "code",
      "source": [
        "print(a.index(min(a)) )"
      ],
      "metadata": {
        "colab": {
          "base_uri": "https://localhost:8080/"
        },
        "id": "9ENsPbt8uXLI",
        "outputId": "028743c8-7930-466d-e987-08dc3cd6ce28"
      },
      "execution_count": null,
      "outputs": [
        {
          "output_type": "stream",
          "name": "stdout",
          "text": [
            "3\n"
          ]
        }
      ]
    },
    {
      "cell_type": "code",
      "source": [
        "# cluster_assignment in the form:\n",
        "# {\n",
        "#     0: [points],\n",
        "#     1: [points]\n",
        "# }"
      ],
      "metadata": {
        "id": "rEOV-9aa5Dm4"
      },
      "execution_count": null,
      "outputs": []
    },
    {
      "cell_type": "code",
      "source": [
        "# calculate the average of current poins in array\n",
        "b = [[4,9,2],\n",
        "     [8,3,1],\n",
        "     [10,4,5],\n",
        "     [5,8,7]\n",
        "     ]\n",
        "np.sum(b, 0)"
      ],
      "metadata": {
        "colab": {
          "base_uri": "https://localhost:8080/"
        },
        "id": "yho2t8WG5pNi",
        "outputId": "2417ed86-e559-40f8-a2c4-e5e186b2654b"
      },
      "execution_count": null,
      "outputs": [
        {
          "output_type": "execute_result",
          "data": {
            "text/plain": [
              "array([27, 24, 15])"
            ]
          },
          "metadata": {},
          "execution_count": 27
        }
      ]
    },
    {
      "cell_type": "code",
      "source": [
        "np.sum(b, 0)/len(b)"
      ],
      "metadata": {
        "colab": {
          "base_uri": "https://localhost:8080/"
        },
        "id": "SZit-JuX7sGC",
        "outputId": "95eb7ab3-3d12-4342-e150-e00eaa51a24b"
      },
      "execution_count": null,
      "outputs": [
        {
          "output_type": "execute_result",
          "data": {
            "text/plain": [
              "array([6.75, 6.  , 3.75])"
            ]
          },
          "metadata": {},
          "execution_count": 28
        }
      ]
    },
    {
      "cell_type": "code",
      "source": [
        "def kmeans_fit(data, k = 8, change_level = 0.001, max_iter = 300):\n",
        "  centroids = {} # keep track of the points that are the current centroids of the k clusters\n",
        "  cluster_assignment = {} # keep track of the data points assigned to each cluster\n",
        "\n",
        "  # pick k points to be the first cluster centers (or centroids)\n",
        "  for i in range(k): \n",
        "    centroids[i] = data[i]\n",
        "\n",
        "  # iterating for max_iter number of times\n",
        "  for i in range(max_iter): \n",
        "\n",
        "    #initializing classification with empty lists\n",
        "    for i in range(k): \n",
        "      cluster_assignment[i] = []\n",
        "\n",
        "    # iterating over each data point\n",
        "    for current_data_point in data:\n",
        "      \n",
        "      # calculating the euclidean distance between the current_data_point and all the centroids\n",
        "      # ADD CODE HERE\n",
        "      distances = []\n",
        "      for j in range(len(centroids)):\n",
        "        dist = euclidean_dist(centroids[j], current_data_point)\n",
        "        distances.append(dist)\n",
        "        \n",
        "\n",
        "      # assign the current_data_point to the centroid it is closest to\n",
        "      # ADD CODE HERE\n",
        "      cluster_index = distances.index( min(distances) )\n",
        "      cluster_assignment[cluster_index].append(current_data_point)\n",
        "\n",
        "    # updating the centroids to be the average of the current points assigned to \n",
        "    # the respective centroid's cluster \n",
        "    prev_centroids = dict(centroids)    \n",
        "    for cluster_index in cluster_assignment: \n",
        "      # ADD CODE HERE\n",
        "      avg_point = np.sum(cluster_assignment[cluster_index], 0) / len(cluster_assignment[cluster_index])\n",
        "      centroids[cluster_index] = avg_point\n",
        "\n",
        "    # checking if the change in the centroid assignment is below a threshold - \n",
        "    # if so, we can stop the computation (we don't need to optimize the algorithm further)\n",
        "    optimized = True\n",
        "\n",
        "    for c in centroids:\n",
        "      original_centroid = prev_centroids[c]\n",
        "      current_centroid = centroids[c]\n",
        "      if np.sum((current_centroid - original_centroid)/original_centroid*100.0) > change_level: optimized = False\n",
        "\n",
        "    if optimized: break\n",
        "\n",
        "    return centroids, cluster_assignment"
      ],
      "metadata": {
        "id": "Sigc6egH1zuN"
      },
      "execution_count": null,
      "outputs": []
    },
    {
      "cell_type": "markdown",
      "source": [
        "### 3\\. Complete the implementation of the kmeans_predict() method for the kmeans algorithm"
      ],
      "metadata": {
        "id": "1OPjvTSNqgP7"
      }
    },
    {
      "cell_type": "code",
      "source": [
        "# find the best cluster for a test data point based on which centroid it is closest to\n",
        "def kmeans_predict(test_data, centroids):\n",
        "  \n",
        "  dist = []\n",
        "  for i in range( len(centroids) ):\n",
        "    dist.append( euclidean_dist(test_data, centroids[i]) )\n",
        "  \n",
        "  cluster_label = dist.index( min(dist) )\n",
        "  \n",
        "  return cluster_label"
      ],
      "metadata": {
        "id": "u5VM9R9yqfXo"
      },
      "execution_count": null,
      "outputs": []
    },
    {
      "cell_type": "markdown",
      "source": [
        "## Section 3: Kmeans experiments & visualization"
      ],
      "metadata": {
        "id": "hV-wICzUrO5b"
      }
    },
    {
      "cell_type": "markdown",
      "source": [
        "Compute the clustering using your kmeans_fit function"
      ],
      "metadata": {
        "id": "L0On-GJmqqy_"
      }
    },
    {
      "cell_type": "code",
      "source": [
        "centroids, cluster_assignment = kmeans_fit(df.to_numpy())"
      ],
      "metadata": {
        "id": "ThCF9A5l68Mx"
      },
      "execution_count": null,
      "outputs": []
    },
    {
      "cell_type": "code",
      "source": [
        "cluster_assignment.keys()"
      ],
      "metadata": {
        "colab": {
          "base_uri": "https://localhost:8080/"
        },
        "id": "Oh85zlw6DIPs",
        "outputId": "a5a857aa-2cf1-4ea0-c15b-e47f0593dcc2"
      },
      "execution_count": null,
      "outputs": [
        {
          "output_type": "execute_result",
          "data": {
            "text/plain": [
              "dict_keys([0, 1, 2, 3, 4, 5, 6, 7])"
            ]
          },
          "metadata": {},
          "execution_count": 40
        }
      ]
    },
    {
      "cell_type": "code",
      "source": [
        "centroids"
      ],
      "metadata": {
        "colab": {
          "base_uri": "https://localhost:8080/"
        },
        "id": "4O2jWYKrDLJ8",
        "outputId": "d3d4346e-2138-4559-de70-295dbdec6768"
      },
      "execution_count": null,
      "outputs": [
        {
          "output_type": "execute_result",
          "data": {
            "text/plain": [
              "{0: array([592379.5       , 854624.42592593]),\n",
              " 1: array([711232.10843373, 723148.09638554]),\n",
              " 2: array([625884.08158906, 424915.27039727]),\n",
              " 3: array([544184.43396226, 757139.03773585]),\n",
              " 4: array([632774.19672131, 732104.37704918]),\n",
              " 5: array([640913.45945946, 756933.81081081]),\n",
              " 6: array([647959.6875 , 786891.15625]),\n",
              " 7: array([353730.66015972, 524127.48358474])}"
            ]
          },
          "metadata": {},
          "execution_count": 41
        }
      ]
    },
    {
      "cell_type": "code",
      "source": [
        "cluster_assignment.keys()"
      ],
      "metadata": {
        "colab": {
          "base_uri": "https://localhost:8080/"
        },
        "id": "KpNvJCVF7Gfo",
        "outputId": "1267be73-43fa-408b-dc19-ca4861ef5950"
      },
      "execution_count": null,
      "outputs": [
        {
          "output_type": "execute_result",
          "data": {
            "text/plain": [
              "dict_keys([0, 1, 2, 3, 4, 5, 6, 7])"
            ]
          },
          "metadata": {},
          "execution_count": 97
        }
      ]
    },
    {
      "cell_type": "code",
      "source": [
        "centroids"
      ],
      "metadata": {
        "colab": {
          "base_uri": "https://localhost:8080/"
        },
        "id": "93cva_7LHOMV",
        "outputId": "24c32d36-7ece-4e01-cf8a-b929d2c11d1c"
      },
      "execution_count": null,
      "outputs": [
        {
          "output_type": "execute_result",
          "data": {
            "text/plain": [
              "{0: array([592379.5       , 854624.42592593]),\n",
              " 1: array([711232.10843373, 723148.09638554]),\n",
              " 2: array([625884.08158906, 424915.27039727]),\n",
              " 3: array([544184.43396226, 757139.03773585]),\n",
              " 4: array([632774.19672131, 732104.37704918]),\n",
              " 5: array([640913.45945946, 756933.81081081]),\n",
              " 6: array([647959.6875 , 786891.15625]),\n",
              " 7: array([353730.66015972, 524127.48358474])}"
            ]
          },
          "metadata": {},
          "execution_count": 98
        }
      ]
    },
    {
      "cell_type": "markdown",
      "source": [
        "Predict the cluster assignment for a test data point"
      ],
      "metadata": {
        "id": "CqVBYq8Dx7zX"
      }
    },
    {
      "cell_type": "code",
      "source": [
        "cluster_label = kmeans_predict([711000, 720000.09638554], centroids)\n",
        "cluster_label"
      ],
      "metadata": {
        "id": "zsD2FCZuxgoB",
        "colab": {
          "base_uri": "https://localhost:8080/"
        },
        "outputId": "3876a437-c6e8-4ead-c140-aaa45ac562e8"
      },
      "execution_count": null,
      "outputs": [
        {
          "output_type": "execute_result",
          "data": {
            "text/plain": [
              "1"
            ]
          },
          "metadata": {},
          "execution_count": 44
        }
      ]
    },
    {
      "cell_type": "markdown",
      "source": [
        "Visualization of the clusters"
      ],
      "metadata": {
        "id": "MOZ9o2XdrFfS"
      }
    },
    {
      "cell_type": "code",
      "source": [
        "## Plotting the points and the centroids.\n",
        "colors = [\"orange\",\"g\",\"r\",\"c\",\"b\",\"y\",\"m\",\"purple\"]\n",
        " \n",
        "for cluster_index in cluster_assignment:\n",
        "    color = colors[cluster_index]\n",
        "    for data_point in cluster_assignment[cluster_index]:\n",
        "        plt.scatter(data_point[0], data_point[1], marker = \"o\", color = color, alpha = 1)\n",
        "\n",
        "for centroid in centroids:\n",
        "    plt.scatter(centroids[centroid][0], centroids[centroid][1], marker = \"+\", color = \"white\", s = 100, linewidths = 5)\n",
        "\n",
        "plt.show()"
      ],
      "metadata": {
        "colab": {
          "base_uri": "https://localhost:8080/",
          "height": 276
        },
        "id": "ReUlVXuoHsjU",
        "outputId": "aab5a861-d33e-4957-9959-d863734af25d"
      },
      "execution_count": null,
      "outputs": [
        {
          "output_type": "display_data",
          "data": {
            "text/plain": [
              "<Figure size 432x288 with 1 Axes>"
            ],
            "image/png": "[encoded data removed]"
          },
          "metadata": {
            "needs_background": "light"
          }
        }
      ]
    }
  ]
}