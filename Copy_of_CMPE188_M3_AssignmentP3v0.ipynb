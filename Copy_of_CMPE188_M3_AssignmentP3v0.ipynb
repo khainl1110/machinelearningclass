{
  "nbformat": 4,
  "nbformat_minor": 0,
  "metadata": {
    "colab": {
      "name": "Copy of CMPE188_M3_AssignmentP3v0.ipynb",
      "provenance": [],
      "collapsed_sections": [],
      "toc_visible": true
    },
    "kernelspec": {
      "name": "python3",
      "display_name": "Python 3"
    },
    "language_info": {
      "name": "python"
    }
  },
  "cells": [
    {
      "cell_type": "markdown",
      "source": [
        "# Module 3 Assignment, Part 3"
      ],
      "metadata": {
        "id": "dZnh3EBKpghg"
      }
    },
    {
      "cell_type": "markdown",
      "source": [
        "## Section 0: Setup & initialization"
      ],
      "metadata": {
        "id": "12w1EsfD7qeM"
      }
    },
    {
      "cell_type": "code",
      "execution_count": null,
      "metadata": {
        "id": "F1lpkY8Tr9p1"
      },
      "outputs": [],
      "source": [
        "# importing required libraries\n",
        "from sklearn.tree import DecisionTreeClassifier\n",
        "from random import randrange\n",
        "from sklearn.metrics import confusion_matrix\n",
        "from sklearn.datasets import load_iris\n",
        "import pandas as pd"
      ]
    },
    {
      "cell_type": "markdown",
      "source": [
        "## Section 1: Helper functions"
      ],
      "metadata": {
        "id": "mRqZk7H5dX74"
      }
    },
    {
      "cell_type": "markdown",
      "source": [
        "The subsample_data() function performs sampling with replacement to create a subsample from the dataset. Each subsample will be used to train one decision tree in your Random Forest. \n"
      ],
      "metadata": {
        "id": "JJ8RbTeWss-b"
      }
    },
    {
      "cell_type": "code",
      "source": [
        "def subsample_data(dataset, num_samples): \n",
        "  rows = []\n",
        "\n",
        "  for i in range(num_samples):\n",
        "    index = randrange(len(dataset))\n",
        "    rows.append(index)   \n",
        "    \n",
        "  return dataset.iloc[rows,:]"
      ],
      "metadata": {
        "id": "gfywPfDSsR5o"
      },
      "execution_count": null,
      "outputs": []
    },
    {
      "cell_type": "markdown",
      "source": [
        "The subsample_features() function selects a subsample of the features int the dataset.  This subsample of features will be used when building one of the Decision Trees in your Random Forest."
      ],
      "metadata": {
        "id": "DLhI-zEEtlyY"
      }
    },
    {
      "cell_type": "code",
      "source": [
        "def subsample_features(dataset, ratio):\n",
        "  curr_cols = [i for i in range(len(dataset.columns))]\n",
        "  sel_cols = []\n",
        "  n_features = round(len(dataset.columns)*ratio)\n",
        "  for i in range(n_features):\n",
        "    index = randrange(len(curr_cols))\n",
        "    sel_cols.append(curr_cols.pop(index))\n",
        "  # this returns col index and the value of these col\n",
        "  return sel_cols, dataset.iloc[:,sel_cols]"
      ],
      "metadata": {
        "id": "dOAhJeWJtuzo"
      },
      "execution_count": null,
      "outputs": []
    },
    {
      "cell_type": "markdown",
      "source": [
        "Train-test split function written from scratch."
      ],
      "metadata": {
        "id": "AdKEbw1KvGw6"
      }
    },
    {
      "cell_type": "code",
      "source": [
        "# Split dataset into train and test\n",
        "def split_train_test(dataset, test_size):\n",
        "  train_rows = []\n",
        "  test_rows = []\n",
        "  \n",
        "  n_test_rows = round(len(dataset) * test_size)\n",
        "  curr_rows = [i for i in range(len(dataset))]\n",
        "  \n",
        "  for i in range(n_test_rows):\n",
        "    index = randrange(len(curr_rows))\n",
        "    test_rows.append(curr_rows.pop(index))\n",
        "  \n",
        "  train_rows = curr_rows\n",
        "  train_data = dataset.iloc[train_rows, :]\n",
        "  test_data = dataset.iloc[test_rows, :]\n",
        "  \n",
        "  return train_data, test_data"
      ],
      "metadata": {
        "id": "nrFce8BjvX75"
      },
      "execution_count": null,
      "outputs": []
    },
    {
      "cell_type": "markdown",
      "source": [
        "## Section 2: Random Forest implementation"
      ],
      "metadata": {
        "id": "L3HDWKIav4H_"
      }
    },
    {
      "cell_type": "markdown",
      "source": [
        "### 1\\.  Complete the code for training you Random Forest Algorithm."
      ],
      "metadata": {
        "id": "0IA2lzBtkGiq"
      }
    },
    {
      "cell_type": "code",
      "source": [
        "from sklearn.tree import DecisionTreeClassifier"
      ],
      "metadata": {
        "id": "OYqb3uIS2hC-"
      },
      "execution_count": null,
      "outputs": []
    },
    {
      "cell_type": "code",
      "source": [
        "# Random Forest Algorithm\n",
        "def random_forest_train(training_data, num_trees, max_tree_depth, sample_size_fr, n_features_ratio):\n",
        "  trees = []\n",
        "  \n",
        "  for i in range(num_trees):  \n",
        "    # use the subsample_data() function to extract a data sample to train your tree on\n",
        "    data_sample = subsample_data(training_data, round(len(training_data) * sample_size_fr) )\n",
        "    \n",
        "    # use the subsample_features() function to extract sample features, don't pass the last col because it has y\n",
        "    cols, sample_features = subsample_features(data_sample.iloc[:, :-1], n_features_ratio)\n",
        " \n",
        "    #train.iloc[sample_features.index, train.columns == 'target']\n",
        "    tree = DecisionTreeClassifier(max_depth = max_tree_depth)\n",
        "    # pass y\n",
        "    tree.fit(sample_features, training_data.iloc[sample_features.index, -1])\n",
        "\n",
        "    # append the tree to your forest of trees\n",
        "    trees.append([tree,cols])\t\n",
        "  return trees"
      ],
      "metadata": {
        "id": "iZnkB6aQwPtj"
      },
      "execution_count": null,
      "outputs": []
    },
    {
      "cell_type": "markdown",
      "source": [
        "### 2\\. Complete the code for the predict function for your Random Forest algorithm."
      ],
      "metadata": {
        "id": "P4s6TKOpy6T3"
      }
    },
    {
      "cell_type": "markdown",
      "source": [
        "Return values:\n",
        "  * predictions contains the final prediction for each test data point (row)\n",
        "  * all_tree_preds are the individual predictions of all the trees for each test data point\n",
        "  "
      ],
      "metadata": {
        "id": "bZB5y2oKnB-t"
      }
    },
    {
      "cell_type": "code",
      "source": [
        "import numpy as np"
      ],
      "metadata": {
        "id": "1XJCyCq4k3Im"
      },
      "execution_count": null,
      "outputs": []
    },
    {
      "cell_type": "code",
      "source": [
        "# trees are input from random_forest_train with [tree, # cols]\n",
        "def random_forest_predict(test_data, trees):\n",
        "  final_predictions = []\n",
        "  all_tree_preds = []\n",
        "  \n",
        "  # compute prediction for each test point (row in the dataset)\n",
        "  for i in range(len(test_data)):\n",
        "    # this contains predictions for a single point by all trees\n",
        "    preds = []\n",
        "    # loop through trees to predict\n",
        "    for j in range(len(trees)):\n",
        "      tree = trees[j][0]\n",
        "      rows = trees[j][1]\n",
        "\n",
        "      # do this to get 2d array, otherwise might have errors\n",
        "      pred = tree.predict( test_data.iloc[i:i+1, rows] )\n",
        "      # pred will return an array despite having a single element, get the prediction with index 0\n",
        "      preds.append(pred[0])\n",
        "\n",
        "    # get final prediction by the one with highest freq in preds\n",
        "    freq = np.bincount(preds)\n",
        "    final_pred = np.argmax(freq)\n",
        "\n",
        "    final_predictions.append(final_pred)\n",
        "    all_tree_preds.append(preds)\n",
        "    \n",
        "  return final_predictions, all_tree_preds"
      ],
      "metadata": {
        "id": "6OVjGC9VzCra"
      },
      "execution_count": null,
      "outputs": []
    },
    {
      "cell_type": "markdown",
      "source": [
        "## Section 3: Experiment with your newly created Random Forest model"
      ],
      "metadata": {
        "id": "J78lC-KNnafS"
      }
    },
    {
      "cell_type": "code",
      "source": [
        "# importing the dataset\n",
        "dataset = load_iris()\n",
        "df = pd.DataFrame(dataset.data)\n",
        "df[\"target\"] = dataset.target\n",
        "df.head()"
      ],
      "metadata": {
        "id": "Jc5d_E-NJ3be",
        "colab": {
          "base_uri": "https://localhost:8080/",
          "height": 206
        },
        "outputId": "d0d71b5e-2025-4b5d-fff0-f3594c96c61e"
      },
      "execution_count": null,
      "outputs": [
        {
          "output_type": "execute_result",
          "data": {
            "text/plain": [
              "     0    1    2    3  target\n",
              "0  5.1  3.5  1.4  0.2       0\n",
              "1  4.9  3.0  1.4  0.2       0\n",
              "2  4.7  3.2  1.3  0.2       0\n",
              "3  4.6  3.1  1.5  0.2       0\n",
              "4  5.0  3.6  1.4  0.2       0"
            ],
            "text/html": [
              "\n",
              "  <div id=\"df-36c4c93c-3263-4314-a229-1a8d5fb80427\">\n",
              "    <div class=\"colab-df-container\">\n",
              "      <div>\n",
              "<style scoped>\n",
              "    .dataframe tbody tr th:only-of-type {\n",
              "        vertical-align: middle;\n",
              "    }\n",
              "\n",
              "    .dataframe tbody tr th {\n",
              "        vertical-align: top;\n",
              "    }\n",
              "\n",
              "    .dataframe thead th {\n",
              "        text-align: right;\n",
              "    }\n",
              "</style>\n",
              "<table border=\"1\" class=\"dataframe\">\n",
              "  <thead>\n",
              "    <tr style=\"text-align: right;\">\n",
              "      <th></th>\n",
              "      <th>0</th>\n",
              "      <th>1</th>\n",
              "      <th>2</th>\n",
              "      <th>3</th>\n",
              "      <th>target</th>\n",
              "    </tr>\n",
              "  </thead>\n",
              "  <tbody>\n",
              "    <tr>\n",
              "      <th>0</th>\n",
              "      <td>5.1</td>\n",
              "      <td>3.5</td>\n",
              "      <td>1.4</td>\n",
              "      <td>0.2</td>\n",
              "      <td>0</td>\n",
              "    </tr>\n",
              "    <tr>\n",
              "      <th>1</th>\n",
              "      <td>4.9</td>\n",
              "      <td>3.0</td>\n",
              "      <td>1.4</td>\n",
              "      <td>0.2</td>\n",
              "      <td>0</td>\n",
              "    </tr>\n",
              "    <tr>\n",
              "      <th>2</th>\n",
              "      <td>4.7</td>\n",
              "      <td>3.2</td>\n",
              "      <td>1.3</td>\n",
              "      <td>0.2</td>\n",
              "      <td>0</td>\n",
              "    </tr>\n",
              "    <tr>\n",
              "      <th>3</th>\n",
              "      <td>4.6</td>\n",
              "      <td>3.1</td>\n",
              "      <td>1.5</td>\n",
              "      <td>0.2</td>\n",
              "      <td>0</td>\n",
              "    </tr>\n",
              "    <tr>\n",
              "      <th>4</th>\n",
              "      <td>5.0</td>\n",
              "      <td>3.6</td>\n",
              "      <td>1.4</td>\n",
              "      <td>0.2</td>\n",
              "      <td>0</td>\n",
              "    </tr>\n",
              "  </tbody>\n",
              "</table>\n",
              "</div>\n",
              "      <button class=\"colab-df-convert\" onclick=\"convertToInteractive('df-36c4c93c-3263-4314-a229-1a8d5fb80427')\"\n",
              "              title=\"Convert this dataframe to an interactive table.\"\n",
              "              style=\"display:none;\">\n",
              "        \n",
              "  <svg xmlns=\"http://www.w3.org/2000/svg\" height=\"24px\"viewBox=\"0 0 24 24\"\n",
              "       width=\"24px\">\n",
              "    <path d=\"M0 0h24v24H0V0z\" fill=\"none\"/>\n",
              "    <path d=\"M18.56 5.44l.94 2.06.94-2.06 2.06-.94-2.06-.94-.94-2.06-.94 2.06-2.06.94zm-11 1L8.5 8.5l.94-2.06 2.06-.94-2.06-.94L8.5 2.5l-.94 2.06-2.06.94zm10 10l.94 2.06.94-2.06 2.06-.94-2.06-.94-.94-2.06-.94 2.06-2.06.94z\"/><path d=\"M17.41 7.96l-1.37-1.37c-.4-.4-.92-.59-1.43-.59-.52 0-1.04.2-1.43.59L10.3 9.45l-7.72 7.72c-.78.78-.78 2.05 0 2.83L4 21.41c.39.39.9.59 1.41.59.51 0 1.02-.2 1.41-.59l7.78-7.78 2.81-2.81c.8-.78.8-2.07 0-2.86zM5.41 20L4 18.59l7.72-7.72 1.47 1.35L5.41 20z\"/>\n",
              "  </svg>\n",
              "      </button>\n",
              "      \n",
              "  <style>\n",
              "    .colab-df-container {\n",
              "      display:flex;\n",
              "      flex-wrap:wrap;\n",
              "      gap: 12px;\n",
              "    }\n",
              "\n",
              "    .colab-df-convert {\n",
              "      background-color: #E8F0FE;\n",
              "      border: none;\n",
              "      border-radius: 50%;\n",
              "      cursor: pointer;\n",
              "      display: none;\n",
              "      fill: #1967D2;\n",
              "      height: 32px;\n",
              "      padding: 0 0 0 0;\n",
              "      width: 32px;\n",
              "    }\n",
              "\n",
              "    .colab-df-convert:hover {\n",
              "      background-color: #E2EBFA;\n",
              "      box-shadow: 0px 1px 2px rgba(60, 64, 67, 0.3), 0px 1px 3px 1px rgba(60, 64, 67, 0.15);\n",
              "      fill: #174EA6;\n",
              "    }\n",
              "\n",
              "    [theme=dark] .colab-df-convert {\n",
              "      background-color: #3B4455;\n",
              "      fill: #D2E3FC;\n",
              "    }\n",
              "\n",
              "    [theme=dark] .colab-df-convert:hover {\n",
              "      background-color: #434B5C;\n",
              "      box-shadow: 0px 1px 3px 1px rgba(0, 0, 0, 0.15);\n",
              "      filter: drop-shadow(0px 1px 2px rgba(0, 0, 0, 0.3));\n",
              "      fill: #FFFFFF;\n",
              "    }\n",
              "  </style>\n",
              "\n",
              "      <script>\n",
              "        const buttonEl =\n",
              "          document.querySelector('#df-36c4c93c-3263-4314-a229-1a8d5fb80427 button.colab-df-convert');\n",
              "        buttonEl.style.display =\n",
              "          google.colab.kernel.accessAllowed ? 'block' : 'none';\n",
              "\n",
              "        async function convertToInteractive(key) {\n",
              "          const element = document.querySelector('#df-36c4c93c-3263-4314-a229-1a8d5fb80427');\n",
              "          const dataTable =\n",
              "            await google.colab.kernel.invokeFunction('convertToInteractive',\n",
              "                                                     [key], {});\n",
              "          if (!dataTable) return;\n",
              "\n",
              "          const docLinkHtml = 'Like what you see? Visit the ' +\n",
              "            '<a target=\"_blank\" href=https://colab.research.google.com/notebooks/data_table.ipynb>data table notebook</a>'\n",
              "            + ' to learn more about interactive tables.';\n",
              "          element.innerHTML = '';\n",
              "          dataTable['output_type'] = 'display_data';\n",
              "          await google.colab.output.renderOutput(dataTable, element);\n",
              "          const docLink = document.createElement('div');\n",
              "          docLink.innerHTML = docLinkHtml;\n",
              "          element.appendChild(docLink);\n",
              "        }\n",
              "      </script>\n",
              "    </div>\n",
              "  </div>\n",
              "  "
            ]
          },
          "metadata": {},
          "execution_count": 9
        }
      ]
    },
    {
      "cell_type": "code",
      "source": [
        "# splitting the dataset into train and test\n",
        "train, test = split_train_test(df, 0.3)"
      ],
      "metadata": {
        "id": "M0ZpoKM7vKbg"
      },
      "execution_count": null,
      "outputs": []
    },
    {
      "cell_type": "code",
      "source": [
        "train = train.reset_index(drop = True)\n",
        "test = test.reset_index(drop = True)"
      ],
      "metadata": {
        "id": "-5n7ksktxM4i"
      },
      "execution_count": null,
      "outputs": []
    },
    {
      "cell_type": "code",
      "source": [
        "trees = random_forest_train(training_data = train, num_trees = 1, max_tree_depth = 3, sample_size_fr = 0.8, n_features_ratio = 0.75)"
      ],
      "metadata": {
        "id": "GkyVw3YA4CGV"
      },
      "execution_count": null,
      "outputs": []
    },
    {
      "cell_type": "code",
      "source": [
        "# doing this will get index 1 with 2 dimensional array\n",
        "test.iloc[1:2, [0,1,2]]"
      ],
      "metadata": {
        "colab": {
          "base_uri": "https://localhost:8080/",
          "height": 81
        },
        "id": "D5ypaMrBRCxt",
        "outputId": "86125f56-e500-4dc6-a0ee-122a9667b91a"
      },
      "execution_count": null,
      "outputs": [
        {
          "output_type": "execute_result",
          "data": {
            "text/plain": [
              "     0    1    2\n",
              "1  5.6  3.0  4.1"
            ],
            "text/html": [
              "\n",
              "  <div id=\"df-d4802b70-0362-468b-9b7f-b809c7aac9db\">\n",
              "    <div class=\"colab-df-container\">\n",
              "      <div>\n",
              "<style scoped>\n",
              "    .dataframe tbody tr th:only-of-type {\n",
              "        vertical-align: middle;\n",
              "    }\n",
              "\n",
              "    .dataframe tbody tr th {\n",
              "        vertical-align: top;\n",
              "    }\n",
              "\n",
              "    .dataframe thead th {\n",
              "        text-align: right;\n",
              "    }\n",
              "</style>\n",
              "<table border=\"1\" class=\"dataframe\">\n",
              "  <thead>\n",
              "    <tr style=\"text-align: right;\">\n",
              "      <th></th>\n",
              "      <th>0</th>\n",
              "      <th>1</th>\n",
              "      <th>2</th>\n",
              "    </tr>\n",
              "  </thead>\n",
              "  <tbody>\n",
              "    <tr>\n",
              "      <th>1</th>\n",
              "      <td>5.6</td>\n",
              "      <td>3.0</td>\n",
              "      <td>4.1</td>\n",
              "    </tr>\n",
              "  </tbody>\n",
              "</table>\n",
              "</div>\n",
              "      <button class=\"colab-df-convert\" onclick=\"convertToInteractive('df-d4802b70-0362-468b-9b7f-b809c7aac9db')\"\n",
              "              title=\"Convert this dataframe to an interactive table.\"\n",
              "              style=\"display:none;\">\n",
              "        \n",
              "  <svg xmlns=\"http://www.w3.org/2000/svg\" height=\"24px\"viewBox=\"0 0 24 24\"\n",
              "       width=\"24px\">\n",
              "    <path d=\"M0 0h24v24H0V0z\" fill=\"none\"/>\n",
              "    <path d=\"M18.56 5.44l.94 2.06.94-2.06 2.06-.94-2.06-.94-.94-2.06-.94 2.06-2.06.94zm-11 1L8.5 8.5l.94-2.06 2.06-.94-2.06-.94L8.5 2.5l-.94 2.06-2.06.94zm10 10l.94 2.06.94-2.06 2.06-.94-2.06-.94-.94-2.06-.94 2.06-2.06.94z\"/><path d=\"M17.41 7.96l-1.37-1.37c-.4-.4-.92-.59-1.43-.59-.52 0-1.04.2-1.43.59L10.3 9.45l-7.72 7.72c-.78.78-.78 2.05 0 2.83L4 21.41c.39.39.9.59 1.41.59.51 0 1.02-.2 1.41-.59l7.78-7.78 2.81-2.81c.8-.78.8-2.07 0-2.86zM5.41 20L4 18.59l7.72-7.72 1.47 1.35L5.41 20z\"/>\n",
              "  </svg>\n",
              "      </button>\n",
              "      \n",
              "  <style>\n",
              "    .colab-df-container {\n",
              "      display:flex;\n",
              "      flex-wrap:wrap;\n",
              "      gap: 12px;\n",
              "    }\n",
              "\n",
              "    .colab-df-convert {\n",
              "      background-color: #E8F0FE;\n",
              "      border: none;\n",
              "      border-radius: 50%;\n",
              "      cursor: pointer;\n",
              "      display: none;\n",
              "      fill: #1967D2;\n",
              "      height: 32px;\n",
              "      padding: 0 0 0 0;\n",
              "      width: 32px;\n",
              "    }\n",
              "\n",
              "    .colab-df-convert:hover {\n",
              "      background-color: #E2EBFA;\n",
              "      box-shadow: 0px 1px 2px rgba(60, 64, 67, 0.3), 0px 1px 3px 1px rgba(60, 64, 67, 0.15);\n",
              "      fill: #174EA6;\n",
              "    }\n",
              "\n",
              "    [theme=dark] .colab-df-convert {\n",
              "      background-color: #3B4455;\n",
              "      fill: #D2E3FC;\n",
              "    }\n",
              "\n",
              "    [theme=dark] .colab-df-convert:hover {\n",
              "      background-color: #434B5C;\n",
              "      box-shadow: 0px 1px 3px 1px rgba(0, 0, 0, 0.15);\n",
              "      filter: drop-shadow(0px 1px 2px rgba(0, 0, 0, 0.3));\n",
              "      fill: #FFFFFF;\n",
              "    }\n",
              "  </style>\n",
              "\n",
              "      <script>\n",
              "        const buttonEl =\n",
              "          document.querySelector('#df-d4802b70-0362-468b-9b7f-b809c7aac9db button.colab-df-convert');\n",
              "        buttonEl.style.display =\n",
              "          google.colab.kernel.accessAllowed ? 'block' : 'none';\n",
              "\n",
              "        async function convertToInteractive(key) {\n",
              "          const element = document.querySelector('#df-d4802b70-0362-468b-9b7f-b809c7aac9db');\n",
              "          const dataTable =\n",
              "            await google.colab.kernel.invokeFunction('convertToInteractive',\n",
              "                                                     [key], {});\n",
              "          if (!dataTable) return;\n",
              "\n",
              "          const docLinkHtml = 'Like what you see? Visit the ' +\n",
              "            '<a target=\"_blank\" href=https://colab.research.google.com/notebooks/data_table.ipynb>data table notebook</a>'\n",
              "            + ' to learn more about interactive tables.';\n",
              "          element.innerHTML = '';\n",
              "          dataTable['output_type'] = 'display_data';\n",
              "          await google.colab.output.renderOutput(dataTable, element);\n",
              "          const docLink = document.createElement('div');\n",
              "          docLink.innerHTML = docLinkHtml;\n",
              "          element.appendChild(docLink);\n",
              "        }\n",
              "      </script>\n",
              "    </div>\n",
              "  </div>\n",
              "  "
            ]
          },
          "metadata": {},
          "execution_count": 13
        }
      ]
    },
    {
      "cell_type": "code",
      "source": [
        "trees"
      ],
      "metadata": {
        "colab": {
          "base_uri": "https://localhost:8080/"
        },
        "id": "LpYHFGEEm4yl",
        "outputId": "ce0d6467-9467-42c0-c7e1-d7f0b4c10cb3"
      },
      "execution_count": null,
      "outputs": [
        {
          "output_type": "execute_result",
          "data": {
            "text/plain": [
              "[[DecisionTreeClassifier(max_depth=3), [2, 3, 0]]]"
            ]
          },
          "metadata": {},
          "execution_count": 14
        }
      ]
    },
    {
      "cell_type": "code",
      "source": [
        "# test\n",
        "for j in trees:\n",
        "  tree = j[0]\n",
        "  rows = j[1]\n",
        "\n",
        "  print( tree.predict(test.iloc[3, rows].values.reshape(1,3) ) )"
      ],
      "metadata": {
        "colab": {
          "base_uri": "https://localhost:8080/"
        },
        "id": "n0xCw9eTqUxO",
        "outputId": "4fc8ac92-016e-4b3c-9ebf-063babcb7664"
      },
      "execution_count": null,
      "outputs": [
        {
          "output_type": "stream",
          "name": "stdout",
          "text": [
            "[2]\n"
          ]
        }
      ]
    },
    {
      "cell_type": "code",
      "source": [
        "predictions, all_preds = random_forest_predict(test.iloc[:,:-1], trees)"
      ],
      "metadata": {
        "id": "EM_YE94p5UNz"
      },
      "execution_count": null,
      "outputs": []
    },
    {
      "cell_type": "code",
      "source": [
        "all_preds"
      ],
      "metadata": {
        "id": "UcpmarBJ8wu2",
        "colab": {
          "base_uri": "https://localhost:8080/"
        },
        "outputId": "966e43b1-e22e-41d3-a8ba-35072c3615dd"
      },
      "execution_count": null,
      "outputs": [
        {
          "output_type": "execute_result",
          "data": {
            "text/plain": [
              "[[0],\n",
              " [1],\n",
              " [1],\n",
              " [2],\n",
              " [2],\n",
              " [2],\n",
              " [1],\n",
              " [1],\n",
              " [2],\n",
              " [2],\n",
              " [2],\n",
              " [0],\n",
              " [1],\n",
              " [1],\n",
              " [2],\n",
              " [0],\n",
              " [1],\n",
              " [2],\n",
              " [2],\n",
              " [0],\n",
              " [1],\n",
              " [2],\n",
              " [0],\n",
              " [1],\n",
              " [1],\n",
              " [2],\n",
              " [2],\n",
              " [2],\n",
              " [1],\n",
              " [1],\n",
              " [0],\n",
              " [2],\n",
              " [2],\n",
              " [2],\n",
              " [0],\n",
              " [0],\n",
              " [1],\n",
              " [0],\n",
              " [0],\n",
              " [2],\n",
              " [0],\n",
              " [0],\n",
              " [0],\n",
              " [0],\n",
              " [0]]"
            ]
          },
          "metadata": {},
          "execution_count": 17
        }
      ]
    },
    {
      "cell_type": "code",
      "source": [
        "predictions"
      ],
      "metadata": {
        "id": "BRM5BlPo84D4",
        "colab": {
          "base_uri": "https://localhost:8080/"
        },
        "outputId": "2de7ba17-1697-4a76-8681-08aa8e548d02"
      },
      "execution_count": null,
      "outputs": [
        {
          "output_type": "execute_result",
          "data": {
            "text/plain": [
              "[0,\n",
              " 1,\n",
              " 1,\n",
              " 2,\n",
              " 2,\n",
              " 2,\n",
              " 1,\n",
              " 1,\n",
              " 2,\n",
              " 2,\n",
              " 2,\n",
              " 0,\n",
              " 1,\n",
              " 1,\n",
              " 2,\n",
              " 0,\n",
              " 1,\n",
              " 2,\n",
              " 2,\n",
              " 0,\n",
              " 1,\n",
              " 2,\n",
              " 0,\n",
              " 1,\n",
              " 1,\n",
              " 2,\n",
              " 2,\n",
              " 2,\n",
              " 1,\n",
              " 1,\n",
              " 0,\n",
              " 2,\n",
              " 2,\n",
              " 2,\n",
              " 0,\n",
              " 0,\n",
              " 1,\n",
              " 0,\n",
              " 0,\n",
              " 2,\n",
              " 0,\n",
              " 0,\n",
              " 0,\n",
              " 0,\n",
              " 0]"
            ]
          },
          "metadata": {},
          "execution_count": 18
        }
      ]
    },
    {
      "cell_type": "code",
      "source": [
        "confusion_matrix(test.iloc[:,-1], predictions)"
      ],
      "metadata": {
        "id": "PuPaCE-M5fuq",
        "colab": {
          "base_uri": "https://localhost:8080/"
        },
        "outputId": "86a51004-c627-4cc8-be5c-0209cc8c0934"
      },
      "execution_count": null,
      "outputs": [
        {
          "output_type": "execute_result",
          "data": {
            "text/plain": [
              "array([[15,  0,  0],\n",
              "       [ 0, 11,  1],\n",
              "       [ 0,  2, 16]])"
            ]
          },
          "metadata": {},
          "execution_count": 19
        }
      ]
    }
  ]
}