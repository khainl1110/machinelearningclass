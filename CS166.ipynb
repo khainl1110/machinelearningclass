{
  "nbformat": 4,
  "nbformat_minor": 0,
  "metadata": {
    "colab": {
      "provenance": [],
      "collapsed_sections": []
    },
    "kernelspec": {
      "name": "python3",
      "display_name": "Python 3"
    },
    "language_info": {
      "name": "python"
    }
  },
  "cells": [
    {
      "cell_type": "code",
      "source": [
        "import os"
      ],
      "metadata": {
        "id": "i4G6fxe3diBS"
      },
      "execution_count": null,
      "outputs": []
    },
    {
      "cell_type": "code",
      "execution_count": null,
      "metadata": {
        "id": "92D9e4lDZ4hL"
      },
      "outputs": [],
      "source": [
        "import pandas as pd"
      ]
    },
    {
      "cell_type": "code",
      "source": [
        "from google.colab import drive\n",
        "drive.mount('/content/drive')"
      ],
      "metadata": {
        "colab": {
          "base_uri": "https://localhost:8080/"
        },
        "id": "L8kk-QmvcWDK",
        "outputId": "a90d06fe-651a-4f53-e0d0-09631731d1e8"
      },
      "execution_count": null,
      "outputs": [
        {
          "output_type": "stream",
          "name": "stdout",
          "text": [
            "Drive already mounted at /content/drive; to attempt to forcibly remount, call drive.mount(\"/content/drive\", force_remount=True).\n"
          ]
        }
      ]
    },
    {
      "cell_type": "code",
      "source": [
        "os.chdir('/content/drive/MyDrive/Datasets')"
      ],
      "metadata": {
        "id": "mFPI4A-CctN6"
      },
      "execution_count": null,
      "outputs": []
    },
    {
      "cell_type": "markdown",
      "source": [
        "dataset from cresci-2017"
      ],
      "metadata": {
        "id": "iWjvNynNdr8k"
      }
    },
    {
      "cell_type": "code",
      "source": [
        "gen_acc = pd.read_csv(\"gen_acc.csv\")"
      ],
      "metadata": {
        "id": "BW_LtzvTeCJT"
      },
      "execution_count": null,
      "outputs": []
    },
    {
      "cell_type": "code",
      "source": [
        "tradi_spam1 = pd.read_csv('tradi_spam_1.csv')"
      ],
      "metadata": {
        "id": "ng0PEYJJJ2je"
      },
      "execution_count": null,
      "outputs": []
    },
    {
      "cell_type": "code",
      "source": [
        "social_spam1= pd.read_csv('social_spambots_1.csv')"
      ],
      "metadata": {
        "id": "WHUaBD1-N2TF"
      },
      "execution_count": null,
      "outputs": []
    },
    {
      "cell_type": "markdown",
      "source": [
        "Data preparation, set target value for these columns"
      ],
      "metadata": {
        "id": "IjjFKOIxd75z"
      }
    },
    {
      "cell_type": "code",
      "source": [
        "gen_acc['Type'] = 0"
      ],
      "metadata": {
        "id": "tE-YgcyaeD5B"
      },
      "execution_count": null,
      "outputs": []
    },
    {
      "cell_type": "code",
      "source": [
        "tradi_spam1['Type'] = 1"
      ],
      "metadata": {
        "id": "FGki_dFyV7_W"
      },
      "execution_count": null,
      "outputs": []
    },
    {
      "cell_type": "code",
      "source": [
        "social_spam1['Type'] = 2"
      ],
      "metadata": {
        "id": "YeI6aI_Ed5KB"
      },
      "execution_count": null,
      "outputs": []
    },
    {
      "cell_type": "markdown",
      "source": [
        "Combine all three dataset together"
      ],
      "metadata": {
        "id": "vTITYDkVeM6L"
      }
    },
    {
      "cell_type": "code",
      "source": [
        "gen_acc.head()"
      ],
      "metadata": {
        "colab": {
          "base_uri": "https://localhost:8080/",
          "height": 577
        },
        "id": "ekXHVVgjeiZ0",
        "outputId": "ba149c0a-d33d-4519-c062-df1931b265df"
      },
      "execution_count": null,
      "outputs": [
        {
          "output_type": "execute_result",
          "data": {
            "text/plain": [
              "           id               name      screen_name  statuses_count  \\\n",
              "0  1502026416    TASUKU HAYAKAWA         0918Bask            2177   \n",
              "1  2492782375              ro_or         1120Roll            2660   \n",
              "2   293212315           bearclaw        14KBBrown            1254   \n",
              "3   191839658  pocahontas farida      wadespeters          202968   \n",
              "4  3020965143           Ms Kathy  191a5bd05da04dc              82   \n",
              "\n",
              "   followers_count  friends_count  favourites_count  listed_count  \\\n",
              "0              208            332               265             1   \n",
              "1              330            485              3972             5   \n",
              "2              166            177              1185             0   \n",
              "3             2248            981             60304           101   \n",
              "4               21             79                 5             0   \n",
              "\n",
              "                      url lang  ...  \\\n",
              "0                     NaN   ja  ...   \n",
              "1                     NaN   ja  ...   \n",
              "2                     NaN   en  ...   \n",
              "3  http://t.co/rGV0HIJGsu   en  ...   \n",
              "4                     NaN   en  ...   \n",
              "\n",
              "                                         description contributors_enabled  \\\n",
              "0                              15years ago X.Lines24                  NaN   \n",
              "1   保守見習い地元大好き人間。 経済学、電工、仏教を勉強中、ちなDeではいかんのか？ (*^◯^*)                  NaN   \n",
              "2                 Let me see what your best move is!                  NaN   \n",
              "3  20. menna: #farida #nyc and the 80s actually y...                  NaN   \n",
              "4                                      Cosmetologist                  NaN   \n",
              "\n",
              "   following                      created_at            timestamp  \\\n",
              "0        NaN  Tue Jun 11 11:20:35 +0000 2013  2013-06-11 13:20:35   \n",
              "1        NaN  Tue May 13 10:37:57 +0000 2014  2014-05-13 12:37:57   \n",
              "2        NaN  Wed May 04 23:30:37 +0000 2011  2011-05-05 01:30:37   \n",
              "3        NaN  Fri Sep 17 14:02:10 +0000 2010  2010-09-17 16:02:10   \n",
              "4        NaN  Fri Feb 06 04:10:49 +0000 2015  2015-02-06 05:10:49   \n",
              "\n",
              "            crawled_at              updated  test_set_1 test_set_2 Type  \n",
              "0  2015-05-02 06:41:46  2016-03-15 15:53:47           0          0    0  \n",
              "1  2015-05-01 17:20:27  2016-03-15 15:53:48           0          0    0  \n",
              "2  2015-05-01 18:48:28  2016-03-15 15:53:48           0          0    0  \n",
              "3  2015-05-01 13:55:16  2016-03-15 15:53:48           0          0    0  \n",
              "4  2015-05-02 01:17:32  2016-03-15 15:53:48           0          0    0  \n",
              "\n",
              "[5 rows x 43 columns]"
            ],
            "text/html": [
              "\n",
              "  <div id=\"df-21e99f67-cc2c-47cb-aac7-c779e09906d3\">\n",
              "    <div class=\"colab-df-container\">\n",
              "      <div>\n",
              "<style scoped>\n",
              "    .dataframe tbody tr th:only-of-type {\n",
              "        vertical-align: middle;\n",
              "    }\n",
              "\n",
              "    .dataframe tbody tr th {\n",
              "        vertical-align: top;\n",
              "    }\n",
              "\n",
              "    .dataframe thead th {\n",
              "        text-align: right;\n",
              "    }\n",
              "</style>\n",
              "<table border=\"1\" class=\"dataframe\">\n",
              "  <thead>\n",
              "    <tr style=\"text-align: right;\">\n",
              "      <th></th>\n",
              "      <th>id</th>\n",
              "      <th>name</th>\n",
              "      <th>screen_name</th>\n",
              "      <th>statuses_count</th>\n",
              "      <th>followers_count</th>\n",
              "      <th>friends_count</th>\n",
              "      <th>favourites_count</th>\n",
              "      <th>listed_count</th>\n",
              "      <th>url</th>\n",
              "      <th>lang</th>\n",
              "      <th>...</th>\n",
              "      <th>description</th>\n",
              "      <th>contributors_enabled</th>\n",
              "      <th>following</th>\n",
              "      <th>created_at</th>\n",
              "      <th>timestamp</th>\n",
              "      <th>crawled_at</th>\n",
              "      <th>updated</th>\n",
              "      <th>test_set_1</th>\n",
              "      <th>test_set_2</th>\n",
              "      <th>Type</th>\n",
              "    </tr>\n",
              "  </thead>\n",
              "  <tbody>\n",
              "    <tr>\n",
              "      <th>0</th>\n",
              "      <td>1502026416</td>\n",
              "      <td>TASUKU HAYAKAWA</td>\n",
              "      <td>0918Bask</td>\n",
              "      <td>2177</td>\n",
              "      <td>208</td>\n",
              "      <td>332</td>\n",
              "      <td>265</td>\n",
              "      <td>1</td>\n",
              "      <td>NaN</td>\n",
              "      <td>ja</td>\n",
              "      <td>...</td>\n",
              "      <td>15years ago X.Lines24</td>\n",
              "      <td>NaN</td>\n",
              "      <td>NaN</td>\n",
              "      <td>Tue Jun 11 11:20:35 +0000 2013</td>\n",
              "      <td>2013-06-11 13:20:35</td>\n",
              "      <td>2015-05-02 06:41:46</td>\n",
              "      <td>2016-03-15 15:53:47</td>\n",
              "      <td>0</td>\n",
              "      <td>0</td>\n",
              "      <td>0</td>\n",
              "    </tr>\n",
              "    <tr>\n",
              "      <th>1</th>\n",
              "      <td>2492782375</td>\n",
              "      <td>ro_or</td>\n",
              "      <td>1120Roll</td>\n",
              "      <td>2660</td>\n",
              "      <td>330</td>\n",
              "      <td>485</td>\n",
              "      <td>3972</td>\n",
              "      <td>5</td>\n",
              "      <td>NaN</td>\n",
              "      <td>ja</td>\n",
              "      <td>...</td>\n",
              "      <td>保守見習い地元大好き人間。 経済学、電工、仏教を勉強中、ちなDeではいかんのか？ (*^◯^*)</td>\n",
              "      <td>NaN</td>\n",
              "      <td>NaN</td>\n",
              "      <td>Tue May 13 10:37:57 +0000 2014</td>\n",
              "      <td>2014-05-13 12:37:57</td>\n",
              "      <td>2015-05-01 17:20:27</td>\n",
              "      <td>2016-03-15 15:53:48</td>\n",
              "      <td>0</td>\n",
              "      <td>0</td>\n",
              "      <td>0</td>\n",
              "    </tr>\n",
              "    <tr>\n",
              "      <th>2</th>\n",
              "      <td>293212315</td>\n",
              "      <td>bearclaw</td>\n",
              "      <td>14KBBrown</td>\n",
              "      <td>1254</td>\n",
              "      <td>166</td>\n",
              "      <td>177</td>\n",
              "      <td>1185</td>\n",
              "      <td>0</td>\n",
              "      <td>NaN</td>\n",
              "      <td>en</td>\n",
              "      <td>...</td>\n",
              "      <td>Let me see what your best move is!</td>\n",
              "      <td>NaN</td>\n",
              "      <td>NaN</td>\n",
              "      <td>Wed May 04 23:30:37 +0000 2011</td>\n",
              "      <td>2011-05-05 01:30:37</td>\n",
              "      <td>2015-05-01 18:48:28</td>\n",
              "      <td>2016-03-15 15:53:48</td>\n",
              "      <td>0</td>\n",
              "      <td>0</td>\n",
              "      <td>0</td>\n",
              "    </tr>\n",
              "    <tr>\n",
              "      <th>3</th>\n",
              "      <td>191839658</td>\n",
              "      <td>pocahontas farida</td>\n",
              "      <td>wadespeters</td>\n",
              "      <td>202968</td>\n",
              "      <td>2248</td>\n",
              "      <td>981</td>\n",
              "      <td>60304</td>\n",
              "      <td>101</td>\n",
              "      <td>http://t.co/rGV0HIJGsu</td>\n",
              "      <td>en</td>\n",
              "      <td>...</td>\n",
              "      <td>20. menna: #farida #nyc and the 80s actually y...</td>\n",
              "      <td>NaN</td>\n",
              "      <td>NaN</td>\n",
              "      <td>Fri Sep 17 14:02:10 +0000 2010</td>\n",
              "      <td>2010-09-17 16:02:10</td>\n",
              "      <td>2015-05-01 13:55:16</td>\n",
              "      <td>2016-03-15 15:53:48</td>\n",
              "      <td>0</td>\n",
              "      <td>0</td>\n",
              "      <td>0</td>\n",
              "    </tr>\n",
              "    <tr>\n",
              "      <th>4</th>\n",
              "      <td>3020965143</td>\n",
              "      <td>Ms Kathy</td>\n",
              "      <td>191a5bd05da04dc</td>\n",
              "      <td>82</td>\n",
              "      <td>21</td>\n",
              "      <td>79</td>\n",
              "      <td>5</td>\n",
              "      <td>0</td>\n",
              "      <td>NaN</td>\n",
              "      <td>en</td>\n",
              "      <td>...</td>\n",
              "      <td>Cosmetologist</td>\n",
              "      <td>NaN</td>\n",
              "      <td>NaN</td>\n",
              "      <td>Fri Feb 06 04:10:49 +0000 2015</td>\n",
              "      <td>2015-02-06 05:10:49</td>\n",
              "      <td>2015-05-02 01:17:32</td>\n",
              "      <td>2016-03-15 15:53:48</td>\n",
              "      <td>0</td>\n",
              "      <td>0</td>\n",
              "      <td>0</td>\n",
              "    </tr>\n",
              "  </tbody>\n",
              "</table>\n",
              "<p>5 rows × 43 columns</p>\n",
              "</div>\n",
              "      <button class=\"colab-df-convert\" onclick=\"convertToInteractive('df-21e99f67-cc2c-47cb-aac7-c779e09906d3')\"\n",
              "              title=\"Convert this dataframe to an interactive table.\"\n",
              "              style=\"display:none;\">\n",
              "        \n",
              "  <svg xmlns=\"http://www.w3.org/2000/svg\" height=\"24px\"viewBox=\"0 0 24 24\"\n",
              "       width=\"24px\">\n",
              "    <path d=\"M0 0h24v24H0V0z\" fill=\"none\"/>\n",
              "    <path d=\"M18.56 5.44l.94 2.06.94-2.06 2.06-.94-2.06-.94-.94-2.06-.94 2.06-2.06.94zm-11 1L8.5 8.5l.94-2.06 2.06-.94-2.06-.94L8.5 2.5l-.94 2.06-2.06.94zm10 10l.94 2.06.94-2.06 2.06-.94-2.06-.94-.94-2.06-.94 2.06-2.06.94z\"/><path d=\"M17.41 7.96l-1.37-1.37c-.4-.4-.92-.59-1.43-.59-.52 0-1.04.2-1.43.59L10.3 9.45l-7.72 7.72c-.78.78-.78 2.05 0 2.83L4 21.41c.39.39.9.59 1.41.59.51 0 1.02-.2 1.41-.59l7.78-7.78 2.81-2.81c.8-.78.8-2.07 0-2.86zM5.41 20L4 18.59l7.72-7.72 1.47 1.35L5.41 20z\"/>\n",
              "  </svg>\n",
              "      </button>\n",
              "      \n",
              "  <style>\n",
              "    .colab-df-container {\n",
              "      display:flex;\n",
              "      flex-wrap:wrap;\n",
              "      gap: 12px;\n",
              "    }\n",
              "\n",
              "    .colab-df-convert {\n",
              "      background-color: #E8F0FE;\n",
              "      border: none;\n",
              "      border-radius: 50%;\n",
              "      cursor: pointer;\n",
              "      display: none;\n",
              "      fill: #1967D2;\n",
              "      height: 32px;\n",
              "      padding: 0 0 0 0;\n",
              "      width: 32px;\n",
              "    }\n",
              "\n",
              "    .colab-df-convert:hover {\n",
              "      background-color: #E2EBFA;\n",
              "      box-shadow: 0px 1px 2px rgba(60, 64, 67, 0.3), 0px 1px 3px 1px rgba(60, 64, 67, 0.15);\n",
              "      fill: #174EA6;\n",
              "    }\n",
              "\n",
              "    [theme=dark] .colab-df-convert {\n",
              "      background-color: #3B4455;\n",
              "      fill: #D2E3FC;\n",
              "    }\n",
              "\n",
              "    [theme=dark] .colab-df-convert:hover {\n",
              "      background-color: #434B5C;\n",
              "      box-shadow: 0px 1px 3px 1px rgba(0, 0, 0, 0.15);\n",
              "      filter: drop-shadow(0px 1px 2px rgba(0, 0, 0, 0.3));\n",
              "      fill: #FFFFFF;\n",
              "    }\n",
              "  </style>\n",
              "\n",
              "      <script>\n",
              "        const buttonEl =\n",
              "          document.querySelector('#df-21e99f67-cc2c-47cb-aac7-c779e09906d3 button.colab-df-convert');\n",
              "        buttonEl.style.display =\n",
              "          google.colab.kernel.accessAllowed ? 'block' : 'none';\n",
              "\n",
              "        async function convertToInteractive(key) {\n",
              "          const element = document.querySelector('#df-21e99f67-cc2c-47cb-aac7-c779e09906d3');\n",
              "          const dataTable =\n",
              "            await google.colab.kernel.invokeFunction('convertToInteractive',\n",
              "                                                     [key], {});\n",
              "          if (!dataTable) return;\n",
              "\n",
              "          const docLinkHtml = 'Like what you see? Visit the ' +\n",
              "            '<a target=\"_blank\" href=https://colab.research.google.com/notebooks/data_table.ipynb>data table notebook</a>'\n",
              "            + ' to learn more about interactive tables.';\n",
              "          element.innerHTML = '';\n",
              "          dataTable['output_type'] = 'display_data';\n",
              "          await google.colab.output.renderOutput(dataTable, element);\n",
              "          const docLink = document.createElement('div');\n",
              "          docLink.innerHTML = docLinkHtml;\n",
              "          element.appendChild(docLink);\n",
              "        }\n",
              "      </script>\n",
              "    </div>\n",
              "  </div>\n",
              "  "
            ]
          },
          "metadata": {},
          "execution_count": 11
        }
      ]
    },
    {
      "cell_type": "code",
      "source": [
        "tradi_spam1.head()"
      ],
      "metadata": {
        "colab": {
          "base_uri": "https://localhost:8080/",
          "height": 577
        },
        "id": "6s5jSO6LeVRt",
        "outputId": "1af8338d-5e29-43d0-eb9d-41bb5c4de74b"
      },
      "execution_count": null,
      "outputs": [
        {
          "output_type": "execute_result",
          "data": {
            "text/plain": [
              "         id           name      screen_name  statuses_count  followers_count  \\\n",
              "0   7248952   Bhuvan Chand      tarunkjuyal            1259              837   \n",
              "1   7732472  Daniel Wagner     DanielWagner             770             3274   \n",
              "2   9524952    Andrew Lock       Andrewlock            1100            38849   \n",
              "3  10788822   Tim Thompson  yourinsaneworld            6497             5902   \n",
              "4  14596967        fxgenie          fxgenie            3203             2570   \n",
              "\n",
              "   friends_count  favourites_count  listed_count  \\\n",
              "0           1978              3200             9   \n",
              "1           3595                 8            22   \n",
              "2          34504                41          1014   \n",
              "3           5496                 0            82   \n",
              "4           2638                 0             5   \n",
              "\n",
              "                                     url  lang  ...  verified notifications  \\\n",
              "0                 http://lifeofearth.org   NaN  ...       NaN           NaN   \n",
              "1  http://www.yourinternetbuddies.com/go   NaN  ...       NaN           NaN   \n",
              "2          http://www.helpmybusiness.com   NaN  ...       NaN           NaN   \n",
              "3       http://investing-information.com   NaN  ...       NaN           NaN   \n",
              "4              http://www.4xgenie.com/wp   NaN  ...       NaN           NaN   \n",
              "\n",
              "                                         description  contributors_enabled  \\\n",
              "0                                     Love Your Life                   NaN   \n",
              "1  I am an internet marketing coach and mentor wh...                   NaN   \n",
              "2  Marketing Geek & Presenter of 'Help! My Busine...                   NaN   \n",
              "3  I am a member of a network of stock investing ...                   NaN   \n",
              "4                                       forex trader                   NaN   \n",
              "\n",
              "   following      created_at            timestamp           crawled_at  \\\n",
              "0        NaN  1183552203000L  2007-07-04 14:30:03  2010-11-07 11:10:52   \n",
              "1        NaN  1185440851000L  2007-07-26 11:07:31  2010-11-07 11:10:52   \n",
              "2        NaN  1192725360000L  2007-10-18 18:36:00  2010-11-07 11:10:52   \n",
              "3        NaN  1196614406000L  2007-12-02 17:53:26  2010-11-07 11:10:52   \n",
              "4        NaN  1209536534000L  2008-04-30 08:22:14  2010-11-07 11:10:52   \n",
              "\n",
              "               updated  Type  \n",
              "0  2016-03-14 17:05:53     1  \n",
              "1  2016-03-14 17:05:54     1  \n",
              "2  2016-03-14 17:05:54     1  \n",
              "3  2016-03-14 17:05:54     1  \n",
              "4  2016-03-14 17:05:54     1  \n",
              "\n",
              "[5 rows x 41 columns]"
            ],
            "text/html": [
              "\n",
              "  <div id=\"df-937668f0-5551-49b2-bb41-4a380ceda43a\">\n",
              "    <div class=\"colab-df-container\">\n",
              "      <div>\n",
              "<style scoped>\n",
              "    .dataframe tbody tr th:only-of-type {\n",
              "        vertical-align: middle;\n",
              "    }\n",
              "\n",
              "    .dataframe tbody tr th {\n",
              "        vertical-align: top;\n",
              "    }\n",
              "\n",
              "    .dataframe thead th {\n",
              "        text-align: right;\n",
              "    }\n",
              "</style>\n",
              "<table border=\"1\" class=\"dataframe\">\n",
              "  <thead>\n",
              "    <tr style=\"text-align: right;\">\n",
              "      <th></th>\n",
              "      <th>id</th>\n",
              "      <th>name</th>\n",
              "      <th>screen_name</th>\n",
              "      <th>statuses_count</th>\n",
              "      <th>followers_count</th>\n",
              "      <th>friends_count</th>\n",
              "      <th>favourites_count</th>\n",
              "      <th>listed_count</th>\n",
              "      <th>url</th>\n",
              "      <th>lang</th>\n",
              "      <th>...</th>\n",
              "      <th>verified</th>\n",
              "      <th>notifications</th>\n",
              "      <th>description</th>\n",
              "      <th>contributors_enabled</th>\n",
              "      <th>following</th>\n",
              "      <th>created_at</th>\n",
              "      <th>timestamp</th>\n",
              "      <th>crawled_at</th>\n",
              "      <th>updated</th>\n",
              "      <th>Type</th>\n",
              "    </tr>\n",
              "  </thead>\n",
              "  <tbody>\n",
              "    <tr>\n",
              "      <th>0</th>\n",
              "      <td>7248952</td>\n",
              "      <td>Bhuvan Chand</td>\n",
              "      <td>tarunkjuyal</td>\n",
              "      <td>1259</td>\n",
              "      <td>837</td>\n",
              "      <td>1978</td>\n",
              "      <td>3200</td>\n",
              "      <td>9</td>\n",
              "      <td>http://lifeofearth.org</td>\n",
              "      <td>NaN</td>\n",
              "      <td>...</td>\n",
              "      <td>NaN</td>\n",
              "      <td>NaN</td>\n",
              "      <td>Love Your Life</td>\n",
              "      <td>NaN</td>\n",
              "      <td>NaN</td>\n",
              "      <td>1183552203000L</td>\n",
              "      <td>2007-07-04 14:30:03</td>\n",
              "      <td>2010-11-07 11:10:52</td>\n",
              "      <td>2016-03-14 17:05:53</td>\n",
              "      <td>1</td>\n",
              "    </tr>\n",
              "    <tr>\n",
              "      <th>1</th>\n",
              "      <td>7732472</td>\n",
              "      <td>Daniel Wagner</td>\n",
              "      <td>DanielWagner</td>\n",
              "      <td>770</td>\n",
              "      <td>3274</td>\n",
              "      <td>3595</td>\n",
              "      <td>8</td>\n",
              "      <td>22</td>\n",
              "      <td>http://www.yourinternetbuddies.com/go</td>\n",
              "      <td>NaN</td>\n",
              "      <td>...</td>\n",
              "      <td>NaN</td>\n",
              "      <td>NaN</td>\n",
              "      <td>I am an internet marketing coach and mentor wh...</td>\n",
              "      <td>NaN</td>\n",
              "      <td>NaN</td>\n",
              "      <td>1185440851000L</td>\n",
              "      <td>2007-07-26 11:07:31</td>\n",
              "      <td>2010-11-07 11:10:52</td>\n",
              "      <td>2016-03-14 17:05:54</td>\n",
              "      <td>1</td>\n",
              "    </tr>\n",
              "    <tr>\n",
              "      <th>2</th>\n",
              "      <td>9524952</td>\n",
              "      <td>Andrew Lock</td>\n",
              "      <td>Andrewlock</td>\n",
              "      <td>1100</td>\n",
              "      <td>38849</td>\n",
              "      <td>34504</td>\n",
              "      <td>41</td>\n",
              "      <td>1014</td>\n",
              "      <td>http://www.helpmybusiness.com</td>\n",
              "      <td>NaN</td>\n",
              "      <td>...</td>\n",
              "      <td>NaN</td>\n",
              "      <td>NaN</td>\n",
              "      <td>Marketing Geek &amp; Presenter of 'Help! My Busine...</td>\n",
              "      <td>NaN</td>\n",
              "      <td>NaN</td>\n",
              "      <td>1192725360000L</td>\n",
              "      <td>2007-10-18 18:36:00</td>\n",
              "      <td>2010-11-07 11:10:52</td>\n",
              "      <td>2016-03-14 17:05:54</td>\n",
              "      <td>1</td>\n",
              "    </tr>\n",
              "    <tr>\n",
              "      <th>3</th>\n",
              "      <td>10788822</td>\n",
              "      <td>Tim Thompson</td>\n",
              "      <td>yourinsaneworld</td>\n",
              "      <td>6497</td>\n",
              "      <td>5902</td>\n",
              "      <td>5496</td>\n",
              "      <td>0</td>\n",
              "      <td>82</td>\n",
              "      <td>http://investing-information.com</td>\n",
              "      <td>NaN</td>\n",
              "      <td>...</td>\n",
              "      <td>NaN</td>\n",
              "      <td>NaN</td>\n",
              "      <td>I am a member of a network of stock investing ...</td>\n",
              "      <td>NaN</td>\n",
              "      <td>NaN</td>\n",
              "      <td>1196614406000L</td>\n",
              "      <td>2007-12-02 17:53:26</td>\n",
              "      <td>2010-11-07 11:10:52</td>\n",
              "      <td>2016-03-14 17:05:54</td>\n",
              "      <td>1</td>\n",
              "    </tr>\n",
              "    <tr>\n",
              "      <th>4</th>\n",
              "      <td>14596967</td>\n",
              "      <td>fxgenie</td>\n",
              "      <td>fxgenie</td>\n",
              "      <td>3203</td>\n",
              "      <td>2570</td>\n",
              "      <td>2638</td>\n",
              "      <td>0</td>\n",
              "      <td>5</td>\n",
              "      <td>http://www.4xgenie.com/wp</td>\n",
              "      <td>NaN</td>\n",
              "      <td>...</td>\n",
              "      <td>NaN</td>\n",
              "      <td>NaN</td>\n",
              "      <td>forex trader</td>\n",
              "      <td>NaN</td>\n",
              "      <td>NaN</td>\n",
              "      <td>1209536534000L</td>\n",
              "      <td>2008-04-30 08:22:14</td>\n",
              "      <td>2010-11-07 11:10:52</td>\n",
              "      <td>2016-03-14 17:05:54</td>\n",
              "      <td>1</td>\n",
              "    </tr>\n",
              "  </tbody>\n",
              "</table>\n",
              "<p>5 rows × 41 columns</p>\n",
              "</div>\n",
              "      <button class=\"colab-df-convert\" onclick=\"convertToInteractive('df-937668f0-5551-49b2-bb41-4a380ceda43a')\"\n",
              "              title=\"Convert this dataframe to an interactive table.\"\n",
              "              style=\"display:none;\">\n",
              "        \n",
              "  <svg xmlns=\"http://www.w3.org/2000/svg\" height=\"24px\"viewBox=\"0 0 24 24\"\n",
              "       width=\"24px\">\n",
              "    <path d=\"M0 0h24v24H0V0z\" fill=\"none\"/>\n",
              "    <path d=\"M18.56 5.44l.94 2.06.94-2.06 2.06-.94-2.06-.94-.94-2.06-.94 2.06-2.06.94zm-11 1L8.5 8.5l.94-2.06 2.06-.94-2.06-.94L8.5 2.5l-.94 2.06-2.06.94zm10 10l.94 2.06.94-2.06 2.06-.94-2.06-.94-.94-2.06-.94 2.06-2.06.94z\"/><path d=\"M17.41 7.96l-1.37-1.37c-.4-.4-.92-.59-1.43-.59-.52 0-1.04.2-1.43.59L10.3 9.45l-7.72 7.72c-.78.78-.78 2.05 0 2.83L4 21.41c.39.39.9.59 1.41.59.51 0 1.02-.2 1.41-.59l7.78-7.78 2.81-2.81c.8-.78.8-2.07 0-2.86zM5.41 20L4 18.59l7.72-7.72 1.47 1.35L5.41 20z\"/>\n",
              "  </svg>\n",
              "      </button>\n",
              "      \n",
              "  <style>\n",
              "    .colab-df-container {\n",
              "      display:flex;\n",
              "      flex-wrap:wrap;\n",
              "      gap: 12px;\n",
              "    }\n",
              "\n",
              "    .colab-df-convert {\n",
              "      background-color: #E8F0FE;\n",
              "      border: none;\n",
              "      border-radius: 50%;\n",
              "      cursor: pointer;\n",
              "      display: none;\n",
              "      fill: #1967D2;\n",
              "      height: 32px;\n",
              "      padding: 0 0 0 0;\n",
              "      width: 32px;\n",
              "    }\n",
              "\n",
              "    .colab-df-convert:hover {\n",
              "      background-color: #E2EBFA;\n",
              "      box-shadow: 0px 1px 2px rgba(60, 64, 67, 0.3), 0px 1px 3px 1px rgba(60, 64, 67, 0.15);\n",
              "      fill: #174EA6;\n",
              "    }\n",
              "\n",
              "    [theme=dark] .colab-df-convert {\n",
              "      background-color: #3B4455;\n",
              "      fill: #D2E3FC;\n",
              "    }\n",
              "\n",
              "    [theme=dark] .colab-df-convert:hover {\n",
              "      background-color: #434B5C;\n",
              "      box-shadow: 0px 1px 3px 1px rgba(0, 0, 0, 0.15);\n",
              "      filter: drop-shadow(0px 1px 2px rgba(0, 0, 0, 0.3));\n",
              "      fill: #FFFFFF;\n",
              "    }\n",
              "  </style>\n",
              "\n",
              "      <script>\n",
              "        const buttonEl =\n",
              "          document.querySelector('#df-937668f0-5551-49b2-bb41-4a380ceda43a button.colab-df-convert');\n",
              "        buttonEl.style.display =\n",
              "          google.colab.kernel.accessAllowed ? 'block' : 'none';\n",
              "\n",
              "        async function convertToInteractive(key) {\n",
              "          const element = document.querySelector('#df-937668f0-5551-49b2-bb41-4a380ceda43a');\n",
              "          const dataTable =\n",
              "            await google.colab.kernel.invokeFunction('convertToInteractive',\n",
              "                                                     [key], {});\n",
              "          if (!dataTable) return;\n",
              "\n",
              "          const docLinkHtml = 'Like what you see? Visit the ' +\n",
              "            '<a target=\"_blank\" href=https://colab.research.google.com/notebooks/data_table.ipynb>data table notebook</a>'\n",
              "            + ' to learn more about interactive tables.';\n",
              "          element.innerHTML = '';\n",
              "          dataTable['output_type'] = 'display_data';\n",
              "          await google.colab.output.renderOutput(dataTable, element);\n",
              "          const docLink = document.createElement('div');\n",
              "          docLink.innerHTML = docLinkHtml;\n",
              "          element.appendChild(docLink);\n",
              "        }\n",
              "      </script>\n",
              "    </div>\n",
              "  </div>\n",
              "  "
            ]
          },
          "metadata": {},
          "execution_count": 12
        }
      ]
    },
    {
      "cell_type": "code",
      "source": [
        "social_spam1.head()"
      ],
      "metadata": {
        "colab": {
          "base_uri": "https://localhost:8080/",
          "height": 473
        },
        "id": "3D2gzztLeWZo",
        "outputId": "5b46b09a-5059-4ce5-b25e-defde0e6a753"
      },
      "execution_count": null,
      "outputs": [
        {
          "output_type": "execute_result",
          "data": {
            "text/plain": [
              "         id                name     screen_name  statuses_count  \\\n",
              "0  24858289      Davide Bertoli       davideb66            1299   \n",
              "1  33212890      Elisa D'Ospina    ElisaDospina           18665   \n",
              "2  39773427     Donato Vincenzo      Vladimir65           22987   \n",
              "3  57007623  Rafiela Morales L.  RafielaMorales            7975   \n",
              "4  63258466        § h a † u r♄     FabrizioC_c           20218   \n",
              "\n",
              "   followers_count  friends_count  favourites_count  listed_count  \\\n",
              "0               22             40                 1             0   \n",
              "1            12561           3442             16358           110   \n",
              "2              600            755                14             6   \n",
              "3              398            350                11             2   \n",
              "4              413            405               162             8   \n",
              "\n",
              "                      url lang  ... notifications  \\\n",
              "0                     NaN   it  ...           NaN   \n",
              "1  http://t.co/ceK8TovxwI   it  ...           NaN   \n",
              "2                     NaN   it  ...           NaN   \n",
              "3                     NaN   en  ...           NaN   \n",
              "4  http://t.co/PK5F0JDKcy   it  ...           NaN   \n",
              "\n",
              "                                         description  contributors_enabled  \\\n",
              "0                                                NaN                   NaN   \n",
              "1  Autrice del libro #unavitatuttacurve dal 9 apr...                   NaN   \n",
              "2                            [Live Long and Prosper]                   NaN   \n",
              "3  Cuasi Odontologa*♥,#Bipolar, #Sarcastica & Som...                   NaN   \n",
              "4  I shall rise from my own death, to avenge hers...                   NaN   \n",
              "\n",
              "   following                      created_at            timestamp  \\\n",
              "0        NaN  Tue Mar 17 08:51:12 +0000 2009  2009-03-17 09:51:12   \n",
              "1        NaN  Sun Apr 19 14:38:04 +0000 2009  2009-04-19 16:38:04   \n",
              "2        NaN  Wed May 13 15:34:41 +0000 2009  2009-05-13 17:34:41   \n",
              "3        NaN  Wed Jul 15 12:55:03 +0000 2009  2009-07-15 14:55:03   \n",
              "4        NaN  Wed Aug 05 21:12:49 +0000 2009  2009-08-05 23:12:49   \n",
              "\n",
              "            crawled_at              updated test_set_1 Type  \n",
              "0  2014-04-19 14:46:19  2016-03-15 14:12:22          1    2  \n",
              "1  2014-05-18 23:20:58  2016-03-15 14:17:13          1    2  \n",
              "2  2014-05-13 23:21:54  2016-03-15 14:16:44          1    2  \n",
              "3  2014-05-19 23:24:18  2016-03-15 14:18:54          1    2  \n",
              "4  2014-05-11 23:22:23  2016-03-15 14:17:05          1    2  \n",
              "\n",
              "[5 rows x 42 columns]"
            ],
            "text/html": [
              "\n",
              "  <div id=\"df-0e361090-566b-40ff-8d2d-66f3cd67f8d5\">\n",
              "    <div class=\"colab-df-container\">\n",
              "      <div>\n",
              "<style scoped>\n",
              "    .dataframe tbody tr th:only-of-type {\n",
              "        vertical-align: middle;\n",
              "    }\n",
              "\n",
              "    .dataframe tbody tr th {\n",
              "        vertical-align: top;\n",
              "    }\n",
              "\n",
              "    .dataframe thead th {\n",
              "        text-align: right;\n",
              "    }\n",
              "</style>\n",
              "<table border=\"1\" class=\"dataframe\">\n",
              "  <thead>\n",
              "    <tr style=\"text-align: right;\">\n",
              "      <th></th>\n",
              "      <th>id</th>\n",
              "      <th>name</th>\n",
              "      <th>screen_name</th>\n",
              "      <th>statuses_count</th>\n",
              "      <th>followers_count</th>\n",
              "      <th>friends_count</th>\n",
              "      <th>favourites_count</th>\n",
              "      <th>listed_count</th>\n",
              "      <th>url</th>\n",
              "      <th>lang</th>\n",
              "      <th>...</th>\n",
              "      <th>notifications</th>\n",
              "      <th>description</th>\n",
              "      <th>contributors_enabled</th>\n",
              "      <th>following</th>\n",
              "      <th>created_at</th>\n",
              "      <th>timestamp</th>\n",
              "      <th>crawled_at</th>\n",
              "      <th>updated</th>\n",
              "      <th>test_set_1</th>\n",
              "      <th>Type</th>\n",
              "    </tr>\n",
              "  </thead>\n",
              "  <tbody>\n",
              "    <tr>\n",
              "      <th>0</th>\n",
              "      <td>24858289</td>\n",
              "      <td>Davide Bertoli</td>\n",
              "      <td>davideb66</td>\n",
              "      <td>1299</td>\n",
              "      <td>22</td>\n",
              "      <td>40</td>\n",
              "      <td>1</td>\n",
              "      <td>0</td>\n",
              "      <td>NaN</td>\n",
              "      <td>it</td>\n",
              "      <td>...</td>\n",
              "      <td>NaN</td>\n",
              "      <td>NaN</td>\n",
              "      <td>NaN</td>\n",
              "      <td>NaN</td>\n",
              "      <td>Tue Mar 17 08:51:12 +0000 2009</td>\n",
              "      <td>2009-03-17 09:51:12</td>\n",
              "      <td>2014-04-19 14:46:19</td>\n",
              "      <td>2016-03-15 14:12:22</td>\n",
              "      <td>1</td>\n",
              "      <td>2</td>\n",
              "    </tr>\n",
              "    <tr>\n",
              "      <th>1</th>\n",
              "      <td>33212890</td>\n",
              "      <td>Elisa D'Ospina</td>\n",
              "      <td>ElisaDospina</td>\n",
              "      <td>18665</td>\n",
              "      <td>12561</td>\n",
              "      <td>3442</td>\n",
              "      <td>16358</td>\n",
              "      <td>110</td>\n",
              "      <td>http://t.co/ceK8TovxwI</td>\n",
              "      <td>it</td>\n",
              "      <td>...</td>\n",
              "      <td>NaN</td>\n",
              "      <td>Autrice del libro #unavitatuttacurve dal 9 apr...</td>\n",
              "      <td>NaN</td>\n",
              "      <td>NaN</td>\n",
              "      <td>Sun Apr 19 14:38:04 +0000 2009</td>\n",
              "      <td>2009-04-19 16:38:04</td>\n",
              "      <td>2014-05-18 23:20:58</td>\n",
              "      <td>2016-03-15 14:17:13</td>\n",
              "      <td>1</td>\n",
              "      <td>2</td>\n",
              "    </tr>\n",
              "    <tr>\n",
              "      <th>2</th>\n",
              "      <td>39773427</td>\n",
              "      <td>Donato Vincenzo</td>\n",
              "      <td>Vladimir65</td>\n",
              "      <td>22987</td>\n",
              "      <td>600</td>\n",
              "      <td>755</td>\n",
              "      <td>14</td>\n",
              "      <td>6</td>\n",
              "      <td>NaN</td>\n",
              "      <td>it</td>\n",
              "      <td>...</td>\n",
              "      <td>NaN</td>\n",
              "      <td>[Live Long and Prosper]</td>\n",
              "      <td>NaN</td>\n",
              "      <td>NaN</td>\n",
              "      <td>Wed May 13 15:34:41 +0000 2009</td>\n",
              "      <td>2009-05-13 17:34:41</td>\n",
              "      <td>2014-05-13 23:21:54</td>\n",
              "      <td>2016-03-15 14:16:44</td>\n",
              "      <td>1</td>\n",
              "      <td>2</td>\n",
              "    </tr>\n",
              "    <tr>\n",
              "      <th>3</th>\n",
              "      <td>57007623</td>\n",
              "      <td>Rafiela Morales L.</td>\n",
              "      <td>RafielaMorales</td>\n",
              "      <td>7975</td>\n",
              "      <td>398</td>\n",
              "      <td>350</td>\n",
              "      <td>11</td>\n",
              "      <td>2</td>\n",
              "      <td>NaN</td>\n",
              "      <td>en</td>\n",
              "      <td>...</td>\n",
              "      <td>NaN</td>\n",
              "      <td>Cuasi Odontologa*♥,#Bipolar, #Sarcastica &amp; Som...</td>\n",
              "      <td>NaN</td>\n",
              "      <td>NaN</td>\n",
              "      <td>Wed Jul 15 12:55:03 +0000 2009</td>\n",
              "      <td>2009-07-15 14:55:03</td>\n",
              "      <td>2014-05-19 23:24:18</td>\n",
              "      <td>2016-03-15 14:18:54</td>\n",
              "      <td>1</td>\n",
              "      <td>2</td>\n",
              "    </tr>\n",
              "    <tr>\n",
              "      <th>4</th>\n",
              "      <td>63258466</td>\n",
              "      <td>§ h a † u r♄</td>\n",
              "      <td>FabrizioC_c</td>\n",
              "      <td>20218</td>\n",
              "      <td>413</td>\n",
              "      <td>405</td>\n",
              "      <td>162</td>\n",
              "      <td>8</td>\n",
              "      <td>http://t.co/PK5F0JDKcy</td>\n",
              "      <td>it</td>\n",
              "      <td>...</td>\n",
              "      <td>NaN</td>\n",
              "      <td>I shall rise from my own death, to avenge hers...</td>\n",
              "      <td>NaN</td>\n",
              "      <td>NaN</td>\n",
              "      <td>Wed Aug 05 21:12:49 +0000 2009</td>\n",
              "      <td>2009-08-05 23:12:49</td>\n",
              "      <td>2014-05-11 23:22:23</td>\n",
              "      <td>2016-03-15 14:17:05</td>\n",
              "      <td>1</td>\n",
              "      <td>2</td>\n",
              "    </tr>\n",
              "  </tbody>\n",
              "</table>\n",
              "<p>5 rows × 42 columns</p>\n",
              "</div>\n",
              "      <button class=\"colab-df-convert\" onclick=\"convertToInteractive('df-0e361090-566b-40ff-8d2d-66f3cd67f8d5')\"\n",
              "              title=\"Convert this dataframe to an interactive table.\"\n",
              "              style=\"display:none;\">\n",
              "        \n",
              "  <svg xmlns=\"http://www.w3.org/2000/svg\" height=\"24px\"viewBox=\"0 0 24 24\"\n",
              "       width=\"24px\">\n",
              "    <path d=\"M0 0h24v24H0V0z\" fill=\"none\"/>\n",
              "    <path d=\"M18.56 5.44l.94 2.06.94-2.06 2.06-.94-2.06-.94-.94-2.06-.94 2.06-2.06.94zm-11 1L8.5 8.5l.94-2.06 2.06-.94-2.06-.94L8.5 2.5l-.94 2.06-2.06.94zm10 10l.94 2.06.94-2.06 2.06-.94-2.06-.94-.94-2.06-.94 2.06-2.06.94z\"/><path d=\"M17.41 7.96l-1.37-1.37c-.4-.4-.92-.59-1.43-.59-.52 0-1.04.2-1.43.59L10.3 9.45l-7.72 7.72c-.78.78-.78 2.05 0 2.83L4 21.41c.39.39.9.59 1.41.59.51 0 1.02-.2 1.41-.59l7.78-7.78 2.81-2.81c.8-.78.8-2.07 0-2.86zM5.41 20L4 18.59l7.72-7.72 1.47 1.35L5.41 20z\"/>\n",
              "  </svg>\n",
              "      </button>\n",
              "      \n",
              "  <style>\n",
              "    .colab-df-container {\n",
              "      display:flex;\n",
              "      flex-wrap:wrap;\n",
              "      gap: 12px;\n",
              "    }\n",
              "\n",
              "    .colab-df-convert {\n",
              "      background-color: #E8F0FE;\n",
              "      border: none;\n",
              "      border-radius: 50%;\n",
              "      cursor: pointer;\n",
              "      display: none;\n",
              "      fill: #1967D2;\n",
              "      height: 32px;\n",
              "      padding: 0 0 0 0;\n",
              "      width: 32px;\n",
              "    }\n",
              "\n",
              "    .colab-df-convert:hover {\n",
              "      background-color: #E2EBFA;\n",
              "      box-shadow: 0px 1px 2px rgba(60, 64, 67, 0.3), 0px 1px 3px 1px rgba(60, 64, 67, 0.15);\n",
              "      fill: #174EA6;\n",
              "    }\n",
              "\n",
              "    [theme=dark] .colab-df-convert {\n",
              "      background-color: #3B4455;\n",
              "      fill: #D2E3FC;\n",
              "    }\n",
              "\n",
              "    [theme=dark] .colab-df-convert:hover {\n",
              "      background-color: #434B5C;\n",
              "      box-shadow: 0px 1px 3px 1px rgba(0, 0, 0, 0.15);\n",
              "      filter: drop-shadow(0px 1px 2px rgba(0, 0, 0, 0.3));\n",
              "      fill: #FFFFFF;\n",
              "    }\n",
              "  </style>\n",
              "\n",
              "      <script>\n",
              "        const buttonEl =\n",
              "          document.querySelector('#df-0e361090-566b-40ff-8d2d-66f3cd67f8d5 button.colab-df-convert');\n",
              "        buttonEl.style.display =\n",
              "          google.colab.kernel.accessAllowed ? 'block' : 'none';\n",
              "\n",
              "        async function convertToInteractive(key) {\n",
              "          const element = document.querySelector('#df-0e361090-566b-40ff-8d2d-66f3cd67f8d5');\n",
              "          const dataTable =\n",
              "            await google.colab.kernel.invokeFunction('convertToInteractive',\n",
              "                                                     [key], {});\n",
              "          if (!dataTable) return;\n",
              "\n",
              "          const docLinkHtml = 'Like what you see? Visit the ' +\n",
              "            '<a target=\"_blank\" href=https://colab.research.google.com/notebooks/data_table.ipynb>data table notebook</a>'\n",
              "            + ' to learn more about interactive tables.';\n",
              "          element.innerHTML = '';\n",
              "          dataTable['output_type'] = 'display_data';\n",
              "          await google.colab.output.renderOutput(dataTable, element);\n",
              "          const docLink = document.createElement('div');\n",
              "          docLink.innerHTML = docLinkHtml;\n",
              "          element.appendChild(docLink);\n",
              "        }\n",
              "      </script>\n",
              "    </div>\n",
              "  </div>\n",
              "  "
            ]
          },
          "metadata": {},
          "execution_count": 13
        }
      ]
    },
    {
      "cell_type": "markdown",
      "source": [
        "Remove column in gen_acc and social_spam1"
      ],
      "metadata": {
        "id": "XpE3-DbaeyRQ"
      }
    },
    {
      "cell_type": "code",
      "source": [
        "gen_acc.drop(['test_set_1', 'test_set_2'], inplace = True, axis =1 )"
      ],
      "metadata": {
        "id": "9tqOSx7Reso1"
      },
      "execution_count": null,
      "outputs": []
    },
    {
      "cell_type": "code",
      "source": [
        "social_spam1.drop('test_set_1', inplace = True, axis = 1)"
      ],
      "metadata": {
        "id": "b1yVZ2SSfOYo"
      },
      "execution_count": null,
      "outputs": []
    },
    {
      "cell_type": "code",
      "source": [
        "data = pd.concat([gen_acc, tradi_spam1, social_spam1])"
      ],
      "metadata": {
        "id": "9A0OL8YzfIwh"
      },
      "execution_count": null,
      "outputs": []
    },
    {
      "cell_type": "code",
      "source": [
        "data = pd.DataFrame(data)"
      ],
      "metadata": {
        "id": "yIvCFdj_fVbU"
      },
      "execution_count": null,
      "outputs": []
    },
    {
      "cell_type": "code",
      "source": [
        "data.head()"
      ],
      "metadata": {
        "colab": {
          "base_uri": "https://localhost:8080/",
          "height": 577
        },
        "id": "IXmYDWVMfV76",
        "outputId": "7d8e073e-301a-4cd1-dca7-59e70cd5fca5"
      },
      "execution_count": null,
      "outputs": [
        {
          "output_type": "execute_result",
          "data": {
            "text/plain": [
              "           id               name      screen_name  statuses_count  \\\n",
              "0  1502026416    TASUKU HAYAKAWA         0918Bask            2177   \n",
              "1  2492782375              ro_or         1120Roll            2660   \n",
              "2   293212315           bearclaw        14KBBrown            1254   \n",
              "3   191839658  pocahontas farida      wadespeters          202968   \n",
              "4  3020965143           Ms Kathy  191a5bd05da04dc              82   \n",
              "\n",
              "   followers_count  friends_count  favourites_count  listed_count  \\\n",
              "0              208            332               265             1   \n",
              "1              330            485              3972             5   \n",
              "2              166            177              1185             0   \n",
              "3             2248            981             60304           101   \n",
              "4               21             79                 5             0   \n",
              "\n",
              "                      url lang  ... verified notifications  \\\n",
              "0                     NaN   ja  ...      NaN           NaN   \n",
              "1                     NaN   ja  ...      NaN           NaN   \n",
              "2                     NaN   en  ...      NaN           NaN   \n",
              "3  http://t.co/rGV0HIJGsu   en  ...      NaN           NaN   \n",
              "4                     NaN   en  ...      NaN           NaN   \n",
              "\n",
              "                                         description  contributors_enabled  \\\n",
              "0                              15years ago X.Lines24                   NaN   \n",
              "1   保守見習い地元大好き人間。 経済学、電工、仏教を勉強中、ちなDeではいかんのか？ (*^◯^*)                   NaN   \n",
              "2                 Let me see what your best move is!                   NaN   \n",
              "3  20. menna: #farida #nyc and the 80s actually y...                   NaN   \n",
              "4                                      Cosmetologist                   NaN   \n",
              "\n",
              "   following                      created_at            timestamp  \\\n",
              "0        NaN  Tue Jun 11 11:20:35 +0000 2013  2013-06-11 13:20:35   \n",
              "1        NaN  Tue May 13 10:37:57 +0000 2014  2014-05-13 12:37:57   \n",
              "2        NaN  Wed May 04 23:30:37 +0000 2011  2011-05-05 01:30:37   \n",
              "3        NaN  Fri Sep 17 14:02:10 +0000 2010  2010-09-17 16:02:10   \n",
              "4        NaN  Fri Feb 06 04:10:49 +0000 2015  2015-02-06 05:10:49   \n",
              "\n",
              "            crawled_at              updated Type  \n",
              "0  2015-05-02 06:41:46  2016-03-15 15:53:47    0  \n",
              "1  2015-05-01 17:20:27  2016-03-15 15:53:48    0  \n",
              "2  2015-05-01 18:48:28  2016-03-15 15:53:48    0  \n",
              "3  2015-05-01 13:55:16  2016-03-15 15:53:48    0  \n",
              "4  2015-05-02 01:17:32  2016-03-15 15:53:48    0  \n",
              "\n",
              "[5 rows x 41 columns]"
            ],
            "text/html": [
              "\n",
              "  <div id=\"df-ebce3cfb-f74e-436e-a368-6bf4b074d3df\">\n",
              "    <div class=\"colab-df-container\">\n",
              "      <div>\n",
              "<style scoped>\n",
              "    .dataframe tbody tr th:only-of-type {\n",
              "        vertical-align: middle;\n",
              "    }\n",
              "\n",
              "    .dataframe tbody tr th {\n",
              "        vertical-align: top;\n",
              "    }\n",
              "\n",
              "    .dataframe thead th {\n",
              "        text-align: right;\n",
              "    }\n",
              "</style>\n",
              "<table border=\"1\" class=\"dataframe\">\n",
              "  <thead>\n",
              "    <tr style=\"text-align: right;\">\n",
              "      <th></th>\n",
              "      <th>id</th>\n",
              "      <th>name</th>\n",
              "      <th>screen_name</th>\n",
              "      <th>statuses_count</th>\n",
              "      <th>followers_count</th>\n",
              "      <th>friends_count</th>\n",
              "      <th>favourites_count</th>\n",
              "      <th>listed_count</th>\n",
              "      <th>url</th>\n",
              "      <th>lang</th>\n",
              "      <th>...</th>\n",
              "      <th>verified</th>\n",
              "      <th>notifications</th>\n",
              "      <th>description</th>\n",
              "      <th>contributors_enabled</th>\n",
              "      <th>following</th>\n",
              "      <th>created_at</th>\n",
              "      <th>timestamp</th>\n",
              "      <th>crawled_at</th>\n",
              "      <th>updated</th>\n",
              "      <th>Type</th>\n",
              "    </tr>\n",
              "  </thead>\n",
              "  <tbody>\n",
              "    <tr>\n",
              "      <th>0</th>\n",
              "      <td>1502026416</td>\n",
              "      <td>TASUKU HAYAKAWA</td>\n",
              "      <td>0918Bask</td>\n",
              "      <td>2177</td>\n",
              "      <td>208</td>\n",
              "      <td>332</td>\n",
              "      <td>265</td>\n",
              "      <td>1</td>\n",
              "      <td>NaN</td>\n",
              "      <td>ja</td>\n",
              "      <td>...</td>\n",
              "      <td>NaN</td>\n",
              "      <td>NaN</td>\n",
              "      <td>15years ago X.Lines24</td>\n",
              "      <td>NaN</td>\n",
              "      <td>NaN</td>\n",
              "      <td>Tue Jun 11 11:20:35 +0000 2013</td>\n",
              "      <td>2013-06-11 13:20:35</td>\n",
              "      <td>2015-05-02 06:41:46</td>\n",
              "      <td>2016-03-15 15:53:47</td>\n",
              "      <td>0</td>\n",
              "    </tr>\n",
              "    <tr>\n",
              "      <th>1</th>\n",
              "      <td>2492782375</td>\n",
              "      <td>ro_or</td>\n",
              "      <td>1120Roll</td>\n",
              "      <td>2660</td>\n",
              "      <td>330</td>\n",
              "      <td>485</td>\n",
              "      <td>3972</td>\n",
              "      <td>5</td>\n",
              "      <td>NaN</td>\n",
              "      <td>ja</td>\n",
              "      <td>...</td>\n",
              "      <td>NaN</td>\n",
              "      <td>NaN</td>\n",
              "      <td>保守見習い地元大好き人間。 経済学、電工、仏教を勉強中、ちなDeではいかんのか？ (*^◯^*)</td>\n",
              "      <td>NaN</td>\n",
              "      <td>NaN</td>\n",
              "      <td>Tue May 13 10:37:57 +0000 2014</td>\n",
              "      <td>2014-05-13 12:37:57</td>\n",
              "      <td>2015-05-01 17:20:27</td>\n",
              "      <td>2016-03-15 15:53:48</td>\n",
              "      <td>0</td>\n",
              "    </tr>\n",
              "    <tr>\n",
              "      <th>2</th>\n",
              "      <td>293212315</td>\n",
              "      <td>bearclaw</td>\n",
              "      <td>14KBBrown</td>\n",
              "      <td>1254</td>\n",
              "      <td>166</td>\n",
              "      <td>177</td>\n",
              "      <td>1185</td>\n",
              "      <td>0</td>\n",
              "      <td>NaN</td>\n",
              "      <td>en</td>\n",
              "      <td>...</td>\n",
              "      <td>NaN</td>\n",
              "      <td>NaN</td>\n",
              "      <td>Let me see what your best move is!</td>\n",
              "      <td>NaN</td>\n",
              "      <td>NaN</td>\n",
              "      <td>Wed May 04 23:30:37 +0000 2011</td>\n",
              "      <td>2011-05-05 01:30:37</td>\n",
              "      <td>2015-05-01 18:48:28</td>\n",
              "      <td>2016-03-15 15:53:48</td>\n",
              "      <td>0</td>\n",
              "    </tr>\n",
              "    <tr>\n",
              "      <th>3</th>\n",
              "      <td>191839658</td>\n",
              "      <td>pocahontas farida</td>\n",
              "      <td>wadespeters</td>\n",
              "      <td>202968</td>\n",
              "      <td>2248</td>\n",
              "      <td>981</td>\n",
              "      <td>60304</td>\n",
              "      <td>101</td>\n",
              "      <td>http://t.co/rGV0HIJGsu</td>\n",
              "      <td>en</td>\n",
              "      <td>...</td>\n",
              "      <td>NaN</td>\n",
              "      <td>NaN</td>\n",
              "      <td>20. menna: #farida #nyc and the 80s actually y...</td>\n",
              "      <td>NaN</td>\n",
              "      <td>NaN</td>\n",
              "      <td>Fri Sep 17 14:02:10 +0000 2010</td>\n",
              "      <td>2010-09-17 16:02:10</td>\n",
              "      <td>2015-05-01 13:55:16</td>\n",
              "      <td>2016-03-15 15:53:48</td>\n",
              "      <td>0</td>\n",
              "    </tr>\n",
              "    <tr>\n",
              "      <th>4</th>\n",
              "      <td>3020965143</td>\n",
              "      <td>Ms Kathy</td>\n",
              "      <td>191a5bd05da04dc</td>\n",
              "      <td>82</td>\n",
              "      <td>21</td>\n",
              "      <td>79</td>\n",
              "      <td>5</td>\n",
              "      <td>0</td>\n",
              "      <td>NaN</td>\n",
              "      <td>en</td>\n",
              "      <td>...</td>\n",
              "      <td>NaN</td>\n",
              "      <td>NaN</td>\n",
              "      <td>Cosmetologist</td>\n",
              "      <td>NaN</td>\n",
              "      <td>NaN</td>\n",
              "      <td>Fri Feb 06 04:10:49 +0000 2015</td>\n",
              "      <td>2015-02-06 05:10:49</td>\n",
              "      <td>2015-05-02 01:17:32</td>\n",
              "      <td>2016-03-15 15:53:48</td>\n",
              "      <td>0</td>\n",
              "    </tr>\n",
              "  </tbody>\n",
              "</table>\n",
              "<p>5 rows × 41 columns</p>\n",
              "</div>\n",
              "      <button class=\"colab-df-convert\" onclick=\"convertToInteractive('df-ebce3cfb-f74e-436e-a368-6bf4b074d3df')\"\n",
              "              title=\"Convert this dataframe to an interactive table.\"\n",
              "              style=\"display:none;\">\n",
              "        \n",
              "  <svg xmlns=\"http://www.w3.org/2000/svg\" height=\"24px\"viewBox=\"0 0 24 24\"\n",
              "       width=\"24px\">\n",
              "    <path d=\"M0 0h24v24H0V0z\" fill=\"none\"/>\n",
              "    <path d=\"M18.56 5.44l.94 2.06.94-2.06 2.06-.94-2.06-.94-.94-2.06-.94 2.06-2.06.94zm-11 1L8.5 8.5l.94-2.06 2.06-.94-2.06-.94L8.5 2.5l-.94 2.06-2.06.94zm10 10l.94 2.06.94-2.06 2.06-.94-2.06-.94-.94-2.06-.94 2.06-2.06.94z\"/><path d=\"M17.41 7.96l-1.37-1.37c-.4-.4-.92-.59-1.43-.59-.52 0-1.04.2-1.43.59L10.3 9.45l-7.72 7.72c-.78.78-.78 2.05 0 2.83L4 21.41c.39.39.9.59 1.41.59.51 0 1.02-.2 1.41-.59l7.78-7.78 2.81-2.81c.8-.78.8-2.07 0-2.86zM5.41 20L4 18.59l7.72-7.72 1.47 1.35L5.41 20z\"/>\n",
              "  </svg>\n",
              "      </button>\n",
              "      \n",
              "  <style>\n",
              "    .colab-df-container {\n",
              "      display:flex;\n",
              "      flex-wrap:wrap;\n",
              "      gap: 12px;\n",
              "    }\n",
              "\n",
              "    .colab-df-convert {\n",
              "      background-color: #E8F0FE;\n",
              "      border: none;\n",
              "      border-radius: 50%;\n",
              "      cursor: pointer;\n",
              "      display: none;\n",
              "      fill: #1967D2;\n",
              "      height: 32px;\n",
              "      padding: 0 0 0 0;\n",
              "      width: 32px;\n",
              "    }\n",
              "\n",
              "    .colab-df-convert:hover {\n",
              "      background-color: #E2EBFA;\n",
              "      box-shadow: 0px 1px 2px rgba(60, 64, 67, 0.3), 0px 1px 3px 1px rgba(60, 64, 67, 0.15);\n",
              "      fill: #174EA6;\n",
              "    }\n",
              "\n",
              "    [theme=dark] .colab-df-convert {\n",
              "      background-color: #3B4455;\n",
              "      fill: #D2E3FC;\n",
              "    }\n",
              "\n",
              "    [theme=dark] .colab-df-convert:hover {\n",
              "      background-color: #434B5C;\n",
              "      box-shadow: 0px 1px 3px 1px rgba(0, 0, 0, 0.15);\n",
              "      filter: drop-shadow(0px 1px 2px rgba(0, 0, 0, 0.3));\n",
              "      fill: #FFFFFF;\n",
              "    }\n",
              "  </style>\n",
              "\n",
              "      <script>\n",
              "        const buttonEl =\n",
              "          document.querySelector('#df-ebce3cfb-f74e-436e-a368-6bf4b074d3df button.colab-df-convert');\n",
              "        buttonEl.style.display =\n",
              "          google.colab.kernel.accessAllowed ? 'block' : 'none';\n",
              "\n",
              "        async function convertToInteractive(key) {\n",
              "          const element = document.querySelector('#df-ebce3cfb-f74e-436e-a368-6bf4b074d3df');\n",
              "          const dataTable =\n",
              "            await google.colab.kernel.invokeFunction('convertToInteractive',\n",
              "                                                     [key], {});\n",
              "          if (!dataTable) return;\n",
              "\n",
              "          const docLinkHtml = 'Like what you see? Visit the ' +\n",
              "            '<a target=\"_blank\" href=https://colab.research.google.com/notebooks/data_table.ipynb>data table notebook</a>'\n",
              "            + ' to learn more about interactive tables.';\n",
              "          element.innerHTML = '';\n",
              "          dataTable['output_type'] = 'display_data';\n",
              "          await google.colab.output.renderOutput(dataTable, element);\n",
              "          const docLink = document.createElement('div');\n",
              "          docLink.innerHTML = docLinkHtml;\n",
              "          element.appendChild(docLink);\n",
              "        }\n",
              "      </script>\n",
              "    </div>\n",
              "  </div>\n",
              "  "
            ]
          },
          "metadata": {},
          "execution_count": 18
        }
      ]
    },
    {
      "cell_type": "code",
      "source": [
        "print(\"Gen acc has \" + str(gen_acc.shape[0]) + \" rows, and \" + str(gen_acc.shape[1]) + \" columns\")"
      ],
      "metadata": {
        "colab": {
          "base_uri": "https://localhost:8080/"
        },
        "id": "cJnjCzUbv9gG",
        "outputId": "f6cb0b6c-c7df-48eb-9313-32a38c778980"
      },
      "execution_count": null,
      "outputs": [
        {
          "output_type": "stream",
          "name": "stdout",
          "text": [
            "Gen acc has 3474 rows, and 41 columns\n"
          ]
        }
      ]
    },
    {
      "cell_type": "code",
      "source": [
        "print(\"social_spam1 has \" + str(social_spam1.shape[0]) + \" rows, and \" + str(social_spam1.shape[1]) + \" columns\")"
      ],
      "metadata": {
        "colab": {
          "base_uri": "https://localhost:8080/"
        },
        "id": "epi6rkZsv_tf",
        "outputId": "506d336e-b99e-4443-cfdd-f7edc18c5c49"
      },
      "execution_count": null,
      "outputs": [
        {
          "output_type": "stream",
          "name": "stdout",
          "text": [
            "social_spam1 has 991 rows, and 41 columns\n"
          ]
        }
      ]
    },
    {
      "cell_type": "code",
      "source": [
        "print(\"tradi_spam1 has \" + str(tradi_spam1.shape[0]) + \" rows, and \" + str(tradi_spam1.shape[1]) + \" columns\")"
      ],
      "metadata": {
        "colab": {
          "base_uri": "https://localhost:8080/"
        },
        "id": "aFeX7T6GwC1Q",
        "outputId": "fa46feab-0fa1-4805-87f2-eab58139b6d5"
      },
      "execution_count": null,
      "outputs": [
        {
          "output_type": "stream",
          "name": "stdout",
          "text": [
            "tradi_spam1 has 1000 rows, and 41 columns\n"
          ]
        }
      ]
    },
    {
      "cell_type": "code",
      "source": [
        "print(\"data has \" + str(data.shape[0]) + \" rows, and \" + str(data.shape[1]) + \" columns\")"
      ],
      "metadata": {
        "colab": {
          "base_uri": "https://localhost:8080/"
        },
        "id": "L6U_K444fZi7",
        "outputId": "faae4708-a0f5-47e2-a2b3-1f0bcf62652c"
      },
      "execution_count": null,
      "outputs": [
        {
          "output_type": "stream",
          "name": "stdout",
          "text": [
            "data has 5465 rows, and 41 columns\n"
          ]
        }
      ]
    },
    {
      "cell_type": "markdown",
      "source": [
        "Apply supervised machine learning"
      ],
      "metadata": {
        "id": "Yj4JQ0mlf0dT"
      }
    },
    {
      "cell_type": "markdown",
      "source": [
        "Decision tree is often the best approach for supervised machine learning"
      ],
      "metadata": {
        "id": "eU8VG-x_geAf"
      }
    },
    {
      "cell_type": "code",
      "source": [
        "import xgboost as xgb"
      ],
      "metadata": {
        "id": "sKWSPdB8gMyj"
      },
      "execution_count": null,
      "outputs": []
    },
    {
      "cell_type": "code",
      "source": [
        "x = data.loc[:,data.columns!= 'Type']"
      ],
      "metadata": {
        "id": "2oTTa1Mat2Zl"
      },
      "execution_count": null,
      "outputs": []
    },
    {
      "cell_type": "code",
      "source": [
        "y = data['Type']"
      ],
      "metadata": {
        "id": "p-0eXmA_v9Gi"
      },
      "execution_count": null,
      "outputs": []
    },
    {
      "cell_type": "code",
      "source": [
        "clf = xgb.XGBClassifier()"
      ],
      "metadata": {
        "id": "mC758nB8Nt5H"
      },
      "execution_count": null,
      "outputs": []
    },
    {
      "cell_type": "code",
      "source": [
        "from sklearn.ensemble import RandomForestClassifier"
      ],
      "metadata": {
        "id": "uMrtIcxEwFGM"
      },
      "execution_count": null,
      "outputs": []
    },
    {
      "cell_type": "code",
      "source": [
        "clf1 = RandomForestClassifier()"
      ],
      "metadata": {
        "id": "nvkb2Qv-x_kv"
      },
      "execution_count": null,
      "outputs": []
    },
    {
      "cell_type": "code",
      "source": [
        "x.shape"
      ],
      "metadata": {
        "colab": {
          "base_uri": "https://localhost:8080/"
        },
        "id": "WmTd6BgfyFwk",
        "outputId": "070332db-a3d3-43af-f670-1fb510350450"
      },
      "execution_count": null,
      "outputs": [
        {
          "output_type": "execute_result",
          "data": {
            "text/plain": [
              "(5465, 40)"
            ]
          },
          "metadata": {},
          "execution_count": 29
        }
      ]
    },
    {
      "cell_type": "markdown",
      "source": [
        "Before we need to put data in the machine learning model, need to remove all columns object since the model only accepts numeric inputs"
      ],
      "metadata": {
        "id": "i5Eso0VcvhFv"
      }
    },
    {
      "cell_type": "code",
      "source": [
        "x.dtypes"
      ],
      "metadata": {
        "colab": {
          "base_uri": "https://localhost:8080/"
        },
        "id": "e8-02YQiFoz2",
        "outputId": "5d3a9b27-b436-446e-8407-5745cb4e7ad9"
      },
      "execution_count": null,
      "outputs": [
        {
          "output_type": "execute_result",
          "data": {
            "text/plain": [
              "id                                      int64\n",
              "name                                   object\n",
              "screen_name                            object\n",
              "statuses_count                          int64\n",
              "followers_count                         int64\n",
              "friends_count                           int64\n",
              "favourites_count                        int64\n",
              "listed_count                            int64\n",
              "url                                    object\n",
              "lang                                   object\n",
              "time_zone                              object\n",
              "location                               object\n",
              "default_profile                       float64\n",
              "default_profile_image                 float64\n",
              "geo_enabled                           float64\n",
              "profile_image_url                      object\n",
              "profile_banner_url                     object\n",
              "profile_use_background_image          float64\n",
              "profile_background_image_url_https     object\n",
              "profile_text_color                     object\n",
              "profile_image_url_https                object\n",
              "profile_sidebar_border_color           object\n",
              "profile_background_tile               float64\n",
              "profile_sidebar_fill_color             object\n",
              "profile_background_image_url           object\n",
              "profile_background_color               object\n",
              "profile_link_color                     object\n",
              "utc_offset                            float64\n",
              "is_translator                         float64\n",
              "follow_request_sent                   float64\n",
              "protected                             float64\n",
              "verified                              float64\n",
              "notifications                         float64\n",
              "description                            object\n",
              "contributors_enabled                  float64\n",
              "following                             float64\n",
              "created_at                             object\n",
              "timestamp                              object\n",
              "crawled_at                             object\n",
              "updated                                object\n",
              "dtype: object"
            ]
          },
          "metadata": {},
          "execution_count": 30
        }
      ]
    },
    {
      "cell_type": "code",
      "source": [
        "# get the columns name of object data types\n",
        "columns = x.select_dtypes(include = \"object\").columns"
      ],
      "metadata": {
        "id": "2h7zCGIwzntE"
      },
      "execution_count": null,
      "outputs": []
    },
    {
      "cell_type": "code",
      "source": [
        "\n",
        "for column in columns.values:\n",
        "  x.drop( column, axis = 1, inplace = True )"
      ],
      "metadata": {
        "id": "rT4u3bmvCTTp",
        "colab": {
          "base_uri": "https://localhost:8080/"
        },
        "outputId": "cd145f8f-9637-4c83-b580-8e3950943abe"
      },
      "execution_count": null,
      "outputs": [
        {
          "output_type": "stream",
          "name": "stderr",
          "text": [
            "/usr/local/lib/python3.7/dist-packages/pandas/core/frame.py:4913: SettingWithCopyWarning: \n",
            "A value is trying to be set on a copy of a slice from a DataFrame\n",
            "\n",
            "See the caveats in the documentation: https://pandas.pydata.org/pandas-docs/stable/user_guide/indexing.html#returning-a-view-versus-a-copy\n",
            "  errors=errors,\n"
          ]
        }
      ]
    },
    {
      "cell_type": "code",
      "source": [
        "# drop id as well\n",
        "x.drop( 'id', axis = 1, inplace = True)"
      ],
      "metadata": {
        "colab": {
          "base_uri": "https://localhost:8080/"
        },
        "id": "fEqmxWXiCcwW",
        "outputId": "9470e51b-4acb-452d-cc66-d1b2e86b3a4e"
      },
      "execution_count": null,
      "outputs": [
        {
          "output_type": "stream",
          "name": "stderr",
          "text": [
            "/usr/local/lib/python3.7/dist-packages/pandas/core/frame.py:4913: SettingWithCopyWarning: \n",
            "A value is trying to be set on a copy of a slice from a DataFrame\n",
            "\n",
            "See the caveats in the documentation: https://pandas.pydata.org/pandas-docs/stable/user_guide/indexing.html#returning-a-view-versus-a-copy\n",
            "  errors=errors,\n"
          ]
        }
      ]
    },
    {
      "cell_type": "code",
      "source": [
        "x.shape"
      ],
      "metadata": {
        "colab": {
          "base_uri": "https://localhost:8080/"
        },
        "id": "MFJD9-1LGwzA",
        "outputId": "b55b2195-7782-4a06-f23d-f9c34e7eaa65"
      },
      "execution_count": null,
      "outputs": [
        {
          "output_type": "execute_result",
          "data": {
            "text/plain": [
              "(5465, 18)"
            ]
          },
          "metadata": {},
          "execution_count": 34
        }
      ]
    },
    {
      "cell_type": "markdown",
      "source": [
        "We drop 21 features, need to take care of missing values"
      ],
      "metadata": {
        "id": "DvW39zWWG2cl"
      }
    },
    {
      "cell_type": "code",
      "source": [
        "x['notifications'].isna().sum()"
      ],
      "metadata": {
        "colab": {
          "base_uri": "https://localhost:8080/"
        },
        "id": "9OTS23WHIE6L",
        "outputId": "3a425aa2-3ac5-4768-82f5-42daae9d052b"
      },
      "execution_count": null,
      "outputs": [
        {
          "output_type": "execute_result",
          "data": {
            "text/plain": [
              "5465"
            ]
          },
          "metadata": {},
          "execution_count": 35
        }
      ]
    },
    {
      "cell_type": "code",
      "source": [
        "x['verified'].isna().sum()"
      ],
      "metadata": {
        "colab": {
          "base_uri": "https://localhost:8080/"
        },
        "id": "ZwwcJLP2IgkU",
        "outputId": "511c296c-110e-4392-ee78-b781bf423f84"
      },
      "execution_count": null,
      "outputs": [
        {
          "output_type": "execute_result",
          "data": {
            "text/plain": [
              "5454"
            ]
          },
          "metadata": {},
          "execution_count": 36
        }
      ]
    },
    {
      "cell_type": "code",
      "source": [
        "x.describe()"
      ],
      "metadata": {
        "colab": {
          "base_uri": "https://localhost:8080/",
          "height": 364
        },
        "id": "r9-44ciq1Rmy",
        "outputId": "ff1616f3-6860-4651-e5fb-a6b10c0819df"
      },
      "execution_count": null,
      "outputs": [
        {
          "output_type": "execute_result",
          "data": {
            "text/plain": [
              "       statuses_count  followers_count  friends_count  favourites_count  \\\n",
              "count     5465.000000      5465.000000    5465.000000       5465.000000   \n",
              "mean     11022.081793      1325.925892     981.429277       2997.865874   \n",
              "std      25822.753057     13827.923189    2056.243429       9496.893621   \n",
              "min          1.000000         0.000000       0.000000          0.000000   \n",
              "25%        122.000000       105.000000     172.000000          0.000000   \n",
              "50%       1785.000000       298.000000     398.000000        196.000000   \n",
              "75%      10292.000000       858.000000     986.000000       2381.000000   \n",
              "max     399555.000000    986837.000000   46310.000000     313954.000000   \n",
              "\n",
              "       listed_count  default_profile  default_profile_image  geo_enabled  \\\n",
              "count   5465.000000           1177.0                   14.0       2192.0   \n",
              "mean      14.556267              1.0                    1.0          1.0   \n",
              "std      132.965306              0.0                    0.0          0.0   \n",
              "min        0.000000              1.0                    1.0          1.0   \n",
              "25%        0.000000              1.0                    1.0          1.0   \n",
              "50%        1.000000              1.0                    1.0          1.0   \n",
              "75%        6.000000              1.0                    1.0          1.0   \n",
              "max     6166.000000              1.0                    1.0          1.0   \n",
              "\n",
              "       profile_use_background_image  profile_background_tile    utc_offset  \\\n",
              "count                        4072.0                   1573.0   3378.000000   \n",
              "mean                            1.0                      1.0   -419.626998   \n",
              "std                             0.0                      0.0  20366.528225   \n",
              "min                             1.0                      1.0 -39600.000000   \n",
              "25%                             1.0                      1.0 -18000.000000   \n",
              "50%                             1.0                      1.0   7200.000000   \n",
              "75%                             1.0                      1.0  10800.000000   \n",
              "max                             1.0                      1.0  46800.000000   \n",
              "\n",
              "       is_translator  follow_request_sent  protected  verified  notifications  \\\n",
              "count            1.0                  0.0       78.0      11.0            0.0   \n",
              "mean             1.0                  NaN        1.0       1.0            NaN   \n",
              "std              NaN                  NaN        0.0       0.0            NaN   \n",
              "min              1.0                  NaN        1.0       1.0            NaN   \n",
              "25%              1.0                  NaN        1.0       1.0            NaN   \n",
              "50%              1.0                  NaN        1.0       1.0            NaN   \n",
              "75%              1.0                  NaN        1.0       1.0            NaN   \n",
              "max              1.0                  NaN        1.0       1.0            NaN   \n",
              "\n",
              "       contributors_enabled  following  \n",
              "count                   0.0        0.0  \n",
              "mean                    NaN        NaN  \n",
              "std                     NaN        NaN  \n",
              "min                     NaN        NaN  \n",
              "25%                     NaN        NaN  \n",
              "50%                     NaN        NaN  \n",
              "75%                     NaN        NaN  \n",
              "max                     NaN        NaN  "
            ],
            "text/html": [
              "\n",
              "  <div id=\"df-c7ce03d9-0ce5-4f51-a841-b567fc29997a\">\n",
              "    <div class=\"colab-df-container\">\n",
              "      <div>\n",
              "<style scoped>\n",
              "    .dataframe tbody tr th:only-of-type {\n",
              "        vertical-align: middle;\n",
              "    }\n",
              "\n",
              "    .dataframe tbody tr th {\n",
              "        vertical-align: top;\n",
              "    }\n",
              "\n",
              "    .dataframe thead th {\n",
              "        text-align: right;\n",
              "    }\n",
              "</style>\n",
              "<table border=\"1\" class=\"dataframe\">\n",
              "  <thead>\n",
              "    <tr style=\"text-align: right;\">\n",
              "      <th></th>\n",
              "      <th>statuses_count</th>\n",
              "      <th>followers_count</th>\n",
              "      <th>friends_count</th>\n",
              "      <th>favourites_count</th>\n",
              "      <th>listed_count</th>\n",
              "      <th>default_profile</th>\n",
              "      <th>default_profile_image</th>\n",
              "      <th>geo_enabled</th>\n",
              "      <th>profile_use_background_image</th>\n",
              "      <th>profile_background_tile</th>\n",
              "      <th>utc_offset</th>\n",
              "      <th>is_translator</th>\n",
              "      <th>follow_request_sent</th>\n",
              "      <th>protected</th>\n",
              "      <th>verified</th>\n",
              "      <th>notifications</th>\n",
              "      <th>contributors_enabled</th>\n",
              "      <th>following</th>\n",
              "    </tr>\n",
              "  </thead>\n",
              "  <tbody>\n",
              "    <tr>\n",
              "      <th>count</th>\n",
              "      <td>5465.000000</td>\n",
              "      <td>5465.000000</td>\n",
              "      <td>5465.000000</td>\n",
              "      <td>5465.000000</td>\n",
              "      <td>5465.000000</td>\n",
              "      <td>1177.0</td>\n",
              "      <td>14.0</td>\n",
              "      <td>2192.0</td>\n",
              "      <td>4072.0</td>\n",
              "      <td>1573.0</td>\n",
              "      <td>3378.000000</td>\n",
              "      <td>1.0</td>\n",
              "      <td>0.0</td>\n",
              "      <td>78.0</td>\n",
              "      <td>11.0</td>\n",
              "      <td>0.0</td>\n",
              "      <td>0.0</td>\n",
              "      <td>0.0</td>\n",
              "    </tr>\n",
              "    <tr>\n",
              "      <th>mean</th>\n",
              "      <td>11022.081793</td>\n",
              "      <td>1325.925892</td>\n",
              "      <td>981.429277</td>\n",
              "      <td>2997.865874</td>\n",
              "      <td>14.556267</td>\n",
              "      <td>1.0</td>\n",
              "      <td>1.0</td>\n",
              "      <td>1.0</td>\n",
              "      <td>1.0</td>\n",
              "      <td>1.0</td>\n",
              "      <td>-419.626998</td>\n",
              "      <td>1.0</td>\n",
              "      <td>NaN</td>\n",
              "      <td>1.0</td>\n",
              "      <td>1.0</td>\n",
              "      <td>NaN</td>\n",
              "      <td>NaN</td>\n",
              "      <td>NaN</td>\n",
              "    </tr>\n",
              "    <tr>\n",
              "      <th>std</th>\n",
              "      <td>25822.753057</td>\n",
              "      <td>13827.923189</td>\n",
              "      <td>2056.243429</td>\n",
              "      <td>9496.893621</td>\n",
              "      <td>132.965306</td>\n",
              "      <td>0.0</td>\n",
              "      <td>0.0</td>\n",
              "      <td>0.0</td>\n",
              "      <td>0.0</td>\n",
              "      <td>0.0</td>\n",
              "      <td>20366.528225</td>\n",
              "      <td>NaN</td>\n",
              "      <td>NaN</td>\n",
              "      <td>0.0</td>\n",
              "      <td>0.0</td>\n",
              "      <td>NaN</td>\n",
              "      <td>NaN</td>\n",
              "      <td>NaN</td>\n",
              "    </tr>\n",
              "    <tr>\n",
              "      <th>min</th>\n",
              "      <td>1.000000</td>\n",
              "      <td>0.000000</td>\n",
              "      <td>0.000000</td>\n",
              "      <td>0.000000</td>\n",
              "      <td>0.000000</td>\n",
              "      <td>1.0</td>\n",
              "      <td>1.0</td>\n",
              "      <td>1.0</td>\n",
              "      <td>1.0</td>\n",
              "      <td>1.0</td>\n",
              "      <td>-39600.000000</td>\n",
              "      <td>1.0</td>\n",
              "      <td>NaN</td>\n",
              "      <td>1.0</td>\n",
              "      <td>1.0</td>\n",
              "      <td>NaN</td>\n",
              "      <td>NaN</td>\n",
              "      <td>NaN</td>\n",
              "    </tr>\n",
              "    <tr>\n",
              "      <th>25%</th>\n",
              "      <td>122.000000</td>\n",
              "      <td>105.000000</td>\n",
              "      <td>172.000000</td>\n",
              "      <td>0.000000</td>\n",
              "      <td>0.000000</td>\n",
              "      <td>1.0</td>\n",
              "      <td>1.0</td>\n",
              "      <td>1.0</td>\n",
              "      <td>1.0</td>\n",
              "      <td>1.0</td>\n",
              "      <td>-18000.000000</td>\n",
              "      <td>1.0</td>\n",
              "      <td>NaN</td>\n",
              "      <td>1.0</td>\n",
              "      <td>1.0</td>\n",
              "      <td>NaN</td>\n",
              "      <td>NaN</td>\n",
              "      <td>NaN</td>\n",
              "    </tr>\n",
              "    <tr>\n",
              "      <th>50%</th>\n",
              "      <td>1785.000000</td>\n",
              "      <td>298.000000</td>\n",
              "      <td>398.000000</td>\n",
              "      <td>196.000000</td>\n",
              "      <td>1.000000</td>\n",
              "      <td>1.0</td>\n",
              "      <td>1.0</td>\n",
              "      <td>1.0</td>\n",
              "      <td>1.0</td>\n",
              "      <td>1.0</td>\n",
              "      <td>7200.000000</td>\n",
              "      <td>1.0</td>\n",
              "      <td>NaN</td>\n",
              "      <td>1.0</td>\n",
              "      <td>1.0</td>\n",
              "      <td>NaN</td>\n",
              "      <td>NaN</td>\n",
              "      <td>NaN</td>\n",
              "    </tr>\n",
              "    <tr>\n",
              "      <th>75%</th>\n",
              "      <td>10292.000000</td>\n",
              "      <td>858.000000</td>\n",
              "      <td>986.000000</td>\n",
              "      <td>2381.000000</td>\n",
              "      <td>6.000000</td>\n",
              "      <td>1.0</td>\n",
              "      <td>1.0</td>\n",
              "      <td>1.0</td>\n",
              "      <td>1.0</td>\n",
              "      <td>1.0</td>\n",
              "      <td>10800.000000</td>\n",
              "      <td>1.0</td>\n",
              "      <td>NaN</td>\n",
              "      <td>1.0</td>\n",
              "      <td>1.0</td>\n",
              "      <td>NaN</td>\n",
              "      <td>NaN</td>\n",
              "      <td>NaN</td>\n",
              "    </tr>\n",
              "    <tr>\n",
              "      <th>max</th>\n",
              "      <td>399555.000000</td>\n",
              "      <td>986837.000000</td>\n",
              "      <td>46310.000000</td>\n",
              "      <td>313954.000000</td>\n",
              "      <td>6166.000000</td>\n",
              "      <td>1.0</td>\n",
              "      <td>1.0</td>\n",
              "      <td>1.0</td>\n",
              "      <td>1.0</td>\n",
              "      <td>1.0</td>\n",
              "      <td>46800.000000</td>\n",
              "      <td>1.0</td>\n",
              "      <td>NaN</td>\n",
              "      <td>1.0</td>\n",
              "      <td>1.0</td>\n",
              "      <td>NaN</td>\n",
              "      <td>NaN</td>\n",
              "      <td>NaN</td>\n",
              "    </tr>\n",
              "  </tbody>\n",
              "</table>\n",
              "</div>\n",
              "      <button class=\"colab-df-convert\" onclick=\"convertToInteractive('df-c7ce03d9-0ce5-4f51-a841-b567fc29997a')\"\n",
              "              title=\"Convert this dataframe to an interactive table.\"\n",
              "              style=\"display:none;\">\n",
              "        \n",
              "  <svg xmlns=\"http://www.w3.org/2000/svg\" height=\"24px\"viewBox=\"0 0 24 24\"\n",
              "       width=\"24px\">\n",
              "    <path d=\"M0 0h24v24H0V0z\" fill=\"none\"/>\n",
              "    <path d=\"M18.56 5.44l.94 2.06.94-2.06 2.06-.94-2.06-.94-.94-2.06-.94 2.06-2.06.94zm-11 1L8.5 8.5l.94-2.06 2.06-.94-2.06-.94L8.5 2.5l-.94 2.06-2.06.94zm10 10l.94 2.06.94-2.06 2.06-.94-2.06-.94-.94-2.06-.94 2.06-2.06.94z\"/><path d=\"M17.41 7.96l-1.37-1.37c-.4-.4-.92-.59-1.43-.59-.52 0-1.04.2-1.43.59L10.3 9.45l-7.72 7.72c-.78.78-.78 2.05 0 2.83L4 21.41c.39.39.9.59 1.41.59.51 0 1.02-.2 1.41-.59l7.78-7.78 2.81-2.81c.8-.78.8-2.07 0-2.86zM5.41 20L4 18.59l7.72-7.72 1.47 1.35L5.41 20z\"/>\n",
              "  </svg>\n",
              "      </button>\n",
              "      \n",
              "  <style>\n",
              "    .colab-df-container {\n",
              "      display:flex;\n",
              "      flex-wrap:wrap;\n",
              "      gap: 12px;\n",
              "    }\n",
              "\n",
              "    .colab-df-convert {\n",
              "      background-color: #E8F0FE;\n",
              "      border: none;\n",
              "      border-radius: 50%;\n",
              "      cursor: pointer;\n",
              "      display: none;\n",
              "      fill: #1967D2;\n",
              "      height: 32px;\n",
              "      padding: 0 0 0 0;\n",
              "      width: 32px;\n",
              "    }\n",
              "\n",
              "    .colab-df-convert:hover {\n",
              "      background-color: #E2EBFA;\n",
              "      box-shadow: 0px 1px 2px rgba(60, 64, 67, 0.3), 0px 1px 3px 1px rgba(60, 64, 67, 0.15);\n",
              "      fill: #174EA6;\n",
              "    }\n",
              "\n",
              "    [theme=dark] .colab-df-convert {\n",
              "      background-color: #3B4455;\n",
              "      fill: #D2E3FC;\n",
              "    }\n",
              "\n",
              "    [theme=dark] .colab-df-convert:hover {\n",
              "      background-color: #434B5C;\n",
              "      box-shadow: 0px 1px 3px 1px rgba(0, 0, 0, 0.15);\n",
              "      filter: drop-shadow(0px 1px 2px rgba(0, 0, 0, 0.3));\n",
              "      fill: #FFFFFF;\n",
              "    }\n",
              "  </style>\n",
              "\n",
              "      <script>\n",
              "        const buttonEl =\n",
              "          document.querySelector('#df-c7ce03d9-0ce5-4f51-a841-b567fc29997a button.colab-df-convert');\n",
              "        buttonEl.style.display =\n",
              "          google.colab.kernel.accessAllowed ? 'block' : 'none';\n",
              "\n",
              "        async function convertToInteractive(key) {\n",
              "          const element = document.querySelector('#df-c7ce03d9-0ce5-4f51-a841-b567fc29997a');\n",
              "          const dataTable =\n",
              "            await google.colab.kernel.invokeFunction('convertToInteractive',\n",
              "                                                     [key], {});\n",
              "          if (!dataTable) return;\n",
              "\n",
              "          const docLinkHtml = 'Like what you see? Visit the ' +\n",
              "            '<a target=\"_blank\" href=https://colab.research.google.com/notebooks/data_table.ipynb>data table notebook</a>'\n",
              "            + ' to learn more about interactive tables.';\n",
              "          element.innerHTML = '';\n",
              "          dataTable['output_type'] = 'display_data';\n",
              "          await google.colab.output.renderOutput(dataTable, element);\n",
              "          const docLink = document.createElement('div');\n",
              "          docLink.innerHTML = docLinkHtml;\n",
              "          element.appendChild(docLink);\n",
              "        }\n",
              "      </script>\n",
              "    </div>\n",
              "  </div>\n",
              "  "
            ]
          },
          "metadata": {},
          "execution_count": 37
        }
      ]
    },
    {
      "cell_type": "markdown",
      "source": [
        "Some columns we will drop since they are empty, follow_request_sent, notifications, contributors_enabled, following\n",
        "We will keep verified column because that's a very important attribute"
      ],
      "metadata": {
        "id": "uO-b4DTd1Yf4"
      }
    },
    {
      "cell_type": "code",
      "source": [
        "x.drop(['follow_request_sent', 'notifications', 'contributors_enabled', 'following'], inplace = True, axis = 1 )"
      ],
      "metadata": {
        "colab": {
          "base_uri": "https://localhost:8080/"
        },
        "id": "qsZCHUGt2bl9",
        "outputId": "d96b5d96-f391-41cd-d55c-79bed3061509"
      },
      "execution_count": null,
      "outputs": [
        {
          "output_type": "stream",
          "name": "stderr",
          "text": [
            "/usr/local/lib/python3.7/dist-packages/pandas/core/frame.py:4913: SettingWithCopyWarning: \n",
            "A value is trying to be set on a copy of a slice from a DataFrame\n",
            "\n",
            "See the caveats in the documentation: https://pandas.pydata.org/pandas-docs/stable/user_guide/indexing.html#returning-a-view-versus-a-copy\n",
            "  errors=errors,\n"
          ]
        }
      ]
    },
    {
      "cell_type": "code",
      "source": [
        "x.shape"
      ],
      "metadata": {
        "colab": {
          "base_uri": "https://localhost:8080/"
        },
        "id": "U0a2YS7f3TqC",
        "outputId": "33469997-e49f-4dd3-ea3e-0b92fc495920"
      },
      "execution_count": null,
      "outputs": [
        {
          "output_type": "execute_result",
          "data": {
            "text/plain": [
              "(5465, 14)"
            ]
          },
          "metadata": {},
          "execution_count": 39
        }
      ]
    },
    {
      "cell_type": "code",
      "source": [
        "for i in x.columns:\n",
        "  print(i + \" missing values \" + str( x[i].isna().sum())  + \"/\" + str( x.shape[0] ) )"
      ],
      "metadata": {
        "id": "irnpk5Jl3Ycr",
        "outputId": "df8b77d3-c53a-4193-affb-594b308ac725",
        "colab": {
          "base_uri": "https://localhost:8080/"
        }
      },
      "execution_count": null,
      "outputs": [
        {
          "output_type": "stream",
          "name": "stdout",
          "text": [
            "statuses_count missing values 0/5465\n",
            "followers_count missing values 0/5465\n",
            "friends_count missing values 0/5465\n",
            "favourites_count missing values 0/5465\n",
            "listed_count missing values 0/5465\n",
            "default_profile missing values 4288/5465\n",
            "default_profile_image missing values 5451/5465\n",
            "geo_enabled missing values 3273/5465\n",
            "profile_use_background_image missing values 1393/5465\n",
            "profile_background_tile missing values 3892/5465\n",
            "utc_offset missing values 2087/5465\n",
            "is_translator missing values 5464/5465\n",
            "protected missing values 5387/5465\n",
            "verified missing values 5454/5465\n"
          ]
        }
      ]
    },
    {
      "cell_type": "code",
      "source": [
        "# fill missing values in a column with the mean value\n",
        "x['verified'].fillna(value = 0, inplace = True)\n",
        "for i in x.columns:\n",
        "  x[i].fillna(value = x[i].mean(), inplace = True)"
      ],
      "metadata": {
        "colab": {
          "base_uri": "https://localhost:8080/"
        },
        "id": "rfpjM0ok1ANX",
        "outputId": "cdc17760-1242-4d47-8214-9d6ea852d245"
      },
      "execution_count": null,
      "outputs": [
        {
          "output_type": "stream",
          "name": "stderr",
          "text": [
            "/usr/local/lib/python3.7/dist-packages/pandas/core/generic.py:6392: SettingWithCopyWarning: \n",
            "A value is trying to be set on a copy of a slice from a DataFrame\n",
            "\n",
            "See the caveats in the documentation: https://pandas.pydata.org/pandas-docs/stable/user_guide/indexing.html#returning-a-view-versus-a-copy\n",
            "  return self._update_inplace(result)\n"
          ]
        }
      ]
    },
    {
      "cell_type": "code",
      "source": [
        "for i in x.columns:\n",
        "  print(i + \" missing values \" + str( x[i].isna().sum())  + \"/\" + str( x.shape[0] ) )"
      ],
      "metadata": {
        "colab": {
          "base_uri": "https://localhost:8080/"
        },
        "id": "gjV4Iyso2XZ1",
        "outputId": "5e565c3e-19b9-4c88-a8ab-f0544defc219"
      },
      "execution_count": null,
      "outputs": [
        {
          "output_type": "stream",
          "name": "stdout",
          "text": [
            "statuses_count missing values 0/5465\n",
            "followers_count missing values 0/5465\n",
            "friends_count missing values 0/5465\n",
            "favourites_count missing values 0/5465\n",
            "listed_count missing values 0/5465\n",
            "default_profile missing values 0/5465\n",
            "default_profile_image missing values 0/5465\n",
            "geo_enabled missing values 0/5465\n",
            "profile_use_background_image missing values 0/5465\n",
            "profile_background_tile missing values 0/5465\n",
            "utc_offset missing values 0/5465\n",
            "is_translator missing values 0/5465\n",
            "protected missing values 0/5465\n",
            "verified missing values 0/5465\n"
          ]
        }
      ]
    },
    {
      "cell_type": "code",
      "source": [
        "x.describe()"
      ],
      "metadata": {
        "id": "5hU9dnewEbWi",
        "outputId": "b577b8ea-daea-40a7-87eb-769ab72f8e23",
        "colab": {
          "base_uri": "https://localhost:8080/",
          "height": 364
        }
      },
      "execution_count": null,
      "outputs": [
        {
          "output_type": "execute_result",
          "data": {
            "text/plain": [
              "       statuses_count  followers_count  friends_count  favourites_count  \\\n",
              "count     5465.000000      5465.000000    5465.000000       5465.000000   \n",
              "mean     11022.081793      1325.925892     981.429277       2997.865874   \n",
              "std      25822.753057     13827.923189    2056.243429       9496.893621   \n",
              "min          1.000000         0.000000       0.000000          0.000000   \n",
              "25%        122.000000       105.000000     172.000000          0.000000   \n",
              "50%       1785.000000       298.000000     398.000000        196.000000   \n",
              "75%      10292.000000       858.000000     986.000000       2381.000000   \n",
              "max     399555.000000    986837.000000   46310.000000     313954.000000   \n",
              "\n",
              "       listed_count  default_profile  default_profile_image  geo_enabled  \\\n",
              "count   5465.000000           5465.0                 5465.0       5465.0   \n",
              "mean      14.556267              1.0                    1.0          1.0   \n",
              "std      132.965306              0.0                    0.0          0.0   \n",
              "min        0.000000              1.0                    1.0          1.0   \n",
              "25%        0.000000              1.0                    1.0          1.0   \n",
              "50%        1.000000              1.0                    1.0          1.0   \n",
              "75%        6.000000              1.0                    1.0          1.0   \n",
              "max     6166.000000              1.0                    1.0          1.0   \n",
              "\n",
              "       profile_use_background_image  profile_background_tile    utc_offset  \\\n",
              "count                        5465.0                   5465.0   5465.000000   \n",
              "mean                            1.0                      1.0   -419.626998   \n",
              "std                             0.0                      0.0  16011.321881   \n",
              "min                             1.0                      1.0 -39600.000000   \n",
              "25%                             1.0                      1.0 -14400.000000   \n",
              "50%                             1.0                      1.0   -419.626998   \n",
              "75%                             1.0                      1.0  10800.000000   \n",
              "max                             1.0                      1.0  46800.000000   \n",
              "\n",
              "       is_translator  protected     verified  \n",
              "count         5465.0     5465.0  5465.000000  \n",
              "mean             1.0        1.0     0.002013  \n",
              "std              0.0        0.0     0.044823  \n",
              "min              1.0        1.0     0.000000  \n",
              "25%              1.0        1.0     0.000000  \n",
              "50%              1.0        1.0     0.000000  \n",
              "75%              1.0        1.0     0.000000  \n",
              "max              1.0        1.0     1.000000  "
            ],
            "text/html": [
              "\n",
              "  <div id=\"df-d868c0a7-30b4-404d-a0c3-2058418f8071\">\n",
              "    <div class=\"colab-df-container\">\n",
              "      <div>\n",
              "<style scoped>\n",
              "    .dataframe tbody tr th:only-of-type {\n",
              "        vertical-align: middle;\n",
              "    }\n",
              "\n",
              "    .dataframe tbody tr th {\n",
              "        vertical-align: top;\n",
              "    }\n",
              "\n",
              "    .dataframe thead th {\n",
              "        text-align: right;\n",
              "    }\n",
              "</style>\n",
              "<table border=\"1\" class=\"dataframe\">\n",
              "  <thead>\n",
              "    <tr style=\"text-align: right;\">\n",
              "      <th></th>\n",
              "      <th>statuses_count</th>\n",
              "      <th>followers_count</th>\n",
              "      <th>friends_count</th>\n",
              "      <th>favourites_count</th>\n",
              "      <th>listed_count</th>\n",
              "      <th>default_profile</th>\n",
              "      <th>default_profile_image</th>\n",
              "      <th>geo_enabled</th>\n",
              "      <th>profile_use_background_image</th>\n",
              "      <th>profile_background_tile</th>\n",
              "      <th>utc_offset</th>\n",
              "      <th>is_translator</th>\n",
              "      <th>protected</th>\n",
              "      <th>verified</th>\n",
              "    </tr>\n",
              "  </thead>\n",
              "  <tbody>\n",
              "    <tr>\n",
              "      <th>count</th>\n",
              "      <td>5465.000000</td>\n",
              "      <td>5465.000000</td>\n",
              "      <td>5465.000000</td>\n",
              "      <td>5465.000000</td>\n",
              "      <td>5465.000000</td>\n",
              "      <td>5465.0</td>\n",
              "      <td>5465.0</td>\n",
              "      <td>5465.0</td>\n",
              "      <td>5465.0</td>\n",
              "      <td>5465.0</td>\n",
              "      <td>5465.000000</td>\n",
              "      <td>5465.0</td>\n",
              "      <td>5465.0</td>\n",
              "      <td>5465.000000</td>\n",
              "    </tr>\n",
              "    <tr>\n",
              "      <th>mean</th>\n",
              "      <td>11022.081793</td>\n",
              "      <td>1325.925892</td>\n",
              "      <td>981.429277</td>\n",
              "      <td>2997.865874</td>\n",
              "      <td>14.556267</td>\n",
              "      <td>1.0</td>\n",
              "      <td>1.0</td>\n",
              "      <td>1.0</td>\n",
              "      <td>1.0</td>\n",
              "      <td>1.0</td>\n",
              "      <td>-419.626998</td>\n",
              "      <td>1.0</td>\n",
              "      <td>1.0</td>\n",
              "      <td>0.002013</td>\n",
              "    </tr>\n",
              "    <tr>\n",
              "      <th>std</th>\n",
              "      <td>25822.753057</td>\n",
              "      <td>13827.923189</td>\n",
              "      <td>2056.243429</td>\n",
              "      <td>9496.893621</td>\n",
              "      <td>132.965306</td>\n",
              "      <td>0.0</td>\n",
              "      <td>0.0</td>\n",
              "      <td>0.0</td>\n",
              "      <td>0.0</td>\n",
              "      <td>0.0</td>\n",
              "      <td>16011.321881</td>\n",
              "      <td>0.0</td>\n",
              "      <td>0.0</td>\n",
              "      <td>0.044823</td>\n",
              "    </tr>\n",
              "    <tr>\n",
              "      <th>min</th>\n",
              "      <td>1.000000</td>\n",
              "      <td>0.000000</td>\n",
              "      <td>0.000000</td>\n",
              "      <td>0.000000</td>\n",
              "      <td>0.000000</td>\n",
              "      <td>1.0</td>\n",
              "      <td>1.0</td>\n",
              "      <td>1.0</td>\n",
              "      <td>1.0</td>\n",
              "      <td>1.0</td>\n",
              "      <td>-39600.000000</td>\n",
              "      <td>1.0</td>\n",
              "      <td>1.0</td>\n",
              "      <td>0.000000</td>\n",
              "    </tr>\n",
              "    <tr>\n",
              "      <th>25%</th>\n",
              "      <td>122.000000</td>\n",
              "      <td>105.000000</td>\n",
              "      <td>172.000000</td>\n",
              "      <td>0.000000</td>\n",
              "      <td>0.000000</td>\n",
              "      <td>1.0</td>\n",
              "      <td>1.0</td>\n",
              "      <td>1.0</td>\n",
              "      <td>1.0</td>\n",
              "      <td>1.0</td>\n",
              "      <td>-14400.000000</td>\n",
              "      <td>1.0</td>\n",
              "      <td>1.0</td>\n",
              "      <td>0.000000</td>\n",
              "    </tr>\n",
              "    <tr>\n",
              "      <th>50%</th>\n",
              "      <td>1785.000000</td>\n",
              "      <td>298.000000</td>\n",
              "      <td>398.000000</td>\n",
              "      <td>196.000000</td>\n",
              "      <td>1.000000</td>\n",
              "      <td>1.0</td>\n",
              "      <td>1.0</td>\n",
              "      <td>1.0</td>\n",
              "      <td>1.0</td>\n",
              "      <td>1.0</td>\n",
              "      <td>-419.626998</td>\n",
              "      <td>1.0</td>\n",
              "      <td>1.0</td>\n",
              "      <td>0.000000</td>\n",
              "    </tr>\n",
              "    <tr>\n",
              "      <th>75%</th>\n",
              "      <td>10292.000000</td>\n",
              "      <td>858.000000</td>\n",
              "      <td>986.000000</td>\n",
              "      <td>2381.000000</td>\n",
              "      <td>6.000000</td>\n",
              "      <td>1.0</td>\n",
              "      <td>1.0</td>\n",
              "      <td>1.0</td>\n",
              "      <td>1.0</td>\n",
              "      <td>1.0</td>\n",
              "      <td>10800.000000</td>\n",
              "      <td>1.0</td>\n",
              "      <td>1.0</td>\n",
              "      <td>0.000000</td>\n",
              "    </tr>\n",
              "    <tr>\n",
              "      <th>max</th>\n",
              "      <td>399555.000000</td>\n",
              "      <td>986837.000000</td>\n",
              "      <td>46310.000000</td>\n",
              "      <td>313954.000000</td>\n",
              "      <td>6166.000000</td>\n",
              "      <td>1.0</td>\n",
              "      <td>1.0</td>\n",
              "      <td>1.0</td>\n",
              "      <td>1.0</td>\n",
              "      <td>1.0</td>\n",
              "      <td>46800.000000</td>\n",
              "      <td>1.0</td>\n",
              "      <td>1.0</td>\n",
              "      <td>1.000000</td>\n",
              "    </tr>\n",
              "  </tbody>\n",
              "</table>\n",
              "</div>\n",
              "      <button class=\"colab-df-convert\" onclick=\"convertToInteractive('df-d868c0a7-30b4-404d-a0c3-2058418f8071')\"\n",
              "              title=\"Convert this dataframe to an interactive table.\"\n",
              "              style=\"display:none;\">\n",
              "        \n",
              "  <svg xmlns=\"http://www.w3.org/2000/svg\" height=\"24px\"viewBox=\"0 0 24 24\"\n",
              "       width=\"24px\">\n",
              "    <path d=\"M0 0h24v24H0V0z\" fill=\"none\"/>\n",
              "    <path d=\"M18.56 5.44l.94 2.06.94-2.06 2.06-.94-2.06-.94-.94-2.06-.94 2.06-2.06.94zm-11 1L8.5 8.5l.94-2.06 2.06-.94-2.06-.94L8.5 2.5l-.94 2.06-2.06.94zm10 10l.94 2.06.94-2.06 2.06-.94-2.06-.94-.94-2.06-.94 2.06-2.06.94z\"/><path d=\"M17.41 7.96l-1.37-1.37c-.4-.4-.92-.59-1.43-.59-.52 0-1.04.2-1.43.59L10.3 9.45l-7.72 7.72c-.78.78-.78 2.05 0 2.83L4 21.41c.39.39.9.59 1.41.59.51 0 1.02-.2 1.41-.59l7.78-7.78 2.81-2.81c.8-.78.8-2.07 0-2.86zM5.41 20L4 18.59l7.72-7.72 1.47 1.35L5.41 20z\"/>\n",
              "  </svg>\n",
              "      </button>\n",
              "      \n",
              "  <style>\n",
              "    .colab-df-container {\n",
              "      display:flex;\n",
              "      flex-wrap:wrap;\n",
              "      gap: 12px;\n",
              "    }\n",
              "\n",
              "    .colab-df-convert {\n",
              "      background-color: #E8F0FE;\n",
              "      border: none;\n",
              "      border-radius: 50%;\n",
              "      cursor: pointer;\n",
              "      display: none;\n",
              "      fill: #1967D2;\n",
              "      height: 32px;\n",
              "      padding: 0 0 0 0;\n",
              "      width: 32px;\n",
              "    }\n",
              "\n",
              "    .colab-df-convert:hover {\n",
              "      background-color: #E2EBFA;\n",
              "      box-shadow: 0px 1px 2px rgba(60, 64, 67, 0.3), 0px 1px 3px 1px rgba(60, 64, 67, 0.15);\n",
              "      fill: #174EA6;\n",
              "    }\n",
              "\n",
              "    [theme=dark] .colab-df-convert {\n",
              "      background-color: #3B4455;\n",
              "      fill: #D2E3FC;\n",
              "    }\n",
              "\n",
              "    [theme=dark] .colab-df-convert:hover {\n",
              "      background-color: #434B5C;\n",
              "      box-shadow: 0px 1px 3px 1px rgba(0, 0, 0, 0.15);\n",
              "      filter: drop-shadow(0px 1px 2px rgba(0, 0, 0, 0.3));\n",
              "      fill: #FFFFFF;\n",
              "    }\n",
              "  </style>\n",
              "\n",
              "      <script>\n",
              "        const buttonEl =\n",
              "          document.querySelector('#df-d868c0a7-30b4-404d-a0c3-2058418f8071 button.colab-df-convert');\n",
              "        buttonEl.style.display =\n",
              "          google.colab.kernel.accessAllowed ? 'block' : 'none';\n",
              "\n",
              "        async function convertToInteractive(key) {\n",
              "          const element = document.querySelector('#df-d868c0a7-30b4-404d-a0c3-2058418f8071');\n",
              "          const dataTable =\n",
              "            await google.colab.kernel.invokeFunction('convertToInteractive',\n",
              "                                                     [key], {});\n",
              "          if (!dataTable) return;\n",
              "\n",
              "          const docLinkHtml = 'Like what you see? Visit the ' +\n",
              "            '<a target=\"_blank\" href=https://colab.research.google.com/notebooks/data_table.ipynb>data table notebook</a>'\n",
              "            + ' to learn more about interactive tables.';\n",
              "          element.innerHTML = '';\n",
              "          dataTable['output_type'] = 'display_data';\n",
              "          await google.colab.output.renderOutput(dataTable, element);\n",
              "          const docLink = document.createElement('div');\n",
              "          docLink.innerHTML = docLinkHtml;\n",
              "          element.appendChild(docLink);\n",
              "        }\n",
              "      </script>\n",
              "    </div>\n",
              "  </div>\n",
              "  "
            ]
          },
          "metadata": {},
          "execution_count": 43
        }
      ]
    },
    {
      "cell_type": "markdown",
      "source": [
        "Now done data processing, need to split data to train and test set"
      ],
      "metadata": {
        "id": "us5RSOod32q1"
      }
    },
    {
      "cell_type": "code",
      "source": [
        "from sklearn.model_selection import train_test_split\n",
        "\n",
        "x_train, x_test, y_train, y_test = train_test_split(x, y, test_size = 0.33, random_state = 12)"
      ],
      "metadata": {
        "id": "kOefO5Mg4T-T"
      },
      "execution_count": null,
      "outputs": []
    },
    {
      "cell_type": "markdown",
      "source": [
        "Create a decision tree classifier and train the data"
      ],
      "metadata": {
        "id": "lswHdSvDw76b"
      }
    },
    {
      "cell_type": "code",
      "source": [
        "from sklearn.tree import DecisionTreeClassifier"
      ],
      "metadata": {
        "id": "3or0U4a2O26B"
      },
      "execution_count": null,
      "outputs": []
    },
    {
      "cell_type": "code",
      "source": [
        "clf_tree = DecisionTreeClassifier()"
      ],
      "metadata": {
        "id": "y6gpTdZxHBgQ"
      },
      "execution_count": null,
      "outputs": []
    },
    {
      "cell_type": "code",
      "source": [
        "clf_tree.fit(x_train,y_train)"
      ],
      "metadata": {
        "colab": {
          "base_uri": "https://localhost:8080/"
        },
        "id": "57v_J3T6HJlK",
        "outputId": "ce229d3d-04e0-4ad0-d653-9a30c43f55b3"
      },
      "execution_count": null,
      "outputs": [
        {
          "output_type": "execute_result",
          "data": {
            "text/plain": [
              "DecisionTreeClassifier()"
            ]
          },
          "metadata": {},
          "execution_count": 47
        }
      ]
    },
    {
      "cell_type": "code",
      "source": [
        "x.columns.values.tolist()"
      ],
      "metadata": {
        "colab": {
          "base_uri": "https://localhost:8080/"
        },
        "id": "w6KW1-AEB9jg",
        "outputId": "cf9bb903-6867-4e8a-d55e-1087b70fad91"
      },
      "execution_count": null,
      "outputs": [
        {
          "output_type": "execute_result",
          "data": {
            "text/plain": [
              "['statuses_count',\n",
              " 'followers_count',\n",
              " 'friends_count',\n",
              " 'favourites_count',\n",
              " 'listed_count',\n",
              " 'default_profile',\n",
              " 'default_profile_image',\n",
              " 'geo_enabled',\n",
              " 'profile_use_background_image',\n",
              " 'profile_background_tile',\n",
              " 'utc_offset',\n",
              " 'is_translator',\n",
              " 'protected',\n",
              " 'verified']"
            ]
          },
          "metadata": {},
          "execution_count": 48
        }
      ]
    },
    {
      "cell_type": "markdown",
      "source": [
        "Print out the tree"
      ],
      "metadata": {
        "id": "xGMZ3PF1yEvA"
      }
    },
    {
      "cell_type": "code",
      "source": [
        "from sklearn.tree import export_text\n",
        "\n",
        "r = export_text(clf_tree, feature_names = x.columns.values.tolist())\n",
        "print(r[:1000])"
      ],
      "metadata": {
        "colab": {
          "base_uri": "https://localhost:8080/"
        },
        "id": "xoyGKeeEA7ri",
        "outputId": "c6fa7c82-389c-490f-9ab9-26035841d4c9"
      },
      "execution_count": null,
      "outputs": [
        {
          "output_type": "stream",
          "name": "stdout",
          "text": [
            "|--- favourites_count <= 4.50\n",
            "|   |--- utc_offset <= 3390.19\n",
            "|   |   |--- statuses_count <= 231.00\n",
            "|   |   |   |--- friends_count <= 176.50\n",
            "|   |   |   |   |--- followers_count <= 49.50\n",
            "|   |   |   |   |   |--- friends_count <= 2.00\n",
            "|   |   |   |   |   |   |--- class: 1\n",
            "|   |   |   |   |   |--- friends_count >  2.00\n",
            "|   |   |   |   |   |   |--- statuses_count <= 201.00\n",
            "|   |   |   |   |   |   |   |--- class: 0\n",
            "|   |   |   |   |   |   |--- statuses_count >  201.00\n",
            "|   |   |   |   |   |   |   |--- class: 2\n",
            "|   |   |   |   |--- followers_count >  49.50\n",
            "|   |   |   |   |   |--- class: 1\n",
            "|   |   |   |--- friends_count >  176.50\n",
            "|   |   |   |   |--- favourites_count <= 3.50\n",
            "|   |   |   |   |   |--- class: 1\n",
            "|   |   |   |   |--- favourites_count >  3.50\n",
            "|   |   |   |   |   |--- followers_count <= 482.00\n",
            "|   |   |   |   |   |   |--- class: 0\n",
            "|   |   |   |   |   |--- followers_count >  482.00\n",
            "|   |   |   |   |   |   |--- class: 1\n",
            "|   |   |--- statuses_count >  231.00\n",
            "|   |   |   |--- utc_offset\n"
          ]
        }
      ]
    },
    {
      "cell_type": "markdown",
      "source": [
        "Note: Type 0 is general account, type 1 is traditional spam bot 1 and type 2 is social spam bot 1"
      ],
      "metadata": {
        "id": "KfWrK8P3r9Jv"
      }
    },
    {
      "cell_type": "code",
      "source": [
        "y_test_pred = clf_tree.predict(x_test)"
      ],
      "metadata": {
        "id": "7LTb4ZEtHRNt"
      },
      "execution_count": null,
      "outputs": []
    },
    {
      "cell_type": "markdown",
      "source": [
        "Evaluation"
      ],
      "metadata": {
        "id": "zd8U5UDn3s1J"
      }
    },
    {
      "cell_type": "code",
      "source": [
        "from sklearn.metrics import confusion_matrix, ConfusionMatrixDisplay"
      ],
      "metadata": {
        "id": "8NzRGK-X3VYH"
      },
      "execution_count": null,
      "outputs": []
    },
    {
      "cell_type": "code",
      "source": [
        "cm = confusion_matrix(y_test, y_test_pred)\n",
        "ConfusionMatrixDisplay(cm).plot()"
      ],
      "metadata": {
        "colab": {
          "base_uri": "https://localhost:8080/",
          "height": 296
        },
        "id": "CZkPPtRb3vtd",
        "outputId": "099d3141-1c91-4104-96f6-8e804038fb80"
      },
      "execution_count": null,
      "outputs": [
        {
          "output_type": "execute_result",
          "data": {
            "text/plain": [
              "<sklearn.metrics._plot.confusion_matrix.ConfusionMatrixDisplay at 0x7f9b469d1510>"
            ]
          },
          "metadata": {},
          "execution_count": 52
        },
        {
          "output_type": "display_data",
          "data": {
            "text/plain": [
              "<Figure size 432x288 with 2 Axes>"
            ],
            "image/png": "[encoded data removed]"
          },
          "metadata": {
            "needs_background": "light"
          }
        }
      ]
    },
    {
      "cell_type": "markdown",
      "source": [
        "The diagonal line represent correct predictions while other squares represent incorrect ones"
      ],
      "metadata": {
        "id": "eUPWL46LyIya"
      }
    },
    {
      "cell_type": "code",
      "source": [
        "from sklearn.metrics import accuracy_score"
      ],
      "metadata": {
        "id": "xdRO3iUC4tPd"
      },
      "execution_count": null,
      "outputs": []
    },
    {
      "cell_type": "code",
      "source": [
        "accuracy_score(y_test, y_test_pred)"
      ],
      "metadata": {
        "colab": {
          "base_uri": "https://localhost:8080/"
        },
        "id": "W7_4WxFz8rdn",
        "outputId": "a628f10b-3c71-4748-e792-f1994b819534"
      },
      "execution_count": null,
      "outputs": [
        {
          "output_type": "execute_result",
          "data": {
            "text/plain": [
              "0.9700665188470067"
            ]
          },
          "metadata": {},
          "execution_count": 54
        }
      ]
    },
    {
      "cell_type": "markdown",
      "source": [
        "The accuracy is very high, 97%"
      ],
      "metadata": {
        "id": "Z8t6x-KfyTtE"
      }
    }
  ]
}