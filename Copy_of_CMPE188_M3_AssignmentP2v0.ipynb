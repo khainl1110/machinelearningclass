{
  "cells": [
    {
      "cell_type": "markdown",
      "metadata": {
        "id": "dZnh3EBKpghg"
      },
      "source": [
        "# Module 3 Assignment, Part 2"
      ]
    },
    {
      "cell_type": "markdown",
      "metadata": {
        "id": "12w1EsfD7qeM"
      },
      "source": [
        "## Section 0: Setup & initialization"
      ]
    },
    {
      "cell_type": "markdown",
      "metadata": {
        "id": "wm4q0Qf33wzX"
      },
      "source": [
        "### Setting up your environment  "
      ]
    },
    {
      "cell_type": "code",
      "execution_count": null,
      "metadata": {
        "id": "610ddc04-da05-46a8-a028-95883e2c3f94"
      },
      "outputs": [],
      "source": [
        "import pandas as pd\n",
        "import matplotlib.pyplot as plt\n",
        "import random\n",
        "import os\n",
        "import numpy as np\n",
        "from scipy import stats\n",
        "import seaborn as sns"
      ]
    },
    {
      "cell_type": "markdown",
      "metadata": {
        "id": "PMY3O784idis"
      },
      "source": [
        "###  Loading the data"
      ]
    },
    {
      "cell_type": "markdown",
      "metadata": {
        "id": "KoXVsYIxj5jW"
      },
      "source": [
        "Now we authenticate a Google Drive client to mount your drive and access the data file.\n",
        "\n",
        "**Make sure to follow the interactive instructions.**"
      ]
    },
    {
      "cell_type": "code",
      "execution_count": null,
      "metadata": {
        "colab": {
          "base_uri": "https://localhost:8080/"
        },
        "id": "JZ6SpD9i3hPj",
        "outputId": "6adf34eb-de25-47c9-b494-f0df6ea4e4de"
      },
      "outputs": [
        {
          "output_type": "stream",
          "name": "stdout",
          "text": [
            "Mounted at /content/drive\n"
          ]
        }
      ],
      "source": [
        "from google.colab import drive\n",
        "drive.mount('/content/drive')"
      ]
    },
    {
      "cell_type": "code",
      "execution_count": null,
      "metadata": {
        "id": "_lk2cugJcDLA"
      },
      "outputs": [],
      "source": [
        "os.chdir('/content/drive/MyDrive/Datasets/')"
      ]
    },
    {
      "cell_type": "code",
      "execution_count": null,
      "metadata": {
        "id": "V9xeka-JiesC"
      },
      "outputs": [],
      "source": [
        "df = pd.read_csv('diabetes_data_m3.csv')\n",
        "df.index = df['Unnamed: 0']\n",
        "df = df.drop(['Unnamed: 0'], axis=1)\n",
        "df.index.names = ['DF Index']"
      ]
    },
    {
      "cell_type": "code",
      "execution_count": null,
      "metadata": {
        "colab": {
          "base_uri": "https://localhost:8080/",
          "height": 348
        },
        "id": "GgoI6C3Gi37h",
        "outputId": "09f52cfe-1e53-4538-c172-daabe6c1784d"
      },
      "outputs": [
        {
          "output_type": "execute_result",
          "data": {
            "text/plain": [
              "          encounter_id  hospital_id   age        bmi  elective_surgery  \\\n",
              "DF Index                                                                 \n",
              "0               255490          170  42.0  24.199083                 0   \n",
              "1               157498          161  50.0  39.820844                 0   \n",
              "2               188549           33  77.0  27.215126                 0   \n",
              "3               187313           17  49.0  30.863036                 1   \n",
              "4               259144          159  54.0  23.661272                 0   \n",
              "\n",
              "          ethnicity  gender  height  hospital_admit_source  icu_admit_source  \\\n",
              "DF Index                                                                       \n",
              "0                 2       0   170.2                     14                 1   \n",
              "1                 2       0   163.0                      0                 1   \n",
              "2                 2       0   154.9                      4                 2   \n",
              "3                 5       1   163.0                     13                 2   \n",
              "4                 2       1   177.8                     15                 1   \n",
              "\n",
              "          ...  h1_pao2fio2ratio_max  h1_pao2fio2ratio_min  aids  cirrhosis  \\\n",
              "DF Index  ...                                                                \n",
              "0         ...            242.389041            232.699125     0          0   \n",
              "1         ...            242.389041            232.699125     0          0   \n",
              "2         ...            242.389041            232.699125     0          0   \n",
              "3         ...            242.389041            232.699125     0          0   \n",
              "4         ...            242.389041            232.699125     0          0   \n",
              "\n",
              "          hepatic_failure  immunosuppression  leukemia  lymphoma  \\\n",
              "DF Index                                                           \n",
              "0                       0                  0         0         0   \n",
              "1                       0                  0         0         0   \n",
              "2                       0                  0         0         0   \n",
              "3                       0                  0         0         0   \n",
              "4                       0                  0         0         0   \n",
              "\n",
              "          solid_tumor_with_metastasis  diabetes_mellitus  \n",
              "DF Index                                                  \n",
              "0                                   0                  0  \n",
              "1                                   0                  0  \n",
              "2                                   0                  0  \n",
              "3                                   0                  0  \n",
              "4                                   0                  0  \n",
              "\n",
              "[5 rows x 180 columns]"
            ],
            "text/html": [
              "\n",
              "  <div id=\"df-eb879b77-b458-4636-a3d1-f9963578114a\">\n",
              "    <div class=\"colab-df-container\">\n",
              "      <div>\n",
              "<style scoped>\n",
              "    .dataframe tbody tr th:only-of-type {\n",
              "        vertical-align: middle;\n",
              "    }\n",
              "\n",
              "    .dataframe tbody tr th {\n",
              "        vertical-align: top;\n",
              "    }\n",
              "\n",
              "    .dataframe thead th {\n",
              "        text-align: right;\n",
              "    }\n",
              "</style>\n",
              "<table border=\"1\" class=\"dataframe\">\n",
              "  <thead>\n",
              "    <tr style=\"text-align: right;\">\n",
              "      <th></th>\n",
              "      <th>encounter_id</th>\n",
              "      <th>hospital_id</th>\n",
              "      <th>age</th>\n",
              "      <th>bmi</th>\n",
              "      <th>elective_surgery</th>\n",
              "      <th>ethnicity</th>\n",
              "      <th>gender</th>\n",
              "      <th>height</th>\n",
              "      <th>hospital_admit_source</th>\n",
              "      <th>icu_admit_source</th>\n",
              "      <th>...</th>\n",
              "      <th>h1_pao2fio2ratio_max</th>\n",
              "      <th>h1_pao2fio2ratio_min</th>\n",
              "      <th>aids</th>\n",
              "      <th>cirrhosis</th>\n",
              "      <th>hepatic_failure</th>\n",
              "      <th>immunosuppression</th>\n",
              "      <th>leukemia</th>\n",
              "      <th>lymphoma</th>\n",
              "      <th>solid_tumor_with_metastasis</th>\n",
              "      <th>diabetes_mellitus</th>\n",
              "    </tr>\n",
              "    <tr>\n",
              "      <th>DF Index</th>\n",
              "      <th></th>\n",
              "      <th></th>\n",
              "      <th></th>\n",
              "      <th></th>\n",
              "      <th></th>\n",
              "      <th></th>\n",
              "      <th></th>\n",
              "      <th></th>\n",
              "      <th></th>\n",
              "      <th></th>\n",
              "      <th></th>\n",
              "      <th></th>\n",
              "      <th></th>\n",
              "      <th></th>\n",
              "      <th></th>\n",
              "      <th></th>\n",
              "      <th></th>\n",
              "      <th></th>\n",
              "      <th></th>\n",
              "      <th></th>\n",
              "      <th></th>\n",
              "    </tr>\n",
              "  </thead>\n",
              "  <tbody>\n",
              "    <tr>\n",
              "      <th>0</th>\n",
              "      <td>255490</td>\n",
              "      <td>170</td>\n",
              "      <td>42.0</td>\n",
              "      <td>24.199083</td>\n",
              "      <td>0</td>\n",
              "      <td>2</td>\n",
              "      <td>0</td>\n",
              "      <td>170.2</td>\n",
              "      <td>14</td>\n",
              "      <td>1</td>\n",
              "      <td>...</td>\n",
              "      <td>242.389041</td>\n",
              "      <td>232.699125</td>\n",
              "      <td>0</td>\n",
              "      <td>0</td>\n",
              "      <td>0</td>\n",
              "      <td>0</td>\n",
              "      <td>0</td>\n",
              "      <td>0</td>\n",
              "      <td>0</td>\n",
              "      <td>0</td>\n",
              "    </tr>\n",
              "    <tr>\n",
              "      <th>1</th>\n",
              "      <td>157498</td>\n",
              "      <td>161</td>\n",
              "      <td>50.0</td>\n",
              "      <td>39.820844</td>\n",
              "      <td>0</td>\n",
              "      <td>2</td>\n",
              "      <td>0</td>\n",
              "      <td>163.0</td>\n",
              "      <td>0</td>\n",
              "      <td>1</td>\n",
              "      <td>...</td>\n",
              "      <td>242.389041</td>\n",
              "      <td>232.699125</td>\n",
              "      <td>0</td>\n",
              "      <td>0</td>\n",
              "      <td>0</td>\n",
              "      <td>0</td>\n",
              "      <td>0</td>\n",
              "      <td>0</td>\n",
              "      <td>0</td>\n",
              "      <td>0</td>\n",
              "    </tr>\n",
              "    <tr>\n",
              "      <th>2</th>\n",
              "      <td>188549</td>\n",
              "      <td>33</td>\n",
              "      <td>77.0</td>\n",
              "      <td>27.215126</td>\n",
              "      <td>0</td>\n",
              "      <td>2</td>\n",
              "      <td>0</td>\n",
              "      <td>154.9</td>\n",
              "      <td>4</td>\n",
              "      <td>2</td>\n",
              "      <td>...</td>\n",
              "      <td>242.389041</td>\n",
              "      <td>232.699125</td>\n",
              "      <td>0</td>\n",
              "      <td>0</td>\n",
              "      <td>0</td>\n",
              "      <td>0</td>\n",
              "      <td>0</td>\n",
              "      <td>0</td>\n",
              "      <td>0</td>\n",
              "      <td>0</td>\n",
              "    </tr>\n",
              "    <tr>\n",
              "      <th>3</th>\n",
              "      <td>187313</td>\n",
              "      <td>17</td>\n",
              "      <td>49.0</td>\n",
              "      <td>30.863036</td>\n",
              "      <td>1</td>\n",
              "      <td>5</td>\n",
              "      <td>1</td>\n",
              "      <td>163.0</td>\n",
              "      <td>13</td>\n",
              "      <td>2</td>\n",
              "      <td>...</td>\n",
              "      <td>242.389041</td>\n",
              "      <td>232.699125</td>\n",
              "      <td>0</td>\n",
              "      <td>0</td>\n",
              "      <td>0</td>\n",
              "      <td>0</td>\n",
              "      <td>0</td>\n",
              "      <td>0</td>\n",
              "      <td>0</td>\n",
              "      <td>0</td>\n",
              "    </tr>\n",
              "    <tr>\n",
              "      <th>4</th>\n",
              "      <td>259144</td>\n",
              "      <td>159</td>\n",
              "      <td>54.0</td>\n",
              "      <td>23.661272</td>\n",
              "      <td>0</td>\n",
              "      <td>2</td>\n",
              "      <td>1</td>\n",
              "      <td>177.8</td>\n",
              "      <td>15</td>\n",
              "      <td>1</td>\n",
              "      <td>...</td>\n",
              "      <td>242.389041</td>\n",
              "      <td>232.699125</td>\n",
              "      <td>0</td>\n",
              "      <td>0</td>\n",
              "      <td>0</td>\n",
              "      <td>0</td>\n",
              "      <td>0</td>\n",
              "      <td>0</td>\n",
              "      <td>0</td>\n",
              "      <td>0</td>\n",
              "    </tr>\n",
              "  </tbody>\n",
              "</table>\n",
              "<p>5 rows × 180 columns</p>\n",
              "</div>\n",
              "      <button class=\"colab-df-convert\" onclick=\"convertToInteractive('df-eb879b77-b458-4636-a3d1-f9963578114a')\"\n",
              "              title=\"Convert this dataframe to an interactive table.\"\n",
              "              style=\"display:none;\">\n",
              "        \n",
              "  <svg xmlns=\"http://www.w3.org/2000/svg\" height=\"24px\"viewBox=\"0 0 24 24\"\n",
              "       width=\"24px\">\n",
              "    <path d=\"M0 0h24v24H0V0z\" fill=\"none\"/>\n",
              "    <path d=\"M18.56 5.44l.94 2.06.94-2.06 2.06-.94-2.06-.94-.94-2.06-.94 2.06-2.06.94zm-11 1L8.5 8.5l.94-2.06 2.06-.94-2.06-.94L8.5 2.5l-.94 2.06-2.06.94zm10 10l.94 2.06.94-2.06 2.06-.94-2.06-.94-.94-2.06-.94 2.06-2.06.94z\"/><path d=\"M17.41 7.96l-1.37-1.37c-.4-.4-.92-.59-1.43-.59-.52 0-1.04.2-1.43.59L10.3 9.45l-7.72 7.72c-.78.78-.78 2.05 0 2.83L4 21.41c.39.39.9.59 1.41.59.51 0 1.02-.2 1.41-.59l7.78-7.78 2.81-2.81c.8-.78.8-2.07 0-2.86zM5.41 20L4 18.59l7.72-7.72 1.47 1.35L5.41 20z\"/>\n",
              "  </svg>\n",
              "      </button>\n",
              "      \n",
              "  <style>\n",
              "    .colab-df-container {\n",
              "      display:flex;\n",
              "      flex-wrap:wrap;\n",
              "      gap: 12px;\n",
              "    }\n",
              "\n",
              "    .colab-df-convert {\n",
              "      background-color: #E8F0FE;\n",
              "      border: none;\n",
              "      border-radius: 50%;\n",
              "      cursor: pointer;\n",
              "      display: none;\n",
              "      fill: #1967D2;\n",
              "      height: 32px;\n",
              "      padding: 0 0 0 0;\n",
              "      width: 32px;\n",
              "    }\n",
              "\n",
              "    .colab-df-convert:hover {\n",
              "      background-color: #E2EBFA;\n",
              "      box-shadow: 0px 1px 2px rgba(60, 64, 67, 0.3), 0px 1px 3px 1px rgba(60, 64, 67, 0.15);\n",
              "      fill: #174EA6;\n",
              "    }\n",
              "\n",
              "    [theme=dark] .colab-df-convert {\n",
              "      background-color: #3B4455;\n",
              "      fill: #D2E3FC;\n",
              "    }\n",
              "\n",
              "    [theme=dark] .colab-df-convert:hover {\n",
              "      background-color: #434B5C;\n",
              "      box-shadow: 0px 1px 3px 1px rgba(0, 0, 0, 0.15);\n",
              "      filter: drop-shadow(0px 1px 2px rgba(0, 0, 0, 0.3));\n",
              "      fill: #FFFFFF;\n",
              "    }\n",
              "  </style>\n",
              "\n",
              "      <script>\n",
              "        const buttonEl =\n",
              "          document.querySelector('#df-eb879b77-b458-4636-a3d1-f9963578114a button.colab-df-convert');\n",
              "        buttonEl.style.display =\n",
              "          google.colab.kernel.accessAllowed ? 'block' : 'none';\n",
              "\n",
              "        async function convertToInteractive(key) {\n",
              "          const element = document.querySelector('#df-eb879b77-b458-4636-a3d1-f9963578114a');\n",
              "          const dataTable =\n",
              "            await google.colab.kernel.invokeFunction('convertToInteractive',\n",
              "                                                     [key], {});\n",
              "          if (!dataTable) return;\n",
              "\n",
              "          const docLinkHtml = 'Like what you see? Visit the ' +\n",
              "            '<a target=\"_blank\" href=https://colab.research.google.com/notebooks/data_table.ipynb>data table notebook</a>'\n",
              "            + ' to learn more about interactive tables.';\n",
              "          element.innerHTML = '';\n",
              "          dataTable['output_type'] = 'display_data';\n",
              "          await google.colab.output.renderOutput(dataTable, element);\n",
              "          const docLink = document.createElement('div');\n",
              "          docLink.innerHTML = docLinkHtml;\n",
              "          element.appendChild(docLink);\n",
              "        }\n",
              "      </script>\n",
              "    </div>\n",
              "  </div>\n",
              "  "
            ]
          },
          "metadata": {},
          "execution_count": 5
        }
      ],
      "source": [
        "df.head()"
      ]
    },
    {
      "cell_type": "markdown",
      "metadata": {
        "id": "RU_I60XCoi7e"
      },
      "source": [
        "##Section 1: Naive Bayes"
      ]
    },
    {
      "cell_type": "markdown",
      "metadata": {
        "id": "0rMEblkAwm9j"
      },
      "source": [
        "### 1\\. Split the diabetes dataset into a training and test sets"
      ]
    },
    {
      "cell_type": "code",
      "execution_count": null,
      "metadata": {
        "colab": {
          "base_uri": "https://localhost:8080/"
        },
        "id": "Mnfap9QOdmga",
        "outputId": "4ffc2f65-e544-4edb-cb99-45e4bab5000b"
      },
      "outputs": [
        {
          "output_type": "execute_result",
          "data": {
            "text/plain": [
              "(13016, 180)"
            ]
          },
          "metadata": {},
          "execution_count": 6
        }
      ],
      "source": [
        "df.shape"
      ]
    },
    {
      "cell_type": "code",
      "execution_count": null,
      "metadata": {
        "colab": {
          "base_uri": "https://localhost:8080/"
        },
        "id": "3e8KSL_DdcKl",
        "outputId": "f1eb9378-e881-48cb-e8f9-b9b0b0d74c6b"
      },
      "outputs": [
        {
          "output_type": "execute_result",
          "data": {
            "text/plain": [
              "(13016, 179)"
            ]
          },
          "metadata": {},
          "execution_count": 7
        }
      ],
      "source": [
        "X = df.loc[:, df.columns != 'diabetes_mellitus']\n",
        "X.shape"
      ]
    },
    {
      "cell_type": "code",
      "execution_count": null,
      "metadata": {
        "colab": {
          "base_uri": "https://localhost:8080/"
        },
        "id": "nGCsl7XhdrHv",
        "outputId": "d1eceb02-380d-4a8a-d09d-f3e61e3c4560"
      },
      "outputs": [
        {
          "output_type": "execute_result",
          "data": {
            "text/plain": [
              "DF Index\n",
              "0    0\n",
              "1    0\n",
              "2    0\n",
              "3    0\n",
              "4    0\n",
              "Name: diabetes_mellitus, dtype: int64"
            ]
          },
          "metadata": {},
          "execution_count": 8
        }
      ],
      "source": [
        "y = df['diabetes_mellitus']\n",
        "y.head()"
      ]
    },
    {
      "cell_type": "code",
      "execution_count": null,
      "metadata": {
        "id": "IkXiU69slif7"
      },
      "outputs": [],
      "source": [
        "from sklearn.model_selection import train_test_split\n",
        "\n",
        "x_train, x_test, y_train, y_test = train_test_split(X, y, test_size = 0.33, random_state = 12)\n"
      ]
    },
    {
      "cell_type": "markdown",
      "metadata": {
        "id": "D6sKbZxPAwbm"
      },
      "source": [
        "### 2\\. Train a Naive Bayes classifier on the diabetes data "
      ]
    },
    {
      "cell_type": "code",
      "execution_count": null,
      "metadata": {
        "colab": {
          "base_uri": "https://localhost:8080/"
        },
        "id": "vVxRHfbpoVeN",
        "outputId": "06773005-d869-411d-d1b0-21f90e30de76"
      },
      "outputs": [
        {
          "output_type": "execute_result",
          "data": {
            "text/plain": [
              "GaussianNB()"
            ]
          },
          "metadata": {},
          "execution_count": 10
        }
      ],
      "source": [
        "from sklearn.naive_bayes import GaussianNB\n",
        "\n",
        "clfGau = GaussianNB()\n",
        "clfGau.fit(x_train, y_train)"
      ]
    },
    {
      "cell_type": "markdown",
      "metadata": {
        "id": "9av02iEHAxFV"
      },
      "source": [
        "### 3\\. Use your classifier on your test data & show the [classification_report](https://scikit-learn.org/stable/modules/generated/sklearn.metrics.classification_report.html) for its performance"
      ]
    },
    {
      "cell_type": "code",
      "execution_count": null,
      "metadata": {
        "id": "fkP4mnWqAxFV"
      },
      "outputs": [],
      "source": [
        "from sklearn.metrics import classification_report"
      ]
    },
    {
      "cell_type": "code",
      "execution_count": null,
      "metadata": {
        "colab": {
          "base_uri": "https://localhost:8080/"
        },
        "id": "t2dBY7osHd4M",
        "outputId": "d87601c5-df34-438a-9feb-10a28d5c1210"
      },
      "outputs": [
        {
          "output_type": "stream",
          "name": "stdout",
          "text": [
            "              precision    recall  f1-score   support\n",
            "\n",
            "           0       0.85      0.88      0.86      3351\n",
            "           1       0.51      0.43      0.46       945\n",
            "\n",
            "    accuracy                           0.78      4296\n",
            "   macro avg       0.68      0.66      0.66      4296\n",
            "weighted avg       0.77      0.78      0.78      4296\n",
            "\n"
          ]
        }
      ],
      "source": [
        "y_test_pred = clfGau.predict(x_test)\n",
        "print( classification_report(y_test, y_test_pred ) )"
      ]
    },
    {
      "cell_type": "markdown",
      "metadata": {
        "id": "577Ra6vjAxFW"
      },
      "source": [
        "### 4\\. Show the confusion matrix heatmap for the predictions"
      ]
    },
    {
      "cell_type": "code",
      "execution_count": null,
      "metadata": {
        "colab": {
          "base_uri": "https://localhost:8080/",
          "height": 297
        },
        "id": "yNj4ZRI2AxFW",
        "outputId": "10019485-2474-4f96-9d91-d68bad49c331"
      },
      "outputs": [
        {
          "output_type": "execute_result",
          "data": {
            "text/plain": [
              "<sklearn.metrics._plot.confusion_matrix.ConfusionMatrixDisplay at 0x7f1113ecbe90>"
            ]
          },
          "metadata": {},
          "execution_count": 13
        },
        {
          "output_type": "display_data",
          "data": {
            "text/plain": [
              "<Figure size 432x288 with 2 Axes>"
            ],
            "image/png": "[encoded data removed]"
          },
          "metadata": {
            "needs_background": "light"
          }
        }
      ],
      "source": [
        "from sklearn.metrics import confusion_matrix, ConfusionMatrixDisplay\n",
        "cm = confusion_matrix(y_test, y_test_pred)\n",
        "ConfusionMatrixDisplay(cm).plot()"
      ]
    },
    {
      "cell_type": "markdown",
      "metadata": {
        "id": "6Alsf0WhmYzx"
      },
      "source": [
        "## Section 2: Decision Tree"
      ]
    },
    {
      "cell_type": "markdown",
      "metadata": {
        "id": "A9I9c2b7_UDh"
      },
      "source": [
        "### 1\\.  Train a Decision Tree Classifier on the diabetes data"
      ]
    },
    {
      "cell_type": "code",
      "execution_count": null,
      "metadata": {
        "colab": {
          "base_uri": "https://localhost:8080/"
        },
        "id": "H5m5aWDymDaB",
        "outputId": "63c9bd5b-aff3-4b9c-e449-862fa7c84179"
      },
      "outputs": [
        {
          "output_type": "execute_result",
          "data": {
            "text/plain": [
              "DecisionTreeClassifier(random_state=0)"
            ]
          },
          "metadata": {},
          "execution_count": 14
        }
      ],
      "source": [
        "from sklearn.tree import DecisionTreeClassifier\n",
        "\n",
        "clf_tree = DecisionTreeClassifier(random_state = 0)\n",
        "clf_tree.fit(x_train, y_train)"
      ]
    },
    {
      "cell_type": "markdown",
      "metadata": {
        "id": "PujJVQJT_UDv"
      },
      "source": [
        "### 2\\. Use your classifier on your test data & show the [classification_report](https://scikit-learn.org/stable/modules/generated/sklearn.metrics.classification_report.html) for its performance"
      ]
    },
    {
      "cell_type": "code",
      "execution_count": null,
      "metadata": {
        "colab": {
          "base_uri": "https://localhost:8080/"
        },
        "id": "FImBi-eF_UDv",
        "outputId": "f36f08f6-5b91-4786-b5b4-5afd52e48bba"
      },
      "outputs": [
        {
          "output_type": "stream",
          "name": "stdout",
          "text": [
            "              precision    recall  f1-score   support\n",
            "\n",
            "           0       0.84      0.82      0.83      3351\n",
            "           1       0.41      0.45      0.43       945\n",
            "\n",
            "    accuracy                           0.74      4296\n",
            "   macro avg       0.63      0.63      0.63      4296\n",
            "weighted avg       0.75      0.74      0.74      4296\n",
            "\n"
          ]
        }
      ],
      "source": [
        "y_test_pred_tree = clf_tree.predict(x_test)\n",
        "print( classification_report(y_test, y_test_pred_tree ) )"
      ]
    },
    {
      "cell_type": "markdown",
      "metadata": {
        "id": "Iwww4FbA_UDv"
      },
      "source": [
        "### 3\\. Show the confusion matrix heatmap for the predictions"
      ]
    },
    {
      "cell_type": "code",
      "execution_count": null,
      "metadata": {
        "colab": {
          "base_uri": "https://localhost:8080/",
          "height": 297
        },
        "id": "OWyMsefp_UDv",
        "outputId": "1d82d25e-0abf-46d0-92b0-a991d384e218"
      },
      "outputs": [
        {
          "output_type": "execute_result",
          "data": {
            "text/plain": [
              "<sklearn.metrics._plot.confusion_matrix.ConfusionMatrixDisplay at 0x7f1112cd5050>"
            ]
          },
          "metadata": {},
          "execution_count": 16
        },
        {
          "output_type": "display_data",
          "data": {
            "text/plain": [
              "<Figure size 432x288 with 2 Axes>"
            ],
            "image/png": "[encoded data removed]"
          },
          "metadata": {
            "needs_background": "light"
          }
        }
      ],
      "source": [
        "cm_tree = confusion_matrix(y_test, y_test_pred_tree)\n",
        "ConfusionMatrixDisplay(cm_tree).plot()"
      ]
    },
    {
      "cell_type": "markdown",
      "metadata": {
        "id": "vW8G85HNxwQz"
      },
      "source": [
        "### 4\\. Visualize the decision tree as a [tree diagram](https://https://scikit-learn.org/stable/modules/generated/sklearn.tree.plot_tree.html)"
      ]
    },
    {
      "cell_type": "code",
      "execution_count": null,
      "metadata": {
        "id": "mLJ62e_TxwQz"
      },
      "outputs": [],
      "source": [
        "from sklearn import tree"
      ]
    },
    {
      "cell_type": "code",
      "execution_count": null,
      "metadata": {
        "colab": {
          "base_uri": "https://localhost:8080/",
          "height": 1000
        },
        "id": "qCJsSy1m-nsZ",
        "outputId": "3dac7f1b-e8cd-44e7-bbe4-d9cf19bed53a"
      },
      "outputs": [
        {
          "output_type": "execute_result",
          "data": {
            "text/plain": [
              "[Text(0.5448026259197671, 0.9861111111111112, 'X[106] <= 189.5\\ngini = 0.342\\nsamples = 8720\\nvalue = [6810, 1910]'),\n",
              " Text(0.22324668524203783, 0.9583333333333334, 'X[106] <= 135.5\\ngini = 0.206\\nsamples = 6321\\nvalue = [5584, 737]'),\n",
              " Text(0.09975065785459317, 0.9305555555555556, 'X[104] <= 1.502\\ngini = 0.123\\nsamples = 3237\\nvalue = [3023, 214]'),\n",
              " Text(0.06321037442506303, 0.9027777777777778, 'X[106] <= 113.5\\ngini = 0.088\\nsamples = 2520\\nvalue = [2404, 116]'),\n",
              " Text(0.035597756873326586, 0.875, 'X[3] <= 32.894\\ngini = 0.04\\nsamples = 1412\\nvalue = [1383, 29]'),\n",
              " Text(0.012685545281269051, 0.8472222222222222, 'X[88] <= 204.5\\ngini = 0.025\\nsamples = 1199\\nvalue = [1184, 15]'),\n",
              " Text(0.007933451051357138, 0.8194444444444444, 'X[62] <= 110.5\\ngini = 0.023\\nsamples = 1196\\nvalue = [1182, 14]'),\n",
              " Text(0.0031414748169333756, 0.7916666666666666, 'X[113] <= 36.55\\ngini = 0.375\\nsamples = 4\\nvalue = [3, 1]'),\n",
              " Text(0.0015707374084666878, 0.7638888888888888, 'gini = 0.0\\nsamples = 3\\nvalue = [3, 0]'),\n",
              " Text(0.0047122122254000635, 0.7638888888888888, 'gini = 0.0\\nsamples = 1\\nvalue = [0, 1]'),\n",
              " Text(0.0127254272857809, 0.7916666666666666, 'X[124] <= 1.35\\ngini = 0.022\\nsamples = 1192\\nvalue = [1179, 13]'),\n",
              " Text(0.007853687042333439, 0.7638888888888888, 'X[108] <= 27.5\\ngini = 0.32\\nsamples = 5\\nvalue = [4, 1]'),\n",
              " Text(0.006282949633866751, 0.7361111111111112, 'gini = 0.0\\nsamples = 4\\nvalue = [4, 0]'),\n",
              " Text(0.009424424450800127, 0.7361111111111112, 'gini = 0.0\\nsamples = 1\\nvalue = [0, 1]'),\n",
              " Text(0.01759716752922836, 0.7638888888888888, 'X[51] <= 40.5\\ngini = 0.02\\nsamples = 1187\\nvalue = [1175, 12]'),\n",
              " Text(0.012565899267733502, 0.7361111111111112, 'X[41] <= 1080.907\\ngini = 0.153\\nsamples = 24\\nvalue = [22, 2]'),\n",
              " Text(0.010995161859266814, 0.7083333333333334, 'gini = 0.0\\nsamples = 2\\nvalue = [0, 2]'),\n",
              " Text(0.014136636676200189, 0.7083333333333334, 'gini = 0.0\\nsamples = 22\\nvalue = [22, 0]'),\n",
              " Text(0.02262843579072322, 0.7361111111111112, 'X[140] <= 8.75\\ngini = 0.017\\nsamples = 1163\\nvalue = [1153, 10]'),\n",
              " Text(0.017278111493133564, 0.7083333333333334, 'X[82] <= 104.5\\ngini = 0.159\\nsamples = 23\\nvalue = [21, 2]'),\n",
              " Text(0.015707374084666877, 0.6805555555555556, 'X[0] <= 259979.0\\ngini = 0.087\\nsamples = 22\\nvalue = [21, 1]'),\n",
              " Text(0.014136636676200189, 0.6527777777777778, 'gini = 0.0\\nsamples = 21\\nvalue = [21, 0]'),\n",
              " Text(0.017278111493133564, 0.6527777777777778, 'gini = 0.0\\nsamples = 1\\nvalue = [0, 1]'),\n",
              " Text(0.018848848901600254, 0.6805555555555556, 'gini = 0.0\\nsamples = 1\\nvalue = [0, 1]'),\n",
              " Text(0.027978760088312876, 0.7083333333333334, 'X[33] <= 40.5\\ngini = 0.014\\nsamples = 1140\\nvalue = [1132, 8]'),\n",
              " Text(0.021990323718533628, 0.6805555555555556, 'X[47] <= 60.5\\ngini = 0.219\\nsamples = 8\\nvalue = [7, 1]'),\n",
              " Text(0.02041958631006694, 0.6527777777777778, 'gini = 0.0\\nsamples = 7\\nvalue = [7, 0]'),\n",
              " Text(0.023561061127000314, 0.6527777777777778, 'gini = 0.0\\nsamples = 1\\nvalue = [0, 1]'),\n",
              " Text(0.033967196458092125, 0.6805555555555556, 'X[120] <= 4.55\\ngini = 0.012\\nsamples = 1132\\nvalue = [1125, 7]'),\n",
              " Text(0.02670253594393369, 0.6527777777777778, 'X[61] <= 71.5\\ngini = 0.008\\nsamples = 1041\\nvalue = [1037, 4]'),\n",
              " Text(0.0223830080706503, 0.625, 'X[108] <= 31.0\\ngini = 0.117\\nsamples = 16\\nvalue = [15, 1]'),\n",
              " Text(0.02081227066218361, 0.5972222222222222, 'gini = 0.0\\nsamples = 15\\nvalue = [15, 0]'),\n",
              " Text(0.023953745479116988, 0.5972222222222222, 'gini = 0.0\\nsamples = 1\\nvalue = [0, 1]'),\n",
              " Text(0.03102206381721708, 0.625, 'X[12] <= 0.5\\ngini = 0.006\\nsamples = 1025\\nvalue = [1022, 3]'),\n",
              " Text(0.027095220296050365, 0.5972222222222222, 'X[98] <= 0.35\\ngini = 0.049\\nsamples = 80\\nvalue = [78, 2]'),\n",
              " Text(0.023953745479116988, 0.5694444444444444, 'X[54] <= 118.5\\ngini = 0.5\\nsamples = 2\\nvalue = [1, 1]'),\n",
              " Text(0.0223830080706503, 0.5416666666666666, 'gini = 0.0\\nsamples = 1\\nvalue = [1, 0]'),\n",
              " Text(0.025524482887583674, 0.5416666666666666, 'gini = 0.0\\nsamples = 1\\nvalue = [0, 1]'),\n",
              " Text(0.030236695112983738, 0.5694444444444444, 'X[64] <= 198.5\\ngini = 0.025\\nsamples = 78\\nvalue = [77, 1]'),\n",
              " Text(0.02866595770451705, 0.5416666666666666, 'gini = 0.0\\nsamples = 76\\nvalue = [76, 0]'),\n",
              " Text(0.03180743252145043, 0.5416666666666666, 'X[75] <= 66.0\\ngini = 0.5\\nsamples = 2\\nvalue = [1, 1]'),\n",
              " Text(0.030236695112983738, 0.5138888888888888, 'gini = 0.0\\nsamples = 1\\nvalue = [1, 0]'),\n",
              " Text(0.033378169929917115, 0.5138888888888888, 'gini = 0.0\\nsamples = 1\\nvalue = [0, 1]'),\n",
              " Text(0.0349489073383838, 0.5972222222222222, 'X[38] <= 56.5\\ngini = 0.002\\nsamples = 945\\nvalue = [944, 1]'),\n",
              " Text(0.033378169929917115, 0.5694444444444444, 'gini = 0.0\\nsamples = 923\\nvalue = [923, 0]'),\n",
              " Text(0.03651964474685049, 0.5694444444444444, 'X[82] <= 75.5\\ngini = 0.087\\nsamples = 22\\nvalue = [21, 1]'),\n",
              " Text(0.0349489073383838, 0.5416666666666666, 'gini = 0.0\\nsamples = 1\\nvalue = [0, 1]'),\n",
              " Text(0.038090382155317175, 0.5416666666666666, 'gini = 0.0\\nsamples = 21\\nvalue = [21, 0]'),\n",
              " Text(0.041231856972250555, 0.6527777777777778, 'X[0] <= 276358.5\\ngini = 0.064\\nsamples = 91\\nvalue = [88, 3]'),\n",
              " Text(0.03966111956378386, 0.625, 'X[99] <= 0.25\\ngini = 0.043\\nsamples = 90\\nvalue = [88, 2]'),\n",
              " Text(0.038090382155317175, 0.5972222222222222, 'gini = 0.0\\nsamples = 1\\nvalue = [0, 1]'),\n",
              " Text(0.041231856972250555, 0.5972222222222222, 'X[116] <= 3.2\\ngini = 0.022\\nsamples = 89\\nvalue = [88, 1]'),\n",
              " Text(0.03966111956378386, 0.5694444444444444, 'gini = 0.0\\nsamples = 87\\nvalue = [87, 0]'),\n",
              " Text(0.04280259438071724, 0.5694444444444444, 'X[103] <= 8.05\\ngini = 0.5\\nsamples = 2\\nvalue = [1, 1]'),\n",
              " Text(0.041231856972250555, 0.5416666666666666, 'gini = 0.0\\nsamples = 1\\nvalue = [1, 0]'),\n",
              " Text(0.04437333178918393, 0.5416666666666666, 'gini = 0.0\\nsamples = 1\\nvalue = [0, 1]'),\n",
              " Text(0.04280259438071724, 0.625, 'gini = 0.0\\nsamples = 1\\nvalue = [0, 1]'),\n",
              " Text(0.017437639511180963, 0.8194444444444444, 'X[144] <= 1.277\\ngini = 0.444\\nsamples = 3\\nvalue = [2, 1]'),\n",
              " Text(0.015866902102714277, 0.7916666666666666, 'gini = 0.0\\nsamples = 1\\nvalue = [0, 1]'),\n",
              " Text(0.01900837691964765, 0.7916666666666666, 'gini = 0.0\\nsamples = 2\\nvalue = [2, 0]'),\n",
              " Text(0.058509968465384116, 0.8472222222222222, 'X[52] <= 145.5\\ngini = 0.123\\nsamples = 213\\nvalue = [199, 14]'),\n",
              " Text(0.054583124944217395, 0.8194444444444444, 'X[54] <= 148.5\\ngini = 0.1\\nsamples = 209\\nvalue = [198, 11]'),\n",
              " Text(0.05144165012728402, 0.7916666666666666, 'X[84] <= 57.0\\ngini = 0.075\\nsamples = 204\\nvalue = [196, 8]'),\n",
              " Text(0.049870912718817335, 0.7638888888888888, 'X[88] <= 178.0\\ngini = 0.067\\nsamples = 203\\nvalue = [196, 7]'),\n",
              " Text(0.04830017531035065, 0.7361111111111112, 'X[96] <= 1.25\\ngini = 0.058\\nsamples = 202\\nvalue = [196, 6]'),\n",
              " Text(0.04672943790188396, 0.7083333333333334, 'gini = 0.0\\nsamples = 1\\nvalue = [0, 1]'),\n",
              " Text(0.049870912718817335, 0.7083333333333334, 'X[157] <= 77.7\\ngini = 0.049\\nsamples = 201\\nvalue = [196, 5]'),\n",
              " Text(0.04830017531035065, 0.6805555555555556, 'X[136] <= 73.0\\ngini = 0.039\\nsamples = 200\\nvalue = [196, 4]'),\n",
              " Text(0.04672943790188396, 0.6527777777777778, 'gini = 0.0\\nsamples = 1\\nvalue = [0, 1]'),\n",
              " Text(0.049870912718817335, 0.6527777777777778, 'X[8] <= 1.0\\ngini = 0.03\\nsamples = 199\\nvalue = [196, 3]'),\n",
              " Text(0.045944069197650615, 0.625, 'X[92] <= 174.0\\ngini = 0.32\\nsamples = 5\\nvalue = [4, 1]'),\n",
              " Text(0.04437333178918393, 0.5972222222222222, 'gini = 0.0\\nsamples = 4\\nvalue = [4, 0]'),\n",
              " Text(0.0475148066061173, 0.5972222222222222, 'gini = 0.0\\nsamples = 1\\nvalue = [0, 1]'),\n",
              " Text(0.053797756239984056, 0.625, 'X[98] <= 0.25\\ngini = 0.02\\nsamples = 194\\nvalue = [192, 2]'),\n",
              " Text(0.050656281423050675, 0.5972222222222222, 'X[145] <= 1.02\\ngini = 0.278\\nsamples = 6\\nvalue = [5, 1]'),\n",
              " Text(0.04908554401458399, 0.5694444444444444, 'gini = 0.0\\nsamples = 1\\nvalue = [0, 1]'),\n",
              " Text(0.05222701883151737, 0.5694444444444444, 'gini = 0.0\\nsamples = 5\\nvalue = [5, 0]'),\n",
              " Text(0.05693923105691743, 0.5972222222222222, 'X[18] <= 1506.05\\ngini = 0.011\\nsamples = 188\\nvalue = [187, 1]'),\n",
              " Text(0.05536849364845074, 0.5694444444444444, 'gini = 0.0\\nsamples = 182\\nvalue = [182, 0]'),\n",
              " Text(0.058509968465384116, 0.5694444444444444, 'X[56] <= 97.0\\ngini = 0.278\\nsamples = 6\\nvalue = [5, 1]'),\n",
              " Text(0.05693923105691743, 0.5416666666666666, 'gini = 0.0\\nsamples = 1\\nvalue = [0, 1]'),\n",
              " Text(0.0600807058738508, 0.5416666666666666, 'gini = 0.0\\nsamples = 5\\nvalue = [5, 0]'),\n",
              " Text(0.05144165012728402, 0.6805555555555556, 'gini = 0.0\\nsamples = 1\\nvalue = [0, 1]'),\n",
              " Text(0.05144165012728402, 0.7361111111111112, 'gini = 0.0\\nsamples = 1\\nvalue = [0, 1]'),\n",
              " Text(0.05301238753575071, 0.7638888888888888, 'gini = 0.0\\nsamples = 1\\nvalue = [0, 1]'),\n",
              " Text(0.057724599761150776, 0.7916666666666666, 'X[118] <= 182.414\\ngini = 0.48\\nsamples = 5\\nvalue = [2, 3]'),\n",
              " Text(0.05615386235268409, 0.7638888888888888, 'gini = 0.0\\nsamples = 2\\nvalue = [2, 0]'),\n",
              " Text(0.05929533716961746, 0.7638888888888888, 'gini = 0.0\\nsamples = 3\\nvalue = [0, 3]'),\n",
              " Text(0.062436811986550836, 0.8194444444444444, 'X[69] <= 36.231\\ngini = 0.375\\nsamples = 4\\nvalue = [1, 3]'),\n",
              " Text(0.06086607457808415, 0.7916666666666666, 'gini = 0.0\\nsamples = 3\\nvalue = [0, 3]'),\n",
              " Text(0.06400754939501753, 0.7916666666666666, 'gini = 0.0\\nsamples = 1\\nvalue = [1, 0]'),\n",
              " Text(0.09082299197679945, 0.875, 'X[107] <= 85.5\\ngini = 0.145\\nsamples = 1108\\nvalue = [1021, 87]'),\n",
              " Text(0.07657344866275102, 0.8472222222222222, 'X[30] <= 94.5\\ngini = 0.327\\nsamples = 141\\nvalue = [112, 29]'),\n",
              " Text(0.07029049902888428, 0.8194444444444444, 'X[111] <= 11.65\\ngini = 0.478\\nsamples = 38\\nvalue = [23, 15]'),\n",
              " Text(0.0671490242119509, 0.7916666666666666, 'X[83] <= 68.5\\ngini = 0.472\\nsamples = 21\\nvalue = [8, 13]'),\n",
              " Text(0.06557828680348421, 0.7638888888888888, 'X[33] <= 83.5\\ngini = 0.444\\nsamples = 12\\nvalue = [8, 4]'),\n",
              " Text(0.06400754939501753, 0.7361111111111112, 'X[41] <= 1869.245\\ngini = 0.32\\nsamples = 10\\nvalue = [8, 2]'),\n",
              " Text(0.062436811986550836, 0.7083333333333334, 'gini = 0.0\\nsamples = 8\\nvalue = [8, 0]'),\n",
              " Text(0.06557828680348421, 0.7083333333333334, 'gini = 0.0\\nsamples = 2\\nvalue = [0, 2]'),\n",
              " Text(0.0671490242119509, 0.7361111111111112, 'gini = 0.0\\nsamples = 2\\nvalue = [0, 2]'),\n",
              " Text(0.06871976162041758, 0.7638888888888888, 'gini = 0.0\\nsamples = 9\\nvalue = [0, 9]'),\n",
              " Text(0.07343197384581765, 0.7916666666666666, 'X[7] <= 163.85\\ngini = 0.208\\nsamples = 17\\nvalue = [15, 2]'),\n",
              " Text(0.07186123643735096, 0.7638888888888888, 'X[87] <= 97.0\\ngini = 0.444\\nsamples = 3\\nvalue = [1, 2]'),\n",
              " Text(0.07029049902888428, 0.7361111111111112, 'gini = 0.0\\nsamples = 1\\nvalue = [1, 0]'),\n",
              " Text(0.07343197384581765, 0.7361111111111112, 'gini = 0.0\\nsamples = 2\\nvalue = [0, 2]'),\n",
              " Text(0.07500271125428434, 0.7638888888888888, 'gini = 0.0\\nsamples = 14\\nvalue = [14, 0]'),\n",
              " Text(0.08285639829661778, 0.8194444444444444, 'X[107] <= 61.0\\ngini = 0.235\\nsamples = 103\\nvalue = [89, 14]'),\n",
              " Text(0.0797149234796844, 0.7916666666666666, 'X[90] <= 134.142\\ngini = 0.494\\nsamples = 9\\nvalue = [4, 5]'),\n",
              " Text(0.07814418607121772, 0.7638888888888888, 'X[113] <= 31.7\\ngini = 0.32\\nsamples = 5\\nvalue = [4, 1]'),\n",
              " Text(0.07657344866275102, 0.7361111111111112, 'gini = 0.0\\nsamples = 1\\nvalue = [0, 1]'),\n",
              " Text(0.0797149234796844, 0.7361111111111112, 'gini = 0.0\\nsamples = 4\\nvalue = [4, 0]'),\n",
              " Text(0.08128566088815109, 0.7638888888888888, 'gini = 0.0\\nsamples = 4\\nvalue = [0, 4]'),\n",
              " Text(0.08599787311355116, 0.7916666666666666, 'X[81] <= 43.0\\ngini = 0.173\\nsamples = 94\\nvalue = [85, 9]'),\n",
              " Text(0.08442713570508446, 0.7638888888888888, 'gini = 0.0\\nsamples = 2\\nvalue = [0, 2]'),\n",
              " Text(0.08756861052201784, 0.7638888888888888, 'X[120] <= 5.55\\ngini = 0.141\\nsamples = 92\\nvalue = [85, 7]'),\n",
              " Text(0.08599787311355116, 0.7361111111111112, 'X[16] <= 4.3\\ngini = 0.123\\nsamples = 91\\nvalue = [85, 6]'),\n",
              " Text(0.08442713570508446, 0.7083333333333334, 'X[158] <= 7.556\\ngini = 0.105\\nsamples = 90\\nvalue = [85, 5]'),\n",
              " Text(0.08285639829661778, 0.6805555555555556, 'X[133] <= 7.1\\ngini = 0.086\\nsamples = 89\\nvalue = [85, 4]'),\n",
              " Text(0.08128566088815109, 0.6527777777777778, 'gini = 0.0\\nsamples = 1\\nvalue = [0, 1]'),\n",
              " Text(0.08442713570508446, 0.6527777777777778, 'X[108] <= 18.5\\ngini = 0.066\\nsamples = 88\\nvalue = [85, 3]'),\n",
              " Text(0.08128566088815109, 0.625, 'X[122] <= 143.5\\ngini = 0.5\\nsamples = 4\\nvalue = [2, 2]'),\n",
              " Text(0.0797149234796844, 0.5972222222222222, 'gini = 0.0\\nsamples = 2\\nvalue = [0, 2]'),\n",
              " Text(0.08285639829661778, 0.5972222222222222, 'gini = 0.0\\nsamples = 2\\nvalue = [2, 0]'),\n",
              " Text(0.08756861052201784, 0.625, 'X[144] <= 2.1\\ngini = 0.024\\nsamples = 84\\nvalue = [83, 1]'),\n",
              " Text(0.08599787311355116, 0.5972222222222222, 'gini = 0.0\\nsamples = 82\\nvalue = [82, 0]'),\n",
              " Text(0.08913934793048453, 0.5972222222222222, 'X[74] <= 92.0\\ngini = 0.5\\nsamples = 2\\nvalue = [1, 1]'),\n",
              " Text(0.08756861052201784, 0.5694444444444444, 'gini = 0.0\\nsamples = 1\\nvalue = [0, 1]'),\n",
              " Text(0.09071008533895121, 0.5694444444444444, 'gini = 0.0\\nsamples = 1\\nvalue = [1, 0]'),\n",
              " Text(0.08599787311355116, 0.6805555555555556, 'gini = 0.0\\nsamples = 1\\nvalue = [0, 1]'),\n",
              " Text(0.08756861052201784, 0.7083333333333334, 'gini = 0.0\\nsamples = 1\\nvalue = [0, 1]'),\n",
              " Text(0.08913934793048453, 0.7361111111111112, 'gini = 0.0\\nsamples = 1\\nvalue = [0, 1]'),\n",
              " Text(0.1050725352908479, 0.8472222222222222, 'X[62] <= 194.5\\ngini = 0.113\\nsamples = 967\\nvalue = [909, 58]'),\n",
              " Text(0.10193106047391452, 0.8194444444444444, 'X[69] <= 37.65\\ngini = 0.102\\nsamples = 944\\nvalue = [893, 51]'),\n",
              " Text(0.10036032306544783, 0.7916666666666666, 'X[158] <= 7.161\\ngini = 0.1\\nsamples = 943\\nvalue = [893, 50]'),\n",
              " Text(0.09878958565698114, 0.7638888888888888, 'gini = 0.0\\nsamples = 1\\nvalue = [0, 1]'),\n",
              " Text(0.10193106047391452, 0.7638888888888888, 'X[0] <= 148024.5\\ngini = 0.099\\nsamples = 942\\nvalue = [893, 49]'),\n",
              " Text(0.09532128632155369, 0.7361111111111112, 'X[21] <= 0.812\\ngini = 0.5\\nsamples = 4\\nvalue = [2, 2]'),\n",
              " Text(0.093750548913087, 0.7083333333333334, 'gini = 0.0\\nsamples = 2\\nvalue = [0, 2]'),\n",
              " Text(0.09689202373002037, 0.7083333333333334, 'gini = 0.0\\nsamples = 2\\nvalue = [2, 0]'),\n",
              " Text(0.10854083462627534, 0.7361111111111112, 'X[83] <= 121.5\\ngini = 0.095\\nsamples = 938\\nvalue = [891, 47]'),\n",
              " Text(0.10003349854695376, 0.7083333333333334, 'X[72] <= 41.5\\ngini = 0.089\\nsamples = 923\\nvalue = [880, 43]'),\n",
              " Text(0.09488552029689493, 0.6805555555555556, 'X[13] <= 0.097\\ngini = 0.397\\nsamples = 11\\nvalue = [8, 3]'),\n",
              " Text(0.09331478288842823, 0.6527777777777778, 'gini = 0.0\\nsamples = 3\\nvalue = [0, 3]'),\n",
              " Text(0.0964562577053616, 0.6527777777777778, 'gini = 0.0\\nsamples = 8\\nvalue = [8, 0]'),\n",
              " Text(0.10518147679701258, 0.6805555555555556, 'X[50] <= 59.5\\ngini = 0.084\\nsamples = 912\\nvalue = [872, 40]'),\n",
              " Text(0.09959773252229498, 0.6527777777777778, 'X[81] <= 84.5\\ngini = 0.444\\nsamples = 6\\nvalue = [4, 2]'),\n",
              " Text(0.0980269951138283, 0.625, 'gini = 0.0\\nsamples = 4\\nvalue = [4, 0]'),\n",
              " Text(0.10116846993076167, 0.625, 'gini = 0.0\\nsamples = 2\\nvalue = [0, 2]'),\n",
              " Text(0.11076522107173019, 0.6527777777777778, 'X[161] <= 176.5\\ngini = 0.08\\nsamples = 906\\nvalue = [868, 38]'),\n",
              " Text(0.10430994474769505, 0.625, 'X[63] <= 163.5\\ngini = 0.074\\nsamples = 885\\nvalue = [851, 34]'),\n",
              " Text(0.0992530791419582, 0.5972222222222222, 'X[80] <= 51.0\\ngini = 0.072\\nsamples = 883\\nvalue = [850, 33]'),\n",
              " Text(0.0938515601558846, 0.5694444444444444, 'X[48] <= 107.0\\ngini = 0.5\\nsamples = 2\\nvalue = [1, 1]'),\n",
              " Text(0.0922808227474179, 0.5416666666666666, 'gini = 0.0\\nsamples = 1\\nvalue = [0, 1]'),\n",
              " Text(0.09542229756435128, 0.5416666666666666, 'gini = 0.0\\nsamples = 1\\nvalue = [1, 0]'),\n",
              " Text(0.10465459812803182, 0.5694444444444444, 'X[71] <= 90.5\\ngini = 0.07\\nsamples = 881\\nvalue = [849, 32]'),\n",
              " Text(0.09856377238128465, 0.5416666666666666, 'X[121] <= 5.5\\ngini = 0.068\\nsamples = 879\\nvalue = [848, 31]'),\n",
              " Text(0.09109433311319039, 0.5138888888888888, 'X[43] <= 4.635\\ngini = 0.066\\nsamples = 877\\nvalue = [847, 30]'),\n",
              " Text(0.0808676668024019, 0.4861111111111111, 'X[49] <= 40.5\\ngini = 0.229\\nsamples = 38\\nvalue = [33, 5]'),\n",
              " Text(0.07772619198546853, 0.4583333333333333, 'X[105] <= 0.705\\ngini = 0.494\\nsamples = 9\\nvalue = [5, 4]'),\n",
              " Text(0.07615545457700183, 0.4305555555555556, 'gini = 0.0\\nsamples = 4\\nvalue = [4, 0]'),\n",
              " Text(0.0792969293939352, 0.4305555555555556, 'X[0] <= 180617.0\\ngini = 0.32\\nsamples = 5\\nvalue = [1, 4]'),\n",
              " Text(0.07772619198546853, 0.4027777777777778, 'gini = 0.0\\nsamples = 1\\nvalue = [1, 0]'),\n",
              " Text(0.0808676668024019, 0.4027777777777778, 'gini = 0.0\\nsamples = 4\\nvalue = [0, 4]'),\n",
              " Text(0.08400914161933527, 0.4583333333333333, 'X[29] <= 88.0\\ngini = 0.067\\nsamples = 29\\nvalue = [28, 1]'),\n",
              " Text(0.08243840421086858, 0.4305555555555556, 'gini = 0.0\\nsamples = 1\\nvalue = [0, 1]'),\n",
              " Text(0.08557987902780197, 0.4305555555555556, 'gini = 0.0\\nsamples = 28\\nvalue = [28, 0]'),\n",
              " Text(0.10132099942397886, 0.4861111111111111, 'X[50] <= 161.5\\ngini = 0.058\\nsamples = 839\\nvalue = [814, 25]'),\n",
              " Text(0.09555038015576434, 0.4583333333333333, 'X[73] <= 31.5\\ngini = 0.054\\nsamples = 829\\nvalue = [806, 23]'),\n",
              " Text(0.08872135384473534, 0.4305555555555556, 'X[113] <= 36.55\\ngini = 0.5\\nsamples = 2\\nvalue = [1, 1]'),\n",
              " Text(0.08715061643626865, 0.4027777777777778, 'gini = 0.0\\nsamples = 1\\nvalue = [0, 1]'),\n",
              " Text(0.09029209125320202, 0.4027777777777778, 'gini = 0.0\\nsamples = 1\\nvalue = [1, 0]'),\n",
              " Text(0.10237940646679333, 0.4305555555555556, 'X[38] <= 11.5\\ngini = 0.052\\nsamples = 827\\nvalue = [805, 22]'),\n",
              " Text(0.0934335660701354, 0.4027777777777778, 'X[29] <= 81.5\\ngini = 0.105\\nsamples = 252\\nvalue = [238, 14]'),\n",
              " Text(0.09186282866166871, 0.375, 'gini = 0.0\\nsamples = 1\\nvalue = [0, 1]'),\n",
              " Text(0.09500430347860209, 0.375, 'X[15] <= 139.455\\ngini = 0.098\\nsamples = 251\\nvalue = [238, 13]'),\n",
              " Text(0.08818141286057492, 0.3472222222222222, 'X[12] <= 0.5\\ngini = 0.085\\nsamples = 247\\nvalue = [236, 11]'),\n",
              " Text(0.07924784384992063, 0.3194444444444444, 'X[57] <= 54.0\\ngini = 0.287\\nsamples = 23\\nvalue = [19, 4]'),\n",
              " Text(0.07610636903298724, 0.2916666666666667, 'X[124] <= 13.605\\ngini = 0.375\\nsamples = 4\\nvalue = [1, 3]'),\n",
              " Text(0.07453563162452057, 0.2638888888888889, 'gini = 0.0\\nsamples = 3\\nvalue = [0, 3]'),\n",
              " Text(0.07767710644145394, 0.2638888888888889, 'gini = 0.0\\nsamples = 1\\nvalue = [1, 0]'),\n",
              " Text(0.082389318666854, 0.2916666666666667, 'X[9] <= 3.0\\ngini = 0.1\\nsamples = 19\\nvalue = [18, 1]'),\n",
              " Text(0.08081858125838731, 0.2638888888888889, 'gini = 0.0\\nsamples = 18\\nvalue = [18, 0]'),\n",
              " Text(0.08396005607532069, 0.2638888888888889, 'gini = 0.0\\nsamples = 1\\nvalue = [0, 1]'),\n",
              " Text(0.0971149818712292, 0.3194444444444444, 'X[7] <= 193.045\\ngini = 0.061\\nsamples = 224\\nvalue = [217, 7]'),\n",
              " Text(0.0922064274697708, 0.2916666666666667, 'X[111] <= 14.55\\ngini = 0.053\\nsamples = 222\\nvalue = [216, 6]'),\n",
              " Text(0.08710153089225406, 0.2638888888888889, 'X[136] <= 88.5\\ngini = 0.029\\nsamples = 205\\nvalue = [202, 3]'),\n",
              " Text(0.08317468737108734, 0.2361111111111111, 'X[76] <= 75.5\\ngini = 0.5\\nsamples = 2\\nvalue = [1, 1]'),\n",
              " Text(0.08160394996262066, 0.20833333333333334, 'gini = 0.0\\nsamples = 1\\nvalue = [0, 1]'),\n",
              " Text(0.08474542477955403, 0.20833333333333334, 'gini = 0.0\\nsamples = 1\\nvalue = [1, 0]'),\n",
              " Text(0.09102837441342078, 0.2361111111111111, 'X[151] <= 4.65\\ngini = 0.02\\nsamples = 203\\nvalue = [201, 2]'),\n",
              " Text(0.0878868995964874, 0.20833333333333334, 'X[34] <= 53.85\\ngini = 0.01\\nsamples = 200\\nvalue = [199, 1]'),\n",
              " Text(0.08631616218802073, 0.18055555555555555, 'gini = 0.0\\nsamples = 198\\nvalue = [198, 0]'),\n",
              " Text(0.0894576370049541, 0.18055555555555555, 'X[119] <= 175.0\\ngini = 0.5\\nsamples = 2\\nvalue = [1, 1]'),\n",
              " Text(0.0878868995964874, 0.1527777777777778, 'gini = 0.0\\nsamples = 1\\nvalue = [1, 0]'),\n",
              " Text(0.09102837441342078, 0.1527777777777778, 'gini = 0.0\\nsamples = 1\\nvalue = [0, 1]'),\n",
              " Text(0.09416984923035415, 0.20833333333333334, 'X[76] <= 93.0\\ngini = 0.444\\nsamples = 3\\nvalue = [2, 1]'),\n",
              " Text(0.09259911182188747, 0.18055555555555555, 'gini = 0.0\\nsamples = 2\\nvalue = [2, 0]'),\n",
              " Text(0.09574058663882085, 0.18055555555555555, 'gini = 0.0\\nsamples = 1\\nvalue = [0, 1]'),\n",
              " Text(0.09731132404728754, 0.2638888888888889, 'X[104] <= 0.675\\ngini = 0.291\\nsamples = 17\\nvalue = [14, 3]'),\n",
              " Text(0.09574058663882085, 0.2361111111111111, 'gini = 0.0\\nsamples = 2\\nvalue = [0, 2]'),\n",
              " Text(0.09888206145575422, 0.2361111111111111, 'X[58] <= 16.0\\ngini = 0.124\\nsamples = 15\\nvalue = [14, 1]'),\n",
              " Text(0.09731132404728754, 0.20833333333333334, 'gini = 0.0\\nsamples = 1\\nvalue = [0, 1]'),\n",
              " Text(0.10045279886422091, 0.20833333333333334, 'gini = 0.0\\nsamples = 14\\nvalue = [14, 0]'),\n",
              " Text(0.10202353627268759, 0.2916666666666667, 'X[91] <= 131.0\\ngini = 0.5\\nsamples = 2\\nvalue = [1, 1]'),\n",
              " Text(0.10045279886422091, 0.2638888888888889, 'gini = 0.0\\nsamples = 1\\nvalue = [0, 1]'),\n",
              " Text(0.10359427368115429, 0.2638888888888889, 'gini = 0.0\\nsamples = 1\\nvalue = [1, 0]'),\n",
              " Text(0.10182719409662926, 0.3472222222222222, 'X[50] <= 102.5\\ngini = 0.5\\nsamples = 4\\nvalue = [2, 2]'),\n",
              " Text(0.10025645668816258, 0.3194444444444444, 'gini = 0.0\\nsamples = 2\\nvalue = [0, 2]'),\n",
              " Text(0.10339793150509595, 0.3194444444444444, 'gini = 0.0\\nsamples = 2\\nvalue = [2, 0]'),\n",
              " Text(0.11132524686345126, 0.4027777777777778, 'X[52] <= 68.0\\ngini = 0.027\\nsamples = 575\\nvalue = [567, 8]'),\n",
              " Text(0.1066375774100585, 0.375, 'X[159] <= 7.33\\ngini = 0.444\\nsamples = 3\\nvalue = [2, 1]'),\n",
              " Text(0.1050668400015918, 0.3472222222222222, 'gini = 0.0\\nsamples = 1\\nvalue = [0, 1]'),\n",
              " Text(0.10820831481852518, 0.3472222222222222, 'gini = 0.0\\nsamples = 2\\nvalue = [2, 0]'),\n",
              " Text(0.11601291631684403, 0.375, 'X[103] <= 10.15\\ngini = 0.024\\nsamples = 572\\nvalue = [565, 7]'),\n",
              " Text(0.11134978963545855, 0.3472222222222222, 'X[84] <= 11.0\\ngini = 0.021\\nsamples = 569\\nvalue = [563, 6]'),\n",
              " Text(0.10673574849808766, 0.3194444444444444, 'X[108] <= 26.5\\ngini = 0.444\\nsamples = 3\\nvalue = [2, 1]'),\n",
              " Text(0.10516501108962097, 0.2916666666666667, 'gini = 0.0\\nsamples = 2\\nvalue = [2, 0]'),\n",
              " Text(0.10830648590655435, 0.2916666666666667, 'gini = 0.0\\nsamples = 1\\nvalue = [0, 1]'),\n",
              " Text(0.11596383077282946, 0.3194444444444444, 'X[84] <= 49.0\\ngini = 0.018\\nsamples = 566\\nvalue = [561, 5]'),\n",
              " Text(0.11144796072348773, 0.2916666666666667, 'X[61] <= 46.0\\ngini = 0.014\\nsamples = 561\\nvalue = [557, 4]'),\n",
              " Text(0.10712843285020433, 0.2638888888888889, 'X[101] <= 19.5\\ngini = 0.278\\nsamples = 6\\nvalue = [5, 1]'),\n",
              " Text(0.10555769544173764, 0.2361111111111111, 'gini = 0.0\\nsamples = 5\\nvalue = [5, 0]'),\n",
              " Text(0.10869917025867103, 0.2361111111111111, 'gini = 0.0\\nsamples = 1\\nvalue = [0, 1]'),\n",
              " Text(0.11576748859677112, 0.2638888888888889, 'X[167] <= 7.405\\ngini = 0.011\\nsamples = 555\\nvalue = [552, 3]'),\n",
              " Text(0.1118406450756044, 0.2361111111111111, 'X[78] <= 111.5\\ngini = 0.007\\nsamples = 547\\nvalue = [545, 2]'),\n",
              " Text(0.10869917025867103, 0.20833333333333334, 'X[0] <= 276098.0\\ngini = 0.004\\nsamples = 536\\nvalue = [535, 1]'),\n",
              " Text(0.10712843285020433, 0.18055555555555555, 'gini = 0.0\\nsamples = 523\\nvalue = [523, 0]'),\n",
              " Text(0.1102699076671377, 0.18055555555555555, 'X[18] <= 304.51\\ngini = 0.142\\nsamples = 13\\nvalue = [12, 1]'),\n",
              " Text(0.10869917025867103, 0.1527777777777778, 'gini = 0.0\\nsamples = 1\\nvalue = [0, 1]'),\n",
              " Text(0.1118406450756044, 0.1527777777777778, 'gini = 0.0\\nsamples = 12\\nvalue = [12, 0]'),\n",
              " Text(0.11498211989253777, 0.20833333333333334, 'X[124] <= 8.75\\ngini = 0.165\\nsamples = 11\\nvalue = [10, 1]'),\n",
              " Text(0.11341138248407108, 0.18055555555555555, 'gini = 0.0\\nsamples = 1\\nvalue = [0, 1]'),\n",
              " Text(0.11655285730100445, 0.18055555555555555, 'gini = 0.0\\nsamples = 10\\nvalue = [10, 0]'),\n",
              " Text(0.11969433211793784, 0.2361111111111111, 'X[48] <= 113.0\\ngini = 0.219\\nsamples = 8\\nvalue = [7, 1]'),\n",
              " Text(0.11812359470947115, 0.20833333333333334, 'gini = 0.0\\nsamples = 7\\nvalue = [7, 0]'),\n",
              " Text(0.12126506952640452, 0.20833333333333334, 'gini = 0.0\\nsamples = 1\\nvalue = [0, 1]'),\n",
              " Text(0.12047970082217117, 0.2916666666666667, 'X[81] <= 96.0\\ngini = 0.32\\nsamples = 5\\nvalue = [4, 1]'),\n",
              " Text(0.1189089634137045, 0.2638888888888889, 'gini = 0.0\\nsamples = 4\\nvalue = [4, 0]'),\n",
              " Text(0.12205043823063787, 0.2638888888888889, 'gini = 0.0\\nsamples = 1\\nvalue = [0, 1]'),\n",
              " Text(0.12067604299822951, 0.3472222222222222, 'X[93] <= 101.5\\ngini = 0.444\\nsamples = 3\\nvalue = [2, 1]'),\n",
              " Text(0.11910530558976283, 0.3194444444444444, 'gini = 0.0\\nsamples = 1\\nvalue = [0, 1]'),\n",
              " Text(0.1222467804066962, 0.3194444444444444, 'gini = 0.0\\nsamples = 2\\nvalue = [2, 0]'),\n",
              " Text(0.1070916186921934, 0.4583333333333333, 'X[102] <= 9.15\\ngini = 0.32\\nsamples = 10\\nvalue = [8, 2]'),\n",
              " Text(0.1055208812837267, 0.4305555555555556, 'gini = 0.0\\nsamples = 8\\nvalue = [8, 0]'),\n",
              " Text(0.10866235610066008, 0.4305555555555556, 'gini = 0.0\\nsamples = 2\\nvalue = [0, 2]'),\n",
              " Text(0.10603321164937893, 0.5138888888888888, 'X[103] <= 8.184\\ngini = 0.5\\nsamples = 2\\nvalue = [1, 1]'),\n",
              " Text(0.10446247424091223, 0.4861111111111111, 'gini = 0.0\\nsamples = 1\\nvalue = [0, 1]'),\n",
              " Text(0.10760394905784562, 0.4861111111111111, 'gini = 0.0\\nsamples = 1\\nvalue = [1, 0]'),\n",
              " Text(0.110745423874779, 0.5416666666666666, 'X[71] <= 95.5\\ngini = 0.5\\nsamples = 2\\nvalue = [1, 1]'),\n",
              " Text(0.1091746864663123, 0.5138888888888888, 'gini = 0.0\\nsamples = 1\\nvalue = [0, 1]'),\n",
              " Text(0.11231616128324567, 0.5138888888888888, 'gini = 0.0\\nsamples = 1\\nvalue = [1, 0]'),\n",
              " Text(0.10936681035343189, 0.5972222222222222, 'X[65] <= 121.0\\ngini = 0.5\\nsamples = 2\\nvalue = [1, 1]'),\n",
              " Text(0.1077960729449652, 0.5694444444444444, 'gini = 0.0\\nsamples = 1\\nvalue = [1, 0]'),\n",
              " Text(0.11093754776189857, 0.5694444444444444, 'gini = 0.0\\nsamples = 1\\nvalue = [0, 1]'),\n",
              " Text(0.11722049739576533, 0.625, 'X[33] <= 118.5\\ngini = 0.308\\nsamples = 21\\nvalue = [17, 4]'),\n",
              " Text(0.11564975998729864, 0.5972222222222222, 'X[167] <= 7.435\\ngini = 0.105\\nsamples = 18\\nvalue = [17, 1]'),\n",
              " Text(0.11407902257883194, 0.5694444444444444, 'gini = 0.0\\nsamples = 17\\nvalue = [17, 0]'),\n",
              " Text(0.11722049739576533, 0.5694444444444444, 'gini = 0.0\\nsamples = 1\\nvalue = [0, 1]'),\n",
              " Text(0.11879123480423201, 0.5972222222222222, 'gini = 0.0\\nsamples = 3\\nvalue = [0, 3]'),\n",
              " Text(0.11704817070559694, 0.7083333333333334, 'X[47] <= 69.5\\ngini = 0.391\\nsamples = 15\\nvalue = [11, 4]'),\n",
              " Text(0.11547743329713024, 0.6805555555555556, 'X[75] <= 76.5\\ngini = 0.444\\nsamples = 6\\nvalue = [2, 4]'),\n",
              " Text(0.11390669588866356, 0.6527777777777778, 'gini = 0.0\\nsamples = 2\\nvalue = [2, 0]'),\n",
              " Text(0.11704817070559694, 0.6527777777777778, 'gini = 0.0\\nsamples = 4\\nvalue = [0, 4]'),\n",
              " Text(0.11861890811406363, 0.6805555555555556, 'gini = 0.0\\nsamples = 9\\nvalue = [9, 0]'),\n",
              " Text(0.1035017978823812, 0.7916666666666666, 'gini = 0.0\\nsamples = 1\\nvalue = [0, 1]'),\n",
              " Text(0.10821401010778127, 0.8194444444444444, 'X[43] <= 10.75\\ngini = 0.423\\nsamples = 23\\nvalue = [16, 7]'),\n",
              " Text(0.10664327269931458, 0.7916666666666666, 'gini = 0.0\\nsamples = 14\\nvalue = [14, 0]'),\n",
              " Text(0.10978474751624795, 0.7916666666666666, 'X[39] <= 135.5\\ngini = 0.346\\nsamples = 9\\nvalue = [2, 7]'),\n",
              " Text(0.10821401010778127, 0.7638888888888888, 'gini = 0.0\\nsamples = 2\\nvalue = [2, 0]'),\n",
              " Text(0.11135548492471464, 0.7638888888888888, 'gini = 0.0\\nsamples = 7\\nvalue = [0, 7]'),\n",
              " Text(0.1362909412841233, 0.9027777777777778, 'X[15] <= 82.45\\ngini = 0.236\\nsamples = 717\\nvalue = [619, 98]'),\n",
              " Text(0.12156527807974811, 0.875, 'X[29] <= 163.807\\ngini = 0.153\\nsamples = 383\\nvalue = [351, 32]'),\n",
              " Text(0.11999454067128143, 0.8472222222222222, 'X[134] <= 1.555\\ngini = 0.145\\nsamples = 381\\nvalue = [351, 30]'),\n",
              " Text(0.11449695974164802, 0.8194444444444444, 'X[151] <= 4.05\\ngini = 0.48\\nsamples = 10\\nvalue = [6, 4]'),\n",
              " Text(0.11292622233318134, 0.7916666666666666, 'gini = 0.0\\nsamples = 5\\nvalue = [5, 0]'),\n",
              " Text(0.11606769715011471, 0.7916666666666666, 'X[25] <= 2.246\\ngini = 0.32\\nsamples = 5\\nvalue = [1, 4]'),\n",
              " Text(0.11449695974164802, 0.7638888888888888, 'gini = 0.0\\nsamples = 1\\nvalue = [1, 0]'),\n",
              " Text(0.11763843455858139, 0.7638888888888888, 'gini = 0.0\\nsamples = 4\\nvalue = [0, 4]'),\n",
              " Text(0.12549212160091483, 0.8194444444444444, 'X[31] <= 17.45\\ngini = 0.13\\nsamples = 371\\nvalue = [345, 26]'),\n",
              " Text(0.12235064678398146, 0.7916666666666666, 'X[47] <= 61.5\\ngini = 0.444\\nsamples = 3\\nvalue = [1, 2]'),\n",
              " Text(0.12077990937551476, 0.7638888888888888, 'gini = 0.0\\nsamples = 2\\nvalue = [0, 2]'),\n",
              " Text(0.12392138419244815, 0.7638888888888888, 'gini = 0.0\\nsamples = 1\\nvalue = [1, 0]'),\n",
              " Text(0.12863359641784822, 0.7916666666666666, 'X[136] <= 68.5\\ngini = 0.122\\nsamples = 368\\nvalue = [344, 24]'),\n",
              " Text(0.12706285900938152, 0.7638888888888888, 'gini = 0.0\\nsamples = 1\\nvalue = [0, 1]'),\n",
              " Text(0.13020433382631488, 0.7638888888888888, 'X[40] <= 32.45\\ngini = 0.117\\nsamples = 367\\nvalue = [344, 23]'),\n",
              " Text(0.12863359641784822, 0.7361111111111112, 'gini = 0.0\\nsamples = 1\\nvalue = [0, 1]'),\n",
              " Text(0.13177507123478158, 0.7361111111111112, 'X[16] <= 1.35\\ngini = 0.113\\nsamples = 366\\nvalue = [344, 22]'),\n",
              " Text(0.13020433382631488, 0.7083333333333334, 'gini = 0.0\\nsamples = 1\\nvalue = [0, 1]'),\n",
              " Text(0.13334580864324827, 0.7083333333333334, 'X[79] <= 107.0\\ngini = 0.108\\nsamples = 365\\nvalue = [344, 21]'),\n",
              " Text(0.13177507123478158, 0.6805555555555556, 'X[18] <= 0.18\\ngini = 0.104\\nsamples = 364\\nvalue = [344, 20]'),\n",
              " Text(0.13020433382631488, 0.6527777777777778, 'gini = 0.0\\nsamples = 1\\nvalue = [0, 1]'),\n",
              " Text(0.13334580864324827, 0.6527777777777778, 'X[37] <= 7.522\\ngini = 0.099\\nsamples = 363\\nvalue = [344, 19]'),\n",
              " Text(0.13177507123478158, 0.625, 'X[1] <= 199.5\\ngini = 0.095\\nsamples = 362\\nvalue = [344, 18]'),\n",
              " Text(0.1271610300974107, 0.5972222222222222, 'X[83] <= 122.5\\ngini = 0.082\\nsamples = 351\\nvalue = [336, 15]'),\n",
              " Text(0.12264516004806895, 0.5694444444444444, 'X[88] <= 111.5\\ngini = 0.073\\nsamples = 345\\nvalue = [332, 13]'),\n",
              " Text(0.11832563217478557, 0.5416666666666666, 'X[77] <= 82.0\\ngini = 0.5\\nsamples = 2\\nvalue = [1, 1]'),\n",
              " Text(0.11675489476631888, 0.5138888888888888, 'gini = 0.0\\nsamples = 1\\nvalue = [0, 1]'),\n",
              " Text(0.11989636958325225, 0.5138888888888888, 'gini = 0.0\\nsamples = 1\\nvalue = [1, 0]'),\n",
              " Text(0.12696468792135235, 0.5416666666666666, 'X[52] <= 302.5\\ngini = 0.068\\nsamples = 343\\nvalue = [331, 12]'),\n",
              " Text(0.12303784440018563, 0.5138888888888888, 'X[160] <= 48.5\\ngini = 0.062\\nsamples = 341\\nvalue = [330, 11]'),\n",
              " Text(0.11989636958325225, 0.4861111111111111, 'X[68] <= 36.95\\ngini = 0.5\\nsamples = 2\\nvalue = [1, 1]'),\n",
              " Text(0.11832563217478557, 0.4583333333333333, 'gini = 0.0\\nsamples = 1\\nvalue = [0, 1]'),\n",
              " Text(0.12146710699171895, 0.4583333333333333, 'gini = 0.0\\nsamples = 1\\nvalue = [1, 0]'),\n",
              " Text(0.126179319217119, 0.4861111111111111, 'X[65] <= 93.5\\ngini = 0.057\\nsamples = 339\\nvalue = [329, 10]'),\n",
              " Text(0.12460858180865232, 0.4583333333333333, 'gini = 0.0\\nsamples = 179\\nvalue = [179, 0]'),\n",
              " Text(0.1277500566255857, 0.4583333333333333, 'X[29] <= 41.5\\ngini = 0.117\\nsamples = 160\\nvalue = [150, 10]'),\n",
              " Text(0.126179319217119, 0.4305555555555556, 'gini = 0.0\\nsamples = 1\\nvalue = [0, 1]'),\n",
              " Text(0.1293207940340524, 0.4305555555555556, 'X[67] <= 97.5\\ngini = 0.107\\nsamples = 159\\nvalue = [150, 9]'),\n",
              " Text(0.12500126616076898, 0.4027777777777778, 'X[86] <= 98.031\\ngini = 0.32\\nsamples = 25\\nvalue = [20, 5]'),\n",
              " Text(0.1234305287523023, 0.375, 'gini = 0.0\\nsamples = 5\\nvalue = [0, 5]'),\n",
              " Text(0.12657200356923567, 0.375, 'gini = 0.0\\nsamples = 20\\nvalue = [20, 0]'),\n",
              " Text(0.13364032190733577, 0.4027777777777778, 'X[68] <= 36.2\\ngini = 0.058\\nsamples = 134\\nvalue = [130, 4]'),\n",
              " Text(0.12971347838616906, 0.375, 'X[67] <= 113.5\\ngini = 0.444\\nsamples = 6\\nvalue = [4, 2]'),\n",
              " Text(0.12814274097770237, 0.3472222222222222, 'gini = 0.0\\nsamples = 2\\nvalue = [0, 2]'),\n",
              " Text(0.13128421579463576, 0.3472222222222222, 'gini = 0.0\\nsamples = 4\\nvalue = [4, 0]'),\n",
              " Text(0.1375671654285025, 0.375, 'X[113] <= 21.1\\ngini = 0.031\\nsamples = 128\\nvalue = [126, 2]'),\n",
              " Text(0.13442569061156912, 0.3472222222222222, 'X[107] <= 100.5\\ngini = 0.5\\nsamples = 2\\nvalue = [1, 1]'),\n",
              " Text(0.13285495320310242, 0.3194444444444444, 'gini = 0.0\\nsamples = 1\\nvalue = [1, 0]'),\n",
              " Text(0.1359964280200358, 0.3194444444444444, 'gini = 0.0\\nsamples = 1\\nvalue = [0, 1]'),\n",
              " Text(0.14070864024543586, 0.3472222222222222, 'X[1] <= 10.5\\ngini = 0.016\\nsamples = 126\\nvalue = [125, 1]'),\n",
              " Text(0.13913790283696917, 0.3194444444444444, 'X[46] <= 86.0\\ngini = 0.5\\nsamples = 2\\nvalue = [1, 1]'),\n",
              " Text(0.1375671654285025, 0.2916666666666667, 'gini = 0.0\\nsamples = 1\\nvalue = [0, 1]'),\n",
              " Text(0.14070864024543586, 0.2916666666666667, 'gini = 0.0\\nsamples = 1\\nvalue = [1, 0]'),\n",
              " Text(0.14227937765390256, 0.3194444444444444, 'gini = 0.0\\nsamples = 124\\nvalue = [124, 0]'),\n",
              " Text(0.13089153144251908, 0.5138888888888888, 'X[104] <= 3.15\\ngini = 0.5\\nsamples = 2\\nvalue = [1, 1]'),\n",
              " Text(0.1293207940340524, 0.4861111111111111, 'gini = 0.0\\nsamples = 1\\nvalue = [0, 1]'),\n",
              " Text(0.13246226885098575, 0.4861111111111111, 'gini = 0.0\\nsamples = 1\\nvalue = [1, 0]'),\n",
              " Text(0.1316769001467524, 0.5694444444444444, 'X[91] <= 161.5\\ngini = 0.444\\nsamples = 6\\nvalue = [4, 2]'),\n",
              " Text(0.13010616273828574, 0.5416666666666666, 'gini = 0.0\\nsamples = 2\\nvalue = [0, 2]'),\n",
              " Text(0.1332476375552191, 0.5416666666666666, 'gini = 0.0\\nsamples = 4\\nvalue = [4, 0]'),\n",
              " Text(0.13638911237215248, 0.5972222222222222, 'X[8] <= 6.0\\ngini = 0.397\\nsamples = 11\\nvalue = [8, 3]'),\n",
              " Text(0.1348183749636858, 0.5694444444444444, 'gini = 0.0\\nsamples = 8\\nvalue = [8, 0]'),\n",
              " Text(0.13795984978061918, 0.5694444444444444, 'gini = 0.0\\nsamples = 3\\nvalue = [0, 3]'),\n",
              " Text(0.13491654605171496, 0.625, 'gini = 0.0\\nsamples = 1\\nvalue = [0, 1]'),\n",
              " Text(0.13491654605171496, 0.6805555555555556, 'gini = 0.0\\nsamples = 1\\nvalue = [0, 1]'),\n",
              " Text(0.1231360154882148, 0.8472222222222222, 'gini = 0.0\\nsamples = 2\\nvalue = [0, 2]'),\n",
              " Text(0.15101660448849852, 0.875, 'X[0] <= 171866.5\\ngini = 0.317\\nsamples = 334\\nvalue = [268, 66]'),\n",
              " Text(0.13648728346018166, 0.8472222222222222, 'X[51] <= 65.0\\ngini = 0.465\\nsamples = 57\\nvalue = [36, 21]'),\n",
              " Text(0.13334580864324827, 0.8194444444444444, 'X[17] <= 303.0\\ngini = 0.401\\nsamples = 18\\nvalue = [5, 13]'),\n",
              " Text(0.13177507123478158, 0.7916666666666666, 'gini = 0.0\\nsamples = 11\\nvalue = [0, 11]'),\n",
              " Text(0.13491654605171496, 0.7916666666666666, 'X[39] <= 130.0\\ngini = 0.408\\nsamples = 7\\nvalue = [5, 2]'),\n",
              " Text(0.13334580864324827, 0.7638888888888888, 'gini = 0.0\\nsamples = 2\\nvalue = [0, 2]'),\n",
              " Text(0.13648728346018166, 0.7638888888888888, 'gini = 0.0\\nsamples = 5\\nvalue = [5, 0]'),\n",
              " Text(0.13962875827711502, 0.8194444444444444, 'X[56] <= 77.5\\ngini = 0.326\\nsamples = 39\\nvalue = [31, 8]'),\n",
              " Text(0.13805802086864832, 0.7916666666666666, 'gini = 0.0\\nsamples = 3\\nvalue = [0, 3]'),\n",
              " Text(0.1411994956855817, 0.7916666666666666, 'X[13] <= 4.85\\ngini = 0.239\\nsamples = 36\\nvalue = [31, 5]'),\n",
              " Text(0.13962875827711502, 0.7638888888888888, 'X[107] <= 117.0\\ngini = 0.161\\nsamples = 34\\nvalue = [31, 3]'),\n",
              " Text(0.13805802086864832, 0.7361111111111112, 'gini = 0.0\\nsamples = 27\\nvalue = [27, 0]'),\n",
              " Text(0.1411994956855817, 0.7361111111111112, 'X[123] <= 137.35\\ngini = 0.49\\nsamples = 7\\nvalue = [4, 3]'),\n",
              " Text(0.13962875827711502, 0.7083333333333334, 'gini = 0.0\\nsamples = 4\\nvalue = [4, 0]'),\n",
              " Text(0.1427702330940484, 0.7083333333333334, 'gini = 0.0\\nsamples = 3\\nvalue = [0, 3]'),\n",
              " Text(0.1427702330940484, 0.7638888888888888, 'gini = 0.0\\nsamples = 2\\nvalue = [0, 2]'),\n",
              " Text(0.16554592551681538, 0.8472222222222222, 'X[15] <= 117.3\\ngini = 0.272\\nsamples = 277\\nvalue = [232, 45]'),\n",
              " Text(0.15298002624908186, 0.8194444444444444, 'X[3] <= 25.574\\ngini = 0.226\\nsamples = 231\\nvalue = [201, 30]'),\n",
              " Text(0.14748244531944846, 0.7916666666666666, 'X[158] <= 7.383\\ngini = 0.5\\nsamples = 8\\nvalue = [4, 4]'),\n",
              " Text(0.14591170791098176, 0.7638888888888888, 'gini = 0.0\\nsamples = 3\\nvalue = [3, 0]'),\n",
              " Text(0.14905318272791515, 0.7638888888888888, 'X[7] <= 191.795\\ngini = 0.32\\nsamples = 5\\nvalue = [1, 4]'),\n",
              " Text(0.14748244531944846, 0.7361111111111112, 'gini = 0.0\\nsamples = 4\\nvalue = [0, 4]'),\n",
              " Text(0.15062392013638184, 0.7361111111111112, 'gini = 0.0\\nsamples = 1\\nvalue = [1, 0]'),\n",
              " Text(0.15847760717871529, 0.7916666666666666, 'X[29] <= 52.5\\ngini = 0.206\\nsamples = 223\\nvalue = [197, 26]'),\n",
              " Text(0.1553361323617819, 0.7638888888888888, 'X[64] <= 130.0\\ngini = 0.5\\nsamples = 8\\nvalue = [4, 4]'),\n",
              " Text(0.1537653949533152, 0.7361111111111112, 'gini = 0.0\\nsamples = 4\\nvalue = [4, 0]'),\n",
              " Text(0.1569068697702486, 0.7361111111111112, 'gini = 0.0\\nsamples = 4\\nvalue = [0, 4]'),\n",
              " Text(0.16161908199564864, 0.7638888888888888, 'X[162] <= 101.7\\ngini = 0.184\\nsamples = 215\\nvalue = [193, 22]'),\n",
              " Text(0.16004834458718195, 0.7361111111111112, 'gini = 0.0\\nsamples = 2\\nvalue = [0, 2]'),\n",
              " Text(0.16318981940411534, 0.7361111111111112, 'X[129] <= 0.85\\ngini = 0.17\\nsamples = 213\\nvalue = [193, 20]'),\n",
              " Text(0.1592629758829486, 0.7083333333333334, 'X[21] <= 0.75\\ngini = 0.459\\nsamples = 14\\nvalue = [9, 5]'),\n",
              " Text(0.15769223847448194, 0.6805555555555556, 'X[75] <= 39.0\\ngini = 0.18\\nsamples = 10\\nvalue = [9, 1]'),\n",
              " Text(0.15612150106601524, 0.6527777777777778, 'gini = 0.0\\nsamples = 1\\nvalue = [0, 1]'),\n",
              " Text(0.1592629758829486, 0.6527777777777778, 'gini = 0.0\\nsamples = 9\\nvalue = [9, 0]'),\n",
              " Text(0.1608337132914153, 0.6805555555555556, 'gini = 0.0\\nsamples = 4\\nvalue = [0, 4]'),\n",
              " Text(0.16711666292528204, 0.7083333333333334, 'X[100] <= 14.5\\ngini = 0.139\\nsamples = 199\\nvalue = [184, 15]'),\n",
              " Text(0.16397518810834869, 0.6805555555555556, 'X[77] <= 93.059\\ngini = 0.49\\nsamples = 7\\nvalue = [4, 3]'),\n",
              " Text(0.162404450699882, 0.6527777777777778, 'X[16] <= 2.947\\ngini = 0.375\\nsamples = 4\\nvalue = [1, 3]'),\n",
              " Text(0.1608337132914153, 0.625, 'gini = 0.0\\nsamples = 3\\nvalue = [0, 3]'),\n",
              " Text(0.16397518810834869, 0.625, 'gini = 0.0\\nsamples = 1\\nvalue = [1, 0]'),\n",
              " Text(0.16554592551681538, 0.6527777777777778, 'gini = 0.0\\nsamples = 3\\nvalue = [3, 0]'),\n",
              " Text(0.17025813774221543, 0.6805555555555556, 'X[65] <= 152.0\\ngini = 0.117\\nsamples = 192\\nvalue = [180, 12]'),\n",
              " Text(0.16868740033374874, 0.6527777777777778, 'X[45] <= 74.5\\ngini = 0.109\\nsamples = 191\\nvalue = [180, 11]'),\n",
              " Text(0.16711666292528204, 0.625, 'X[63] <= 82.5\\ngini = 0.1\\nsamples = 190\\nvalue = [180, 10]'),\n",
              " Text(0.16063737111535697, 0.5972222222222222, 'X[74] <= 73.0\\ngini = 0.42\\nsamples = 10\\nvalue = [7, 3]'),\n",
              " Text(0.15906663370689028, 0.5694444444444444, 'gini = 0.0\\nsamples = 6\\nvalue = [6, 0]'),\n",
              " Text(0.16220810852382367, 0.5694444444444444, 'X[168] <= 97.827\\ngini = 0.375\\nsamples = 4\\nvalue = [1, 3]'),\n",
              " Text(0.16063737111535697, 0.5416666666666666, 'gini = 0.0\\nsamples = 1\\nvalue = [1, 0]'),\n",
              " Text(0.16377884593229033, 0.5416666666666666, 'gini = 0.0\\nsamples = 3\\nvalue = [0, 3]'),\n",
              " Text(0.17359595473520714, 0.5972222222222222, 'X[77] <= 126.5\\ngini = 0.075\\nsamples = 180\\nvalue = [173, 7]'),\n",
              " Text(0.17202521732674045, 0.5694444444444444, 'X[21] <= 0.25\\ngini = 0.065\\nsamples = 179\\nvalue = [173, 6]'),\n",
              " Text(0.16692032074922372, 0.5416666666666666, 'X[113] <= 32.619\\ngini = 0.5\\nsamples = 2\\nvalue = [1, 1]'),\n",
              " Text(0.16534958334075703, 0.5138888888888888, 'gini = 0.0\\nsamples = 1\\nvalue = [0, 1]'),\n",
              " Text(0.16849105815769042, 0.5138888888888888, 'gini = 0.0\\nsamples = 1\\nvalue = [1, 0]'),\n",
              " Text(0.1771301139042572, 0.5416666666666666, 'X[120] <= 3.55\\ngini = 0.055\\nsamples = 177\\nvalue = [172, 5]'),\n",
              " Text(0.17163253297462377, 0.5138888888888888, 'X[87] <= 95.617\\ngini = 0.266\\nsamples = 19\\nvalue = [16, 3]'),\n",
              " Text(0.1700617955661571, 0.4861111111111111, 'gini = 0.0\\nsamples = 12\\nvalue = [12, 0]'),\n",
              " Text(0.17320327038309047, 0.4861111111111111, 'X[125] <= 11.0\\ngini = 0.49\\nsamples = 7\\nvalue = [4, 3]'),\n",
              " Text(0.17163253297462377, 0.4583333333333333, 'gini = 0.0\\nsamples = 3\\nvalue = [3, 0]'),\n",
              " Text(0.17477400779155716, 0.4583333333333333, 'X[104] <= 6.73\\ngini = 0.375\\nsamples = 4\\nvalue = [1, 3]'),\n",
              " Text(0.17320327038309047, 0.4305555555555556, 'gini = 0.0\\nsamples = 3\\nvalue = [0, 3]'),\n",
              " Text(0.17634474520002386, 0.4305555555555556, 'gini = 0.0\\nsamples = 1\\nvalue = [1, 0]'),\n",
              " Text(0.1826276948338906, 0.5138888888888888, 'X[97] <= 3.9\\ngini = 0.025\\nsamples = 158\\nvalue = [156, 2]'),\n",
              " Text(0.17948622001695722, 0.4861111111111111, 'X[2] <= 85.5\\ngini = 0.013\\nsamples = 155\\nvalue = [154, 1]'),\n",
              " Text(0.17791548260849052, 0.4583333333333333, 'gini = 0.0\\nsamples = 151\\nvalue = [151, 0]'),\n",
              " Text(0.1810569574254239, 0.4583333333333333, 'X[98] <= 1.217\\ngini = 0.375\\nsamples = 4\\nvalue = [3, 1]'),\n",
              " Text(0.17948622001695722, 0.4305555555555556, 'gini = 0.0\\nsamples = 3\\nvalue = [3, 0]'),\n",
              " Text(0.1826276948338906, 0.4305555555555556, 'gini = 0.0\\nsamples = 1\\nvalue = [0, 1]'),\n",
              " Text(0.18576916965082396, 0.4861111111111111, 'X[59] <= 13.5\\ngini = 0.444\\nsamples = 3\\nvalue = [2, 1]'),\n",
              " Text(0.1841984322423573, 0.4583333333333333, 'gini = 0.0\\nsamples = 2\\nvalue = [2, 0]'),\n",
              " Text(0.18733990705929066, 0.4583333333333333, 'gini = 0.0\\nsamples = 1\\nvalue = [0, 1]'),\n",
              " Text(0.17516669214367384, 0.5694444444444444, 'gini = 0.0\\nsamples = 1\\nvalue = [0, 1]'),\n",
              " Text(0.17025813774221543, 0.625, 'gini = 0.0\\nsamples = 1\\nvalue = [0, 1]'),\n",
              " Text(0.17182887515068213, 0.6527777777777778, 'gini = 0.0\\nsamples = 1\\nvalue = [0, 1]'),\n",
              " Text(0.17811182478454887, 0.8194444444444444, 'X[33] <= 135.5\\ngini = 0.44\\nsamples = 46\\nvalue = [31, 15]'),\n",
              " Text(0.17654108737608218, 0.7916666666666666, 'X[3] <= 33.489\\ngini = 0.369\\nsamples = 41\\nvalue = [31, 10]'),\n",
              " Text(0.17497034996761548, 0.7638888888888888, 'gini = 0.0\\nsamples = 3\\nvalue = [0, 3]'),\n",
              " Text(0.17811182478454887, 0.7638888888888888, 'X[4] <= 0.5\\ngini = 0.301\\nsamples = 38\\nvalue = [31, 7]'),\n",
              " Text(0.17654108737608218, 0.7361111111111112, 'X[108] <= 15.0\\ngini = 0.239\\nsamples = 36\\nvalue = [31, 5]'),\n",
              " Text(0.17497034996761548, 0.7083333333333334, 'gini = 0.0\\nsamples = 2\\nvalue = [0, 2]'),\n",
              " Text(0.17811182478454887, 0.7083333333333334, 'X[18] <= 105.01\\ngini = 0.161\\nsamples = 34\\nvalue = [31, 3]'),\n",
              " Text(0.17654108737608218, 0.6805555555555556, 'X[113] <= 32.0\\ngini = 0.48\\nsamples = 5\\nvalue = [2, 3]'),\n",
              " Text(0.17497034996761548, 0.6527777777777778, 'gini = 0.0\\nsamples = 3\\nvalue = [0, 3]'),\n",
              " Text(0.17811182478454887, 0.6527777777777778, 'gini = 0.0\\nsamples = 2\\nvalue = [2, 0]'),\n",
              " Text(0.17968256219301557, 0.6805555555555556, 'gini = 0.0\\nsamples = 29\\nvalue = [29, 0]'),\n",
              " Text(0.17968256219301557, 0.7361111111111112, 'gini = 0.0\\nsamples = 2\\nvalue = [0, 2]'),\n",
              " Text(0.17968256219301557, 0.7916666666666666, 'gini = 0.0\\nsamples = 5\\nvalue = [0, 5]'),\n",
              " Text(0.3467427126294825, 0.9305555555555556, 'X[3] <= 29.209\\ngini = 0.282\\nsamples = 3084\\nvalue = [2561, 523]'),\n",
              " Text(0.2866060425245408, 0.9027777777777778, 'X[20] <= 0.5\\ngini = 0.207\\nsamples = 1844\\nvalue = [1628, 216]'),\n",
              " Text(0.22408639868246538, 0.875, 'X[2] <= 63.5\\ngini = 0.193\\nsamples = 1799\\nvalue = [1604, 195]'),\n",
              " Text(0.19622421676118715, 0.8472222222222222, 'X[31] <= 17.05\\ngini = 0.111\\nsamples = 817\\nvalue = [769, 48]'),\n",
              " Text(0.19190468888790377, 0.8194444444444444, 'X[40] <= 36.9\\ngini = 0.375\\nsamples = 4\\nvalue = [1, 3]'),\n",
              " Text(0.19033395147943707, 0.7916666666666666, 'gini = 0.0\\nsamples = 3\\nvalue = [0, 3]'),\n",
              " Text(0.19347542629637043, 0.7916666666666666, 'gini = 0.0\\nsamples = 1\\nvalue = [1, 0]'),\n",
              " Text(0.20054374463447053, 0.8194444444444444, 'X[16] <= 2.15\\ngini = 0.105\\nsamples = 813\\nvalue = [768, 45]'),\n",
              " Text(0.19661690111330382, 0.7916666666666666, 'X[58] <= 49.5\\ngini = 0.32\\nsamples = 55\\nvalue = [44, 11]'),\n",
              " Text(0.19504616370483713, 0.7638888888888888, 'X[109] <= 28.5\\ngini = 0.237\\nsamples = 51\\nvalue = [44, 7]'),\n",
              " Text(0.19347542629637043, 0.7361111111111112, 'X[85] <= 22.5\\ngini = 0.183\\nsamples = 49\\nvalue = [44, 5]'),\n",
              " Text(0.19033395147943707, 0.7083333333333334, 'X[17] <= 306.5\\ngini = 0.046\\nsamples = 42\\nvalue = [41, 1]'),\n",
              " Text(0.18876321407097038, 0.6805555555555556, 'gini = 0.0\\nsamples = 41\\nvalue = [41, 0]'),\n",
              " Text(0.19190468888790377, 0.6805555555555556, 'gini = 0.0\\nsamples = 1\\nvalue = [0, 1]'),\n",
              " Text(0.19661690111330382, 0.7083333333333334, 'X[43] <= 10.565\\ngini = 0.49\\nsamples = 7\\nvalue = [3, 4]'),\n",
              " Text(0.19504616370483713, 0.6805555555555556, 'gini = 0.0\\nsamples = 3\\nvalue = [3, 0]'),\n",
              " Text(0.19818763852177051, 0.6805555555555556, 'gini = 0.0\\nsamples = 4\\nvalue = [0, 4]'),\n",
              " Text(0.19661690111330382, 0.7361111111111112, 'gini = 0.0\\nsamples = 2\\nvalue = [0, 2]'),\n",
              " Text(0.19818763852177051, 0.7638888888888888, 'gini = 0.0\\nsamples = 4\\nvalue = [0, 4]'),\n",
              " Text(0.20447058815563726, 0.7916666666666666, 'X[149] <= 60.5\\ngini = 0.086\\nsamples = 758\\nvalue = [724, 34]'),\n",
              " Text(0.20289985074717057, 0.7638888888888888, 'gini = 0.0\\nsamples = 1\\nvalue = [0, 1]'),\n",
              " Text(0.20604132556410396, 0.7638888888888888, 'X[154] <= 29.05\\ngini = 0.083\\nsamples = 757\\nvalue = [724, 33]'),\n",
              " Text(0.20447058815563726, 0.7361111111111112, 'X[101] <= 110.045\\ngini = 0.081\\nsamples = 756\\nvalue = [724, 32]'),\n",
              " Text(0.20289985074717057, 0.7083333333333334, 'X[21] <= 0.12\\ngini = 0.079\\nsamples = 755\\nvalue = [724, 31]'),\n",
              " Text(0.20132911333870387, 0.6805555555555556, 'gini = 0.0\\nsamples = 1\\nvalue = [0, 1]'),\n",
              " Text(0.20447058815563726, 0.6805555555555556, 'X[151] <= 2.6\\ngini = 0.076\\nsamples = 754\\nvalue = [724, 30]'),\n",
              " Text(0.20289985074717057, 0.6527777777777778, 'gini = 0.0\\nsamples = 1\\nvalue = [0, 1]'),\n",
              " Text(0.20604132556410396, 0.6527777777777778, 'X[77] <= 38.5\\ngini = 0.074\\nsamples = 753\\nvalue = [724, 29]'),\n",
              " Text(0.20447058815563726, 0.625, 'gini = 0.0\\nsamples = 1\\nvalue = [0, 1]'),\n",
              " Text(0.20761206297257062, 0.625, 'X[29] <= 45.5\\ngini = 0.072\\nsamples = 752\\nvalue = [724, 28]'),\n",
              " Text(0.2028507711950437, 0.5972222222222222, 'X[73] <= 64.5\\ngini = 0.48\\nsamples = 5\\nvalue = [3, 2]'),\n",
              " Text(0.201280033786577, 0.5694444444444444, 'gini = 0.0\\nsamples = 3\\nvalue = [3, 0]'),\n",
              " Text(0.20442150860351038, 0.5694444444444444, 'gini = 0.0\\nsamples = 2\\nvalue = [0, 2]'),\n",
              " Text(0.21237335475009758, 0.5972222222222222, 'X[90] <= 220.5\\ngini = 0.067\\nsamples = 747\\nvalue = [721, 26]'),\n",
              " Text(0.20756298342044374, 0.5694444444444444, 'X[29] <= 189.5\\ngini = 0.063\\nsamples = 742\\nvalue = [718, 24]'),\n",
              " Text(0.20265445298653614, 0.5416666666666666, 'X[56] <= 159.0\\ngini = 0.058\\nsamples = 736\\nvalue = [714, 22]'),\n",
              " Text(0.19754960434412097, 0.5138888888888888, 'X[2] <= 8.0\\ngini = 0.053\\nsamples = 729\\nvalue = [709, 20]'),\n",
              " Text(0.19205211928469074, 0.4861111111111111, 'X[3] <= 25.241\\ngini = 0.5\\nsamples = 2\\nvalue = [1, 1]'),\n",
              " Text(0.19048138187622404, 0.4583333333333333, 'gini = 0.0\\nsamples = 1\\nvalue = [0, 1]'),\n",
              " Text(0.1936228566931574, 0.4583333333333333, 'gini = 0.0\\nsamples = 1\\nvalue = [1, 0]'),\n",
              " Text(0.20304708940355123, 0.4861111111111111, 'X[82] <= 61.5\\ngini = 0.051\\nsamples = 727\\nvalue = [708, 19]'),\n",
              " Text(0.1967643315100908, 0.4583333333333333, 'X[0] <= 160355.0\\ngini = 0.245\\nsamples = 21\\nvalue = [18, 3]'),\n",
              " Text(0.1951935941016241, 0.4305555555555556, 'gini = 0.0\\nsamples = 2\\nvalue = [0, 2]'),\n",
              " Text(0.19833506891855748, 0.4305555555555556, 'X[59] <= 7.0\\ngini = 0.1\\nsamples = 19\\nvalue = [18, 1]'),\n",
              " Text(0.1967643315100908, 0.4027777777777778, 'gini = 0.0\\nsamples = 1\\nvalue = [0, 1]'),\n",
              " Text(0.19990580632702415, 0.4027777777777778, 'gini = 0.0\\nsamples = 18\\nvalue = [18, 0]'),\n",
              " Text(0.20932984729701168, 0.4583333333333333, 'X[47] <= 14.0\\ngini = 0.044\\nsamples = 706\\nvalue = [690, 16]'),\n",
              " Text(0.20461801855242423, 0.4305555555555556, 'X[66] <= 126.0\\ngini = 0.5\\nsamples = 2\\nvalue = [1, 1]'),\n",
              " Text(0.20304728114395754, 0.4027777777777778, 'gini = 0.0\\nsamples = 1\\nvalue = [1, 0]'),\n",
              " Text(0.20618875596089092, 0.4027777777777778, 'gini = 0.0\\nsamples = 1\\nvalue = [0, 1]'),\n",
              " Text(0.21404167604159913, 0.4305555555555556, 'X[22] <= 120.0\\ngini = 0.042\\nsamples = 704\\nvalue = [689, 15]'),\n",
              " Text(0.20933023077782428, 0.4027777777777778, 'X[85] <= 38.0\\ngini = 0.039\\nsamples = 701\\nvalue = [687, 14]'),\n",
              " Text(0.20461955247567468, 0.375, 'X[13] <= 10.48\\ngini = 0.037\\nsamples = 698\\nvalue = [685, 13]'),\n",
              " Text(0.19991040809677552, 0.3472222222222222, 'X[166] <= 7.505\\ngini = 0.034\\nsamples = 695\\nvalue = [683, 12]'),\n",
              " Text(0.19520433156437728, 0.3194444444444444, 'X[67] <= 152.0\\ngini = 0.031\\nsamples = 692\\nvalue = [681, 11]'),\n",
              " Text(0.19050439072498088, 0.2916666666666667, 'X[121] <= 5.45\\ngini = 0.029\\nsamples = 689\\nvalue = [679, 10]'),\n",
              " Text(0.1858167212715881, 0.2638888888888889, 'X[103] <= 9.75\\ngini = 0.026\\nsamples = 685\\nvalue = [676, 9]'),\n",
              " Text(0.1811535945902026, 0.2361111111111111, 'X[148] <= 366.0\\ngini = 0.023\\nsamples = 681\\nvalue = [673, 8]'),\n",
              " Text(0.17653955345283173, 0.20833333333333334, 'X[143] <= 44.3\\ngini = 0.021\\nsamples = 675\\nvalue = [668, 7]'),\n",
              " Text(0.17202368340349, 0.18055555555555555, 'X[119] <= 46.0\\ngini = 0.018\\nsamples = 669\\nvalue = [663, 6]'),\n",
              " Text(0.1677041555302066, 0.1527777777777778, 'X[18] <= 203.51\\ngini = 0.245\\nsamples = 7\\nvalue = [6, 1]'),\n",
              " Text(0.16613341812173993, 0.125, 'gini = 0.0\\nsamples = 1\\nvalue = [0, 1]'),\n",
              " Text(0.1692748929386733, 0.125, 'gini = 0.0\\nsamples = 6\\nvalue = [6, 0]'),\n",
              " Text(0.17634321127677338, 0.1527777777777778, 'X[5] <= 5.5\\ngini = 0.015\\nsamples = 662\\nvalue = [657, 5]'),\n",
              " Text(0.17241636775560668, 0.125, 'X[1] <= 193.5\\ngini = 0.012\\nsamples = 652\\nvalue = [648, 4]'),\n",
              " Text(0.1692748929386733, 0.09722222222222222, 'X[17] <= 108.5\\ngini = 0.007\\nsamples = 602\\nvalue = [600, 2]'),\n",
              " Text(0.1677041555302066, 0.06944444444444445, 'X[58] <= 21.5\\ngini = 0.069\\nsamples = 56\\nvalue = [54, 2]'),\n",
              " Text(0.16613341812173993, 0.041666666666666664, 'X[50] <= 90.0\\ngini = 0.444\\nsamples = 6\\nvalue = [4, 2]'),\n",
              " Text(0.16456268071327323, 0.013888888888888888, 'gini = 0.0\\nsamples = 4\\nvalue = [4, 0]'),\n",
              " Text(0.1677041555302066, 0.013888888888888888, 'gini = 0.0\\nsamples = 2\\nvalue = [0, 2]'),\n",
              " Text(0.1692748929386733, 0.041666666666666664, 'gini = 0.0\\nsamples = 50\\nvalue = [50, 0]'),\n",
              " Text(0.17084563034713998, 0.06944444444444445, 'gini = 0.0\\nsamples = 546\\nvalue = [546, 0]'),\n",
              " Text(0.17555784257254003, 0.09722222222222222, 'X[41] <= 613.613\\ngini = 0.077\\nsamples = 50\\nvalue = [48, 2]'),\n",
              " Text(0.17398710516407337, 0.06944444444444445, 'gini = 0.0\\nsamples = 1\\nvalue = [0, 1]'),\n",
              " Text(0.17712857998100673, 0.06944444444444445, 'X[5] <= 3.5\\ngini = 0.04\\nsamples = 49\\nvalue = [48, 1]'),\n",
              " Text(0.17555784257254003, 0.041666666666666664, 'gini = 0.0\\nsamples = 47\\nvalue = [47, 0]'),\n",
              " Text(0.17869931738947342, 0.041666666666666664, 'X[74] <= 77.945\\ngini = 0.5\\nsamples = 2\\nvalue = [1, 1]'),\n",
              " Text(0.17712857998100673, 0.013888888888888888, 'gini = 0.0\\nsamples = 1\\nvalue = [1, 0]'),\n",
              " Text(0.18027005479794012, 0.013888888888888888, 'gini = 0.0\\nsamples = 1\\nvalue = [0, 1]'),\n",
              " Text(0.18027005479794012, 0.125, 'X[88] <= 133.808\\ngini = 0.18\\nsamples = 10\\nvalue = [9, 1]'),\n",
              " Text(0.17869931738947342, 0.09722222222222222, 'gini = 0.0\\nsamples = 1\\nvalue = [0, 1]'),\n",
              " Text(0.1818407922064068, 0.09722222222222222, 'gini = 0.0\\nsamples = 9\\nvalue = [9, 0]'),\n",
              " Text(0.18105542350217346, 0.18055555555555555, 'X[84] <= 19.0\\ngini = 0.278\\nsamples = 6\\nvalue = [5, 1]'),\n",
              " Text(0.17948468609370677, 0.1527777777777778, 'gini = 0.0\\nsamples = 1\\nvalue = [0, 1]'),\n",
              " Text(0.18262616091064013, 0.1527777777777778, 'gini = 0.0\\nsamples = 5\\nvalue = [5, 0]'),\n",
              " Text(0.18576763572757352, 0.20833333333333334, 'X[31] <= 38.65\\ngini = 0.278\\nsamples = 6\\nvalue = [5, 1]'),\n",
              " Text(0.18419689831910682, 0.18055555555555555, 'gini = 0.0\\nsamples = 5\\nvalue = [5, 0]'),\n",
              " Text(0.1873383731360402, 0.18055555555555555, 'gini = 0.0\\nsamples = 1\\nvalue = [0, 1]'),\n",
              " Text(0.19047984795297357, 0.2361111111111111, 'X[77] <= 72.5\\ngini = 0.375\\nsamples = 4\\nvalue = [3, 1]'),\n",
              " Text(0.1889091105445069, 0.20833333333333334, 'gini = 0.0\\nsamples = 1\\nvalue = [0, 1]'),\n",
              " Text(0.19205058536144026, 0.20833333333333334, 'gini = 0.0\\nsamples = 3\\nvalue = [3, 0]'),\n",
              " Text(0.19519206017837365, 0.2638888888888889, 'X[100] <= 19.0\\ngini = 0.375\\nsamples = 4\\nvalue = [3, 1]'),\n",
              " Text(0.19362132276990696, 0.2361111111111111, 'gini = 0.0\\nsamples = 1\\nvalue = [0, 1]'),\n",
              " Text(0.19676279758684034, 0.2361111111111111, 'gini = 0.0\\nsamples = 3\\nvalue = [3, 0]'),\n",
              " Text(0.1999042724037737, 0.2916666666666667, 'X[56] <= 101.5\\ngini = 0.444\\nsamples = 3\\nvalue = [2, 1]'),\n",
              " Text(0.198333534995307, 0.2638888888888889, 'gini = 0.0\\nsamples = 1\\nvalue = [0, 1]'),\n",
              " Text(0.2014750098122404, 0.2638888888888889, 'gini = 0.0\\nsamples = 2\\nvalue = [2, 0]'),\n",
              " Text(0.20461648462917376, 0.3194444444444444, 'X[123] <= 137.5\\ngini = 0.444\\nsamples = 3\\nvalue = [2, 1]'),\n",
              " Text(0.2030457472207071, 0.2916666666666667, 'gini = 0.0\\nsamples = 1\\nvalue = [0, 1]'),\n",
              " Text(0.20618722203764045, 0.2916666666666667, 'gini = 0.0\\nsamples = 2\\nvalue = [2, 0]'),\n",
              " Text(0.20932869685457384, 0.3472222222222222, 'X[24] <= 0.547\\ngini = 0.444\\nsamples = 3\\nvalue = [2, 1]'),\n",
              " Text(0.20775795944610714, 0.3194444444444444, 'gini = 0.0\\nsamples = 1\\nvalue = [0, 1]'),\n",
              " Text(0.21089943426304053, 0.3194444444444444, 'gini = 0.0\\nsamples = 2\\nvalue = [2, 0]'),\n",
              " Text(0.2140409090799739, 0.375, 'X[86] <= 96.5\\ngini = 0.444\\nsamples = 3\\nvalue = [2, 1]'),\n",
              " Text(0.2124701716715072, 0.3472222222222222, 'gini = 0.0\\nsamples = 2\\nvalue = [2, 0]'),\n",
              " Text(0.21561164648844058, 0.3472222222222222, 'gini = 0.0\\nsamples = 1\\nvalue = [0, 1]'),\n",
              " Text(0.21875312130537397, 0.4027777777777778, 'X[57] <= 85.5\\ngini = 0.444\\nsamples = 3\\nvalue = [2, 1]'),\n",
              " Text(0.21718238389690728, 0.375, 'gini = 0.0\\nsamples = 2\\nvalue = [2, 0]'),\n",
              " Text(0.22032385871384064, 0.375, 'gini = 0.0\\nsamples = 1\\nvalue = [0, 1]'),\n",
              " Text(0.2077593016289513, 0.5138888888888888, 'X[123] <= 137.85\\ngini = 0.408\\nsamples = 7\\nvalue = [5, 2]'),\n",
              " Text(0.2061885642204846, 0.4861111111111111, 'gini = 0.0\\nsamples = 5\\nvalue = [5, 0]'),\n",
              " Text(0.20933003903741798, 0.4861111111111111, 'gini = 0.0\\nsamples = 2\\nvalue = [0, 2]'),\n",
              " Text(0.21247151385435137, 0.5416666666666666, 'X[23] <= 1.08\\ngini = 0.444\\nsamples = 6\\nvalue = [4, 2]'),\n",
              " Text(0.21090077644588467, 0.5138888888888888, 'gini = 0.0\\nsamples = 4\\nvalue = [4, 0]'),\n",
              " Text(0.21404225126281803, 0.5138888888888888, 'gini = 0.0\\nsamples = 2\\nvalue = [0, 2]'),\n",
              " Text(0.21718372607975142, 0.5694444444444444, 'X[155] <= 12.599\\ngini = 0.48\\nsamples = 5\\nvalue = [3, 2]'),\n",
              " Text(0.21561298867128473, 0.5416666666666666, 'gini = 0.0\\nsamples = 2\\nvalue = [0, 2]'),\n",
              " Text(0.21875446348821811, 0.5416666666666666, 'gini = 0.0\\nsamples = 3\\nvalue = [3, 0]'),\n",
              " Text(0.20604132556410396, 0.7083333333333334, 'gini = 0.0\\nsamples = 1\\nvalue = [0, 1]'),\n",
              " Text(0.20761206297257062, 0.7361111111111112, 'gini = 0.0\\nsamples = 1\\nvalue = [0, 1]'),\n",
              " Text(0.25194858060374364, 0.8472222222222222, 'X[15] <= 65.45\\ngini = 0.255\\nsamples = 982\\nvalue = [835, 147]'),\n",
              " Text(0.21526940783884574, 0.8194444444444444, 'X[74] <= 37.5\\ngini = 0.165\\nsamples = 363\\nvalue = [330, 33]'),\n",
              " Text(0.210753537789504, 0.7916666666666666, 'X[101] <= 89.5\\ngini = 0.375\\nsamples = 4\\nvalue = [1, 3]'),\n",
              " Text(0.20918280038103731, 0.7638888888888888, 'gini = 0.0\\nsamples = 3\\nvalue = [0, 3]'),\n",
              " Text(0.2123242751979707, 0.7638888888888888, 'gini = 0.0\\nsamples = 1\\nvalue = [1, 0]'),\n",
              " Text(0.21978527788818747, 0.7916666666666666, 'X[136] <= 90.5\\ngini = 0.153\\nsamples = 359\\nvalue = [329, 30]'),\n",
              " Text(0.21546575001490406, 0.7638888888888888, 'X[100] <= 24.732\\ngini = 0.496\\nsamples = 11\\nvalue = [6, 5]'),\n",
              " Text(0.2138950126064374, 0.7361111111111112, 'X[59] <= 18.0\\ngini = 0.245\\nsamples = 7\\nvalue = [6, 1]'),\n",
              " Text(0.2123242751979707, 0.7083333333333334, 'gini = 0.0\\nsamples = 6\\nvalue = [6, 0]'),\n",
              " Text(0.21546575001490406, 0.7083333333333334, 'gini = 0.0\\nsamples = 1\\nvalue = [0, 1]'),\n",
              " Text(0.21703648742337076, 0.7361111111111112, 'gini = 0.0\\nsamples = 4\\nvalue = [0, 4]'),\n",
              " Text(0.22410480576147085, 0.7638888888888888, 'X[58] <= 15.5\\ngini = 0.133\\nsamples = 348\\nvalue = [323, 25]'),\n",
              " Text(0.22017796224030414, 0.7361111111111112, 'X[42] <= 0.5\\ngini = 0.49\\nsamples = 7\\nvalue = [3, 4]'),\n",
              " Text(0.21860722483183745, 0.7083333333333334, 'gini = 0.0\\nsamples = 4\\nvalue = [0, 4]'),\n",
              " Text(0.22174869964877084, 0.7083333333333334, 'gini = 0.0\\nsamples = 3\\nvalue = [3, 0]'),\n",
              " Text(0.22803164928263758, 0.7361111111111112, 'X[15] <= 42.2\\ngini = 0.116\\nsamples = 341\\nvalue = [320, 21]'),\n",
              " Text(0.2248901744657042, 0.7083333333333334, 'X[23] <= 1.02\\ngini = 0.444\\nsamples = 12\\nvalue = [8, 4]'),\n",
              " Text(0.2233194370572375, 0.6805555555555556, 'X[1] <= 47.0\\ngini = 0.32\\nsamples = 5\\nvalue = [1, 4]'),\n",
              " Text(0.22174869964877084, 0.6527777777777778, 'gini = 0.0\\nsamples = 1\\nvalue = [1, 0]'),\n",
              " Text(0.2248901744657042, 0.6527777777777778, 'gini = 0.0\\nsamples = 4\\nvalue = [0, 4]'),\n",
              " Text(0.2264609118741709, 0.6805555555555556, 'gini = 0.0\\nsamples = 7\\nvalue = [7, 0]'),\n",
              " Text(0.23117312409957094, 0.7083333333333334, 'X[133] <= 5.6\\ngini = 0.098\\nsamples = 329\\nvalue = [312, 17]'),\n",
              " Text(0.22960238669110425, 0.6805555555555556, 'gini = 0.0\\nsamples = 1\\nvalue = [0, 1]'),\n",
              " Text(0.23274386150803764, 0.6805555555555556, 'X[148] <= 22.5\\ngini = 0.093\\nsamples = 328\\nvalue = [312, 16]'),\n",
              " Text(0.23117312409957094, 0.6527777777777778, 'gini = 0.0\\nsamples = 1\\nvalue = [0, 1]'),\n",
              " Text(0.23431459891650433, 0.6527777777777778, 'X[7] <= 192.0\\ngini = 0.088\\nsamples = 327\\nvalue = [312, 15]'),\n",
              " Text(0.23274386150803764, 0.625, 'X[107] <= 61.5\\ngini = 0.082\\nsamples = 326\\nvalue = [312, 14]'),\n",
              " Text(0.2264118263301563, 0.5972222222222222, 'X[39] <= 137.5\\ngini = 0.469\\nsamples = 8\\nvalue = [5, 3]'),\n",
              " Text(0.2248410889216896, 0.5694444444444444, 'gini = 0.0\\nsamples = 5\\nvalue = [5, 0]'),\n",
              " Text(0.227982563738623, 0.5694444444444444, 'gini = 0.0\\nsamples = 3\\nvalue = [0, 3]'),\n",
              " Text(0.23907589668591897, 0.5972222222222222, 'X[48] <= 133.0\\ngini = 0.067\\nsamples = 318\\nvalue = [307, 11]'),\n",
              " Text(0.23112403855555635, 0.5694444444444444, 'X[105] <= 1.655\\ngini = 0.051\\nsamples = 304\\nvalue = [296, 8]'),\n",
              " Text(0.2230740093371646, 0.5416666666666666, 'X[100] <= 6.5\\ngini = 0.029\\nsamples = 270\\nvalue = [266, 4]'),\n",
              " Text(0.2187544814638812, 0.5138888888888888, 'X[21] <= 0.812\\ngini = 0.444\\nsamples = 3\\nvalue = [2, 1]'),\n",
              " Text(0.21718374405541452, 0.4861111111111111, 'gini = 0.0\\nsamples = 1\\nvalue = [0, 1]'),\n",
              " Text(0.22032521887234788, 0.4861111111111111, 'gini = 0.0\\nsamples = 2\\nvalue = [2, 0]'),\n",
              " Text(0.22739353721044797, 0.5138888888888888, 'X[3] <= 15.306\\ngini = 0.022\\nsamples = 267\\nvalue = [264, 3]'),\n",
              " Text(0.22346669368928126, 0.4861111111111111, 'X[85] <= 16.5\\ngini = 0.444\\nsamples = 3\\nvalue = [2, 1]'),\n",
              " Text(0.22189595628081457, 0.4583333333333333, 'gini = 0.0\\nsamples = 1\\nvalue = [0, 1]'),\n",
              " Text(0.22503743109774796, 0.4583333333333333, 'gini = 0.0\\nsamples = 2\\nvalue = [2, 0]'),\n",
              " Text(0.2313203807316147, 0.4861111111111111, 'X[161] <= 246.0\\ngini = 0.015\\nsamples = 264\\nvalue = [262, 2]'),\n",
              " Text(0.22817890591468132, 0.4583333333333333, 'X[51] <= 99.0\\ngini = 0.008\\nsamples = 260\\nvalue = [259, 1]'),\n",
              " Text(0.22660816850621462, 0.4305555555555556, 'gini = 0.0\\nsamples = 253\\nvalue = [253, 0]'),\n",
              " Text(0.229749643323148, 0.4305555555555556, 'X[29] <= 172.307\\ngini = 0.245\\nsamples = 7\\nvalue = [6, 1]'),\n",
              " Text(0.22817890591468132, 0.4027777777777778, 'gini = 0.0\\nsamples = 6\\nvalue = [6, 0]'),\n",
              " Text(0.2313203807316147, 0.4027777777777778, 'gini = 0.0\\nsamples = 1\\nvalue = [0, 1]'),\n",
              " Text(0.23446185554854806, 0.4583333333333333, 'X[83] <= 66.0\\ngini = 0.375\\nsamples = 4\\nvalue = [3, 1]'),\n",
              " Text(0.2328911181400814, 0.4305555555555556, 'gini = 0.0\\nsamples = 1\\nvalue = [0, 1]'),\n",
              " Text(0.23603259295701476, 0.4305555555555556, 'gini = 0.0\\nsamples = 3\\nvalue = [3, 0]'),\n",
              " Text(0.23917406777394815, 0.5416666666666666, 'X[105] <= 1.745\\ngini = 0.208\\nsamples = 34\\nvalue = [30, 4]'),\n",
              " Text(0.23760333036548145, 0.5138888888888888, 'gini = 0.0\\nsamples = 2\\nvalue = [0, 2]'),\n",
              " Text(0.24074480518241484, 0.5138888888888888, 'X[64] <= 194.5\\ngini = 0.117\\nsamples = 32\\nvalue = [30, 2]'),\n",
              " Text(0.23917406777394815, 0.4861111111111111, 'X[72] <= 115.5\\ngini = 0.062\\nsamples = 31\\nvalue = [30, 1]'),\n",
              " Text(0.23760333036548145, 0.4583333333333333, 'gini = 0.0\\nsamples = 30\\nvalue = [30, 0]'),\n",
              " Text(0.24074480518241484, 0.4583333333333333, 'gini = 0.0\\nsamples = 1\\nvalue = [0, 1]'),\n",
              " Text(0.2423155425908815, 0.4861111111111111, 'gini = 0.0\\nsamples = 1\\nvalue = [0, 1]'),\n",
              " Text(0.2470277548162816, 0.5694444444444444, 'X[54] <= 142.0\\ngini = 0.337\\nsamples = 14\\nvalue = [11, 3]'),\n",
              " Text(0.2454570174078149, 0.5416666666666666, 'X[81] <= 92.0\\ngini = 0.375\\nsamples = 4\\nvalue = [1, 3]'),\n",
              " Text(0.2438862799993482, 0.5138888888888888, 'gini = 0.0\\nsamples = 3\\nvalue = [0, 3]'),\n",
              " Text(0.2470277548162816, 0.5138888888888888, 'gini = 0.0\\nsamples = 1\\nvalue = [1, 0]'),\n",
              " Text(0.24859849222474825, 0.5416666666666666, 'gini = 0.0\\nsamples = 10\\nvalue = [10, 0]'),\n",
              " Text(0.23588533632497102, 0.625, 'gini = 0.0\\nsamples = 1\\nvalue = [0, 1]'),\n",
              " Text(0.2886277533686415, 0.8194444444444444, 'X[7] <= 167.15\\ngini = 0.301\\nsamples = 619\\nvalue = [505, 114]'),\n",
              " Text(0.2538015598902942, 0.7916666666666666, 'X[101] <= 34.5\\ngini = 0.413\\nsamples = 144\\nvalue = [102, 42]'),\n",
              " Text(0.24683141264022324, 0.7638888888888888, 'X[45] <= 35.5\\ngini = 0.356\\nsamples = 121\\nvalue = [93, 28]'),\n",
              " Text(0.24526067523175654, 0.7361111111111112, 'gini = 0.0\\nsamples = 4\\nvalue = [0, 4]'),\n",
              " Text(0.24840215004868993, 0.7361111111111112, 'X[106] <= 144.5\\ngini = 0.326\\nsamples = 117\\nvalue = [93, 24]'),\n",
              " Text(0.2438862799993482, 0.7083333333333334, 'X[54] <= 113.5\\ngini = 0.498\\nsamples = 15\\nvalue = [7, 8]'),\n",
              " Text(0.2423155425908815, 0.6805555555555556, 'X[123] <= 137.0\\ngini = 0.32\\nsamples = 10\\nvalue = [2, 8]'),\n",
              " Text(0.24074480518241484, 0.6527777777777778, 'gini = 0.0\\nsamples = 2\\nvalue = [2, 0]'),\n",
              " Text(0.2438862799993482, 0.6527777777777778, 'gini = 0.0\\nsamples = 8\\nvalue = [0, 8]'),\n",
              " Text(0.2454570174078149, 0.6805555555555556, 'gini = 0.0\\nsamples = 5\\nvalue = [5, 0]'),\n",
              " Text(0.25291802009803166, 0.7083333333333334, 'X[1] <= 11.5\\ngini = 0.265\\nsamples = 102\\nvalue = [86, 16]'),\n",
              " Text(0.24859849222474825, 0.6805555555555556, 'X[100] <= 20.0\\ngini = 0.496\\nsamples = 11\\nvalue = [5, 6]'),\n",
              " Text(0.2470277548162816, 0.6527777777777778, 'X[163] <= 320.863\\ngini = 0.278\\nsamples = 6\\nvalue = [5, 1]'),\n",
              " Text(0.2454570174078149, 0.625, 'gini = 0.0\\nsamples = 5\\nvalue = [5, 0]'),\n",
              " Text(0.24859849222474825, 0.625, 'gini = 0.0\\nsamples = 1\\nvalue = [0, 1]'),\n",
              " Text(0.250169229633215, 0.6527777777777778, 'gini = 0.0\\nsamples = 5\\nvalue = [0, 5]'),\n",
              " Text(0.25723754797131504, 0.6805555555555556, 'X[149] <= 71.5\\ngini = 0.196\\nsamples = 91\\nvalue = [81, 10]'),\n",
              " Text(0.2533107044501483, 0.6527777777777778, 'X[162] <= 269.226\\ngini = 0.444\\nsamples = 3\\nvalue = [1, 2]'),\n",
              " Text(0.25173996704168167, 0.625, 'gini = 0.0\\nsamples = 1\\nvalue = [1, 0]'),\n",
              " Text(0.254881441858615, 0.625, 'gini = 0.0\\nsamples = 2\\nvalue = [0, 2]'),\n",
              " Text(0.2611643914924818, 0.6527777777777778, 'X[119] <= 300.0\\ngini = 0.165\\nsamples = 88\\nvalue = [80, 8]'),\n",
              " Text(0.2580229166755484, 0.625, 'X[159] <= 7.495\\ngini = 0.131\\nsamples = 85\\nvalue = [79, 6]'),\n",
              " Text(0.2564521792670817, 0.5972222222222222, 'X[178] <= 0.5\\ngini = 0.112\\nsamples = 84\\nvalue = [79, 5]'),\n",
              " Text(0.254881441858615, 0.5694444444444444, 'X[136] <= 149.5\\ngini = 0.092\\nsamples = 83\\nvalue = [79, 4]'),\n",
              " Text(0.2533107044501483, 0.5416666666666666, 'X[119] <= 192.961\\ngini = 0.287\\nsamples = 23\\nvalue = [19, 4]'),\n",
              " Text(0.250169229633215, 0.5138888888888888, 'X[57] <= 39.5\\ngini = 0.1\\nsamples = 19\\nvalue = [18, 1]'),\n",
              " Text(0.24859849222474825, 0.4861111111111111, 'gini = 0.0\\nsamples = 1\\nvalue = [0, 1]'),\n",
              " Text(0.25173996704168167, 0.4861111111111111, 'gini = 0.0\\nsamples = 18\\nvalue = [18, 0]'),\n",
              " Text(0.2564521792670817, 0.5138888888888888, 'X[118] <= 258.0\\ngini = 0.375\\nsamples = 4\\nvalue = [1, 3]'),\n",
              " Text(0.254881441858615, 0.4861111111111111, 'gini = 0.0\\nsamples = 3\\nvalue = [0, 3]'),\n",
              " Text(0.2580229166755484, 0.4861111111111111, 'gini = 0.0\\nsamples = 1\\nvalue = [1, 0]'),\n",
              " Text(0.2564521792670817, 0.5416666666666666, 'gini = 0.0\\nsamples = 60\\nvalue = [60, 0]'),\n",
              " Text(0.2580229166755484, 0.5694444444444444, 'gini = 0.0\\nsamples = 1\\nvalue = [0, 1]'),\n",
              " Text(0.2595936540840151, 0.5972222222222222, 'gini = 0.0\\nsamples = 1\\nvalue = [0, 1]'),\n",
              " Text(0.26430586630941516, 0.625, 'X[84] <= 23.0\\ngini = 0.444\\nsamples = 3\\nvalue = [1, 2]'),\n",
              " Text(0.26273512890094847, 0.5972222222222222, 'gini = 0.0\\nsamples = 1\\nvalue = [1, 0]'),\n",
              " Text(0.26587660371788185, 0.5972222222222222, 'gini = 0.0\\nsamples = 2\\nvalue = [0, 2]'),\n",
              " Text(0.26077170714036507, 0.7638888888888888, 'X[81] <= 62.0\\ngini = 0.476\\nsamples = 23\\nvalue = [9, 14]'),\n",
              " Text(0.25763023232343174, 0.7361111111111112, 'X[133] <= 9.75\\ngini = 0.219\\nsamples = 8\\nvalue = [7, 1]'),\n",
              " Text(0.25605949491496505, 0.7083333333333334, 'gini = 0.0\\nsamples = 7\\nvalue = [7, 0]'),\n",
              " Text(0.25920096973189843, 0.7083333333333334, 'gini = 0.0\\nsamples = 1\\nvalue = [0, 1]'),\n",
              " Text(0.26391318195729846, 0.7361111111111112, 'X[31] <= 23.3\\ngini = 0.231\\nsamples = 15\\nvalue = [2, 13]'),\n",
              " Text(0.26234244454883177, 0.7083333333333334, 'gini = 0.0\\nsamples = 2\\nvalue = [2, 0]'),\n",
              " Text(0.26548391936576515, 0.7083333333333334, 'gini = 0.0\\nsamples = 13\\nvalue = [0, 13]'),\n",
              " Text(0.32345394684698886, 0.7916666666666666, 'X[64] <= 196.0\\ngini = 0.257\\nsamples = 475\\nvalue = [403, 72]'),\n",
              " Text(0.3095627378908616, 0.7638888888888888, 'X[118] <= 314.0\\ngini = 0.238\\nsamples = 449\\nvalue = [387, 62]'),\n",
              " Text(0.29199011313364054, 0.7361111111111112, 'X[70] <= 46.5\\ngini = 0.216\\nsamples = 422\\nvalue = [370, 52]'),\n",
              " Text(0.28158397780254873, 0.7083333333333334, 'X[111] <= 10.651\\ngini = 0.375\\nsamples = 4\\nvalue = [1, 3]'),\n",
              " Text(0.28001324039408204, 0.6805555555555556, 'gini = 0.0\\nsamples = 3\\nvalue = [0, 3]'),\n",
              " Text(0.2831547152110154, 0.6805555555555556, 'gini = 0.0\\nsamples = 1\\nvalue = [1, 0]'),\n",
              " Text(0.30239624846473234, 0.7083333333333334, 'X[2] <= 85.5\\ngini = 0.207\\nsamples = 418\\nvalue = [369, 49]'),\n",
              " Text(0.28629619002794876, 0.6805555555555556, 'X[106] <= 176.5\\ngini = 0.173\\nsamples = 365\\nvalue = [330, 35]'),\n",
              " Text(0.2760863968729153, 0.6527777777777778, 'X[121] <= 3.25\\ngini = 0.135\\nsamples = 315\\nvalue = [292, 23]'),\n",
              " Text(0.2705888159432819, 0.625, 'X[119] <= 136.5\\ngini = 0.457\\nsamples = 17\\nvalue = [11, 6]'),\n",
              " Text(0.2690180785348152, 0.5972222222222222, 'gini = 0.0\\nsamples = 5\\nvalue = [0, 5]'),\n",
              " Text(0.2721595533517486, 0.5972222222222222, 'X[105] <= 0.61\\ngini = 0.153\\nsamples = 12\\nvalue = [11, 1]'),\n",
              " Text(0.2705888159432819, 0.5694444444444444, 'gini = 0.0\\nsamples = 1\\nvalue = [0, 1]'),\n",
              " Text(0.27373029076021527, 0.5694444444444444, 'gini = 0.0\\nsamples = 11\\nvalue = [11, 0]'),\n",
              " Text(0.28158397780254873, 0.625, 'X[104] <= 5.945\\ngini = 0.108\\nsamples = 298\\nvalue = [281, 17]'),\n",
              " Text(0.27844250298561535, 0.5972222222222222, 'X[160] <= 52.45\\ngini = 0.097\\nsamples = 295\\nvalue = [280, 15]'),\n",
              " Text(0.27687176557714865, 0.5694444444444444, 'gini = 0.0\\nsamples = 1\\nvalue = [0, 1]'),\n",
              " Text(0.28001324039408204, 0.5694444444444444, 'X[144] <= 6.128\\ngini = 0.091\\nsamples = 294\\nvalue = [280, 14]'),\n",
              " Text(0.27844250298561535, 0.5416666666666666, 'X[45] <= 65.5\\ngini = 0.085\\nsamples = 293\\nvalue = [280, 13]'),\n",
              " Text(0.27530102816868196, 0.5138888888888888, 'X[15] <= 65.65\\ngini = 0.073\\nsamples = 288\\nvalue = [277, 11]'),\n",
              " Text(0.27373029076021527, 0.4861111111111111, 'gini = 0.0\\nsamples = 1\\nvalue = [0, 1]'),\n",
              " Text(0.27687176557714865, 0.4861111111111111, 'X[1] <= 12.5\\ngini = 0.067\\nsamples = 287\\nvalue = [277, 10]'),\n",
              " Text(0.27068698703131105, 0.4583333333333333, 'X[65] <= 104.5\\ngini = 0.298\\nsamples = 22\\nvalue = [18, 4]'),\n",
              " Text(0.26911624962284436, 0.4305555555555556, 'gini = 0.0\\nsamples = 16\\nvalue = [16, 0]'),\n",
              " Text(0.27225772443977775, 0.4305555555555556, 'X[125] <= 8.5\\ngini = 0.444\\nsamples = 6\\nvalue = [2, 4]'),\n",
              " Text(0.27068698703131105, 0.4027777777777778, 'gini = 0.0\\nsamples = 2\\nvalue = [2, 0]'),\n",
              " Text(0.27382846184824444, 0.4027777777777778, 'gini = 0.0\\nsamples = 4\\nvalue = [0, 4]'),\n",
              " Text(0.28305654412298625, 0.4583333333333333, 'X[146] <= 1.1\\ngini = 0.044\\nsamples = 265\\nvalue = [259, 6]'),\n",
              " Text(0.2785406740736445, 0.4305555555555556, 'X[156] <= 57.4\\ngini = 0.5\\nsamples = 2\\nvalue = [1, 1]'),\n",
              " Text(0.27696993666517783, 0.4027777777777778, 'gini = 0.0\\nsamples = 1\\nvalue = [0, 1]'),\n",
              " Text(0.28011141148211116, 0.4027777777777778, 'gini = 0.0\\nsamples = 1\\nvalue = [1, 0]'),\n",
              " Text(0.28757241417232793, 0.4305555555555556, 'X[52] <= 318.0\\ngini = 0.037\\nsamples = 263\\nvalue = [258, 5]'),\n",
              " Text(0.28325288629904455, 0.4027777777777778, 'X[144] <= 0.985\\ngini = 0.03\\nsamples = 261\\nvalue = [257, 4]'),\n",
              " Text(0.27932604277787787, 0.375, 'X[112] <= 40.0\\ngini = 0.5\\nsamples = 2\\nvalue = [1, 1]'),\n",
              " Text(0.2777553053694112, 0.3472222222222222, 'gini = 0.0\\nsamples = 1\\nvalue = [0, 1]'),\n",
              " Text(0.2808967801863445, 0.3472222222222222, 'gini = 0.0\\nsamples = 1\\nvalue = [1, 0]'),\n",
              " Text(0.2871797298202113, 0.375, 'X[85] <= 1.5\\ngini = 0.023\\nsamples = 259\\nvalue = [256, 3]'),\n",
              " Text(0.2840382550032779, 0.3472222222222222, 'X[113] <= 24.55\\ngini = 0.444\\nsamples = 3\\nvalue = [2, 1]'),\n",
              " Text(0.2824675175948112, 0.3194444444444444, 'gini = 0.0\\nsamples = 1\\nvalue = [0, 1]'),\n",
              " Text(0.2856089924117446, 0.3194444444444444, 'gini = 0.0\\nsamples = 2\\nvalue = [2, 0]'),\n",
              " Text(0.29032120463714467, 0.3472222222222222, 'X[69] <= 35.15\\ngini = 0.016\\nsamples = 256\\nvalue = [254, 2]'),\n",
              " Text(0.288750467228678, 0.3194444444444444, 'X[68] <= 37.45\\ngini = 0.278\\nsamples = 12\\nvalue = [10, 2]'),\n",
              " Text(0.2871797298202113, 0.2916666666666667, 'gini = 0.0\\nsamples = 9\\nvalue = [9, 0]'),\n",
              " Text(0.29032120463714467, 0.2916666666666667, 'X[94] <= 38.05\\ngini = 0.444\\nsamples = 3\\nvalue = [1, 2]'),\n",
              " Text(0.288750467228678, 0.2638888888888889, 'gini = 0.0\\nsamples = 2\\nvalue = [0, 2]'),\n",
              " Text(0.29189194204561136, 0.2638888888888889, 'gini = 0.0\\nsamples = 1\\nvalue = [1, 0]'),\n",
              " Text(0.29189194204561136, 0.3194444444444444, 'gini = 0.0\\nsamples = 244\\nvalue = [244, 0]'),\n",
              " Text(0.29189194204561136, 0.4027777777777778, 'X[113] <= 22.75\\ngini = 0.5\\nsamples = 2\\nvalue = [1, 1]'),\n",
              " Text(0.29032120463714467, 0.375, 'gini = 0.0\\nsamples = 1\\nvalue = [0, 1]'),\n",
              " Text(0.29346267945407806, 0.375, 'gini = 0.0\\nsamples = 1\\nvalue = [1, 0]'),\n",
              " Text(0.28158397780254873, 0.5138888888888888, 'X[41] <= 1839.912\\ngini = 0.48\\nsamples = 5\\nvalue = [3, 2]'),\n",
              " Text(0.28001324039408204, 0.4861111111111111, 'gini = 0.0\\nsamples = 3\\nvalue = [3, 0]'),\n",
              " Text(0.2831547152110154, 0.4861111111111111, 'gini = 0.0\\nsamples = 2\\nvalue = [0, 2]'),\n",
              " Text(0.28158397780254873, 0.5416666666666666, 'gini = 0.0\\nsamples = 1\\nvalue = [0, 1]'),\n",
              " Text(0.28472545261948207, 0.5972222222222222, 'X[62] <= 133.94\\ngini = 0.444\\nsamples = 3\\nvalue = [1, 2]'),\n",
              " Text(0.2831547152110154, 0.5694444444444444, 'gini = 0.0\\nsamples = 1\\nvalue = [1, 0]'),\n",
              " Text(0.28629619002794876, 0.5694444444444444, 'gini = 0.0\\nsamples = 2\\nvalue = [0, 2]'),\n",
              " Text(0.2965059831829822, 0.6527777777777778, 'X[28] <= 3.5\\ngini = 0.365\\nsamples = 50\\nvalue = [38, 12]'),\n",
              " Text(0.29257913966181553, 0.625, 'X[74] <= 75.945\\ngini = 0.5\\nsamples = 16\\nvalue = [8, 8]'),\n",
              " Text(0.29100840225334884, 0.5972222222222222, 'X[47] <= 38.0\\ngini = 0.198\\nsamples = 9\\nvalue = [1, 8]'),\n",
              " Text(0.28943766484488215, 0.5694444444444444, 'gini = 0.0\\nsamples = 1\\nvalue = [1, 0]'),\n",
              " Text(0.29257913966181553, 0.5694444444444444, 'gini = 0.0\\nsamples = 8\\nvalue = [0, 8]'),\n",
              " Text(0.29414987707028223, 0.5972222222222222, 'gini = 0.0\\nsamples = 7\\nvalue = [7, 0]'),\n",
              " Text(0.30043282670414895, 0.625, 'X[105] <= 0.595\\ngini = 0.208\\nsamples = 34\\nvalue = [30, 4]'),\n",
              " Text(0.29729135188721556, 0.5972222222222222, 'X[122] <= 135.0\\ngini = 0.444\\nsamples = 3\\nvalue = [1, 2]'),\n",
              " Text(0.2957206144787489, 0.5694444444444444, 'gini = 0.0\\nsamples = 1\\nvalue = [1, 0]'),\n",
              " Text(0.29886208929568225, 0.5694444444444444, 'gini = 0.0\\nsamples = 2\\nvalue = [0, 2]'),\n",
              " Text(0.30357430152108233, 0.5972222222222222, 'X[45] <= 50.5\\ngini = 0.121\\nsamples = 31\\nvalue = [29, 2]'),\n",
              " Text(0.30200356411261564, 0.5694444444444444, 'X[70] <= 53.0\\ngini = 0.064\\nsamples = 30\\nvalue = [29, 1]'),\n",
              " Text(0.30043282670414895, 0.5416666666666666, 'X[29] <= 127.5\\ngini = 0.5\\nsamples = 2\\nvalue = [1, 1]'),\n",
              " Text(0.29886208929568225, 0.5138888888888888, 'gini = 0.0\\nsamples = 1\\nvalue = [0, 1]'),\n",
              " Text(0.30200356411261564, 0.5138888888888888, 'gini = 0.0\\nsamples = 1\\nvalue = [1, 0]'),\n",
              " Text(0.30357430152108233, 0.5416666666666666, 'gini = 0.0\\nsamples = 28\\nvalue = [28, 0]'),\n",
              " Text(0.30514503892954903, 0.5694444444444444, 'gini = 0.0\\nsamples = 1\\nvalue = [0, 1]'),\n",
              " Text(0.31849630690151587, 0.6805555555555556, 'X[51] <= 92.5\\ngini = 0.389\\nsamples = 53\\nvalue = [39, 14]'),\n",
              " Text(0.3169255694930492, 0.6527777777777778, 'X[125] <= 10.39\\ngini = 0.343\\nsamples = 50\\nvalue = [39, 11]'),\n",
              " Text(0.31299872597188244, 0.625, 'X[95] <= 36.557\\ngini = 0.483\\nsamples = 22\\nvalue = [13, 9]'),\n",
              " Text(0.3098572511549491, 0.5972222222222222, 'X[13] <= 0.035\\ngini = 0.18\\nsamples = 10\\nvalue = [9, 1]'),\n",
              " Text(0.3082865137464824, 0.5694444444444444, 'gini = 0.0\\nsamples = 1\\nvalue = [0, 1]'),\n",
              " Text(0.31142798856341575, 0.5694444444444444, 'gini = 0.0\\nsamples = 9\\nvalue = [9, 0]'),\n",
              " Text(0.31614020078881583, 0.5972222222222222, 'X[148] <= 172.772\\ngini = 0.444\\nsamples = 12\\nvalue = [4, 8]'),\n",
              " Text(0.31456946338034913, 0.5694444444444444, 'gini = 0.0\\nsamples = 3\\nvalue = [3, 0]'),\n",
              " Text(0.3177109381972825, 0.5694444444444444, 'X[66] <= 182.0\\ngini = 0.198\\nsamples = 9\\nvalue = [1, 8]'),\n",
              " Text(0.31614020078881583, 0.5416666666666666, 'gini = 0.0\\nsamples = 8\\nvalue = [0, 8]'),\n",
              " Text(0.3192816756057492, 0.5416666666666666, 'gini = 0.0\\nsamples = 1\\nvalue = [1, 0]'),\n",
              " Text(0.3208524130142159, 0.625, 'X[153] <= 133.462\\ngini = 0.133\\nsamples = 28\\nvalue = [26, 2]'),\n",
              " Text(0.3192816756057492, 0.5972222222222222, 'gini = 0.0\\nsamples = 1\\nvalue = [0, 1]'),\n",
              " Text(0.3224231504226826, 0.5972222222222222, 'X[91] <= 161.0\\ngini = 0.071\\nsamples = 27\\nvalue = [26, 1]'),\n",
              " Text(0.3208524130142159, 0.5694444444444444, 'gini = 0.0\\nsamples = 26\\nvalue = [26, 0]'),\n",
              " Text(0.3239938878311493, 0.5694444444444444, 'gini = 0.0\\nsamples = 1\\nvalue = [0, 1]'),\n",
              " Text(0.32006704430998256, 0.6527777777777778, 'gini = 0.0\\nsamples = 3\\nvalue = [0, 3]'),\n",
              " Text(0.32713536264808263, 0.7361111111111112, 'X[13] <= 3.983\\ngini = 0.466\\nsamples = 27\\nvalue = [17, 10]'),\n",
              " Text(0.325564625239616, 0.7083333333333334, 'X[29] <= 156.0\\ngini = 0.386\\nsamples = 23\\nvalue = [17, 6]'),\n",
              " Text(0.3239938878311493, 0.6805555555555556, 'gini = 0.0\\nsamples = 11\\nvalue = [11, 0]'),\n",
              " Text(0.32713536264808263, 0.6805555555555556, 'X[103] <= 8.65\\ngini = 0.5\\nsamples = 12\\nvalue = [6, 6]'),\n",
              " Text(0.325564625239616, 0.6527777777777778, 'X[37] <= 7.44\\ngini = 0.245\\nsamples = 7\\nvalue = [6, 1]'),\n",
              " Text(0.3239938878311493, 0.625, 'gini = 0.0\\nsamples = 6\\nvalue = [6, 0]'),\n",
              " Text(0.32713536264808263, 0.625, 'gini = 0.0\\nsamples = 1\\nvalue = [0, 1]'),\n",
              " Text(0.3287061000565493, 0.6527777777777778, 'gini = 0.0\\nsamples = 5\\nvalue = [0, 5]'),\n",
              " Text(0.3287061000565493, 0.7083333333333334, 'gini = 0.0\\nsamples = 4\\nvalue = [0, 4]'),\n",
              " Text(0.33734515580311614, 0.7638888888888888, 'X[119] <= 159.5\\ngini = 0.473\\nsamples = 26\\nvalue = [16, 10]'),\n",
              " Text(0.3334183122819494, 0.7361111111111112, 'X[75] <= 66.411\\ngini = 0.245\\nsamples = 7\\nvalue = [1, 6]'),\n",
              " Text(0.3318475748734827, 0.7083333333333334, 'gini = 0.0\\nsamples = 6\\nvalue = [0, 6]'),\n",
              " Text(0.3349890496904161, 0.7083333333333334, 'gini = 0.0\\nsamples = 1\\nvalue = [1, 0]'),\n",
              " Text(0.3412719993242828, 0.7361111111111112, 'X[96] <= 2.979\\ngini = 0.332\\nsamples = 19\\nvalue = [15, 4]'),\n",
              " Text(0.3381305245073495, 0.7083333333333334, 'X[58] <= 55.5\\ngini = 0.124\\nsamples = 15\\nvalue = [14, 1]'),\n",
              " Text(0.3365597870988828, 0.6805555555555556, 'gini = 0.0\\nsamples = 14\\nvalue = [14, 0]'),\n",
              " Text(0.3397012619158162, 0.6805555555555556, 'gini = 0.0\\nsamples = 1\\nvalue = [0, 1]'),\n",
              " Text(0.3444134741412162, 0.7083333333333334, 'X[46] <= 105.0\\ngini = 0.375\\nsamples = 4\\nvalue = [1, 3]'),\n",
              " Text(0.3428427367327495, 0.6805555555555556, 'gini = 0.0\\nsamples = 1\\nvalue = [1, 0]'),\n",
              " Text(0.3459842115496829, 0.6805555555555556, 'gini = 0.0\\nsamples = 3\\nvalue = [0, 3]'),\n",
              " Text(0.3491256863666163, 0.875, 'X[75] <= 63.411\\ngini = 0.498\\nsamples = 45\\nvalue = [24, 21]'),\n",
              " Text(0.3444134741412162, 0.8472222222222222, 'X[1] <= 25.5\\ngini = 0.426\\nsamples = 26\\nvalue = [8, 18]'),\n",
              " Text(0.3428427367327495, 0.8194444444444444, 'gini = 0.0\\nsamples = 3\\nvalue = [3, 0]'),\n",
              " Text(0.3459842115496829, 0.8194444444444444, 'X[0] <= 156228.0\\ngini = 0.34\\nsamples = 23\\nvalue = [5, 18]'),\n",
              " Text(0.3444134741412162, 0.7916666666666666, 'gini = 0.0\\nsamples = 2\\nvalue = [2, 0]'),\n",
              " Text(0.3475549489581496, 0.7916666666666666, 'X[163] <= 277.857\\ngini = 0.245\\nsamples = 21\\nvalue = [3, 18]'),\n",
              " Text(0.3459842115496829, 0.7638888888888888, 'X[46] <= 57.0\\ngini = 0.1\\nsamples = 19\\nvalue = [1, 18]'),\n",
              " Text(0.3444134741412162, 0.7361111111111112, 'gini = 0.0\\nsamples = 1\\nvalue = [1, 0]'),\n",
              " Text(0.3475549489581496, 0.7361111111111112, 'gini = 0.0\\nsamples = 18\\nvalue = [0, 18]'),\n",
              " Text(0.3491256863666163, 0.7638888888888888, 'gini = 0.0\\nsamples = 2\\nvalue = [2, 0]'),\n",
              " Text(0.35383789859201636, 0.8472222222222222, 'X[85] <= 15.5\\ngini = 0.266\\nsamples = 19\\nvalue = [16, 3]'),\n",
              " Text(0.35226716118354967, 0.8194444444444444, 'X[49] <= 56.5\\ngini = 0.5\\nsamples = 6\\nvalue = [3, 3]'),\n",
              " Text(0.350696423775083, 0.7916666666666666, 'gini = 0.0\\nsamples = 3\\nvalue = [3, 0]'),\n",
              " Text(0.35383789859201636, 0.7916666666666666, 'gini = 0.0\\nsamples = 3\\nvalue = [0, 3]'),\n",
              " Text(0.355408636000483, 0.8194444444444444, 'gini = 0.0\\nsamples = 13\\nvalue = [13, 0]'),\n",
              " Text(0.40687938273442414, 0.9027777777777778, 'X[2] <= 47.5\\ngini = 0.373\\nsamples = 1240\\nvalue = [933, 307]'),\n",
              " Text(0.3656184291555165, 0.875, 'X[13] <= 1.213\\ngini = 0.172\\nsamples = 232\\nvalue = [210, 22]'),\n",
              " Text(0.3616915856343498, 0.8472222222222222, 'X[155] <= 6.05\\ngini = 0.088\\nsamples = 196\\nvalue = [187, 9]'),\n",
              " Text(0.3585501108174164, 0.8194444444444444, 'X[25] <= 3.5\\ngini = 0.5\\nsamples = 6\\nvalue = [3, 3]'),\n",
              " Text(0.3569793734089497, 0.7916666666666666, 'gini = 0.0\\nsamples = 3\\nvalue = [3, 0]'),\n",
              " Text(0.3601208482258831, 0.7916666666666666, 'gini = 0.0\\nsamples = 3\\nvalue = [0, 3]'),\n",
              " Text(0.36483306045128316, 0.8194444444444444, 'X[82] <= 57.5\\ngini = 0.061\\nsamples = 190\\nvalue = [184, 6]'),\n",
              " Text(0.36326232304281647, 0.7916666666666666, 'gini = 0.0\\nsamples = 1\\nvalue = [0, 1]'),\n",
              " Text(0.36640379785974986, 0.7916666666666666, 'X[62] <= 237.5\\ngini = 0.052\\nsamples = 189\\nvalue = [184, 5]'),\n",
              " Text(0.36483306045128316, 0.7638888888888888, 'X[157] <= 81.456\\ngini = 0.042\\nsamples = 188\\nvalue = [184, 4]'),\n",
              " Text(0.36326232304281647, 0.7361111111111112, 'X[9] <= 3.5\\ngini = 0.032\\nsamples = 187\\nvalue = [184, 3]'),\n",
              " Text(0.3616915856343498, 0.7083333333333334, 'X[136] <= 83.5\\ngini = 0.021\\nsamples = 186\\nvalue = [184, 2]'),\n",
              " Text(0.3585501108174164, 0.6805555555555556, 'X[157] <= 40.103\\ngini = 0.375\\nsamples = 4\\nvalue = [3, 1]'),\n",
              " Text(0.3569793734089497, 0.6527777777777778, 'gini = 0.0\\nsamples = 1\\nvalue = [0, 1]'),\n",
              " Text(0.3601208482258831, 0.6527777777777778, 'gini = 0.0\\nsamples = 3\\nvalue = [3, 0]'),\n",
              " Text(0.36483306045128316, 0.6805555555555556, 'X[15] <= 168.4\\ngini = 0.011\\nsamples = 182\\nvalue = [181, 1]'),\n",
              " Text(0.36326232304281647, 0.6527777777777778, 'gini = 0.0\\nsamples = 176\\nvalue = [176, 0]'),\n",
              " Text(0.36640379785974986, 0.6527777777777778, 'X[100] <= 14.5\\ngini = 0.278\\nsamples = 6\\nvalue = [5, 1]'),\n",
              " Text(0.36483306045128316, 0.625, 'gini = 0.0\\nsamples = 1\\nvalue = [0, 1]'),\n",
              " Text(0.36797453526821655, 0.625, 'gini = 0.0\\nsamples = 5\\nvalue = [5, 0]'),\n",
              " Text(0.36483306045128316, 0.7083333333333334, 'gini = 0.0\\nsamples = 1\\nvalue = [0, 1]'),\n",
              " Text(0.36640379785974986, 0.7361111111111112, 'gini = 0.0\\nsamples = 1\\nvalue = [0, 1]'),\n",
              " Text(0.36797453526821655, 0.7638888888888888, 'gini = 0.0\\nsamples = 1\\nvalue = [0, 1]'),\n",
              " Text(0.36954527267668325, 0.8472222222222222, 'X[106] <= 147.5\\ngini = 0.461\\nsamples = 36\\nvalue = [23, 13]'),\n",
              " Text(0.36797453526821655, 0.8194444444444444, 'gini = 0.0\\nsamples = 12\\nvalue = [12, 0]'),\n",
              " Text(0.3711160100851499, 0.8194444444444444, 'X[1] <= 89.5\\ngini = 0.497\\nsamples = 24\\nvalue = [11, 13]'),\n",
              " Text(0.36954527267668325, 0.7916666666666666, 'gini = 0.0\\nsamples = 9\\nvalue = [0, 9]'),\n",
              " Text(0.3726867474936166, 0.7916666666666666, 'X[98] <= 0.6\\ngini = 0.391\\nsamples = 15\\nvalue = [11, 4]'),\n",
              " Text(0.3711160100851499, 0.7638888888888888, 'X[166] <= 7.238\\ngini = 0.32\\nsamples = 5\\nvalue = [1, 4]'),\n",
              " Text(0.36954527267668325, 0.7361111111111112, 'gini = 0.0\\nsamples = 1\\nvalue = [1, 0]'),\n",
              " Text(0.3726867474936166, 0.7361111111111112, 'gini = 0.0\\nsamples = 4\\nvalue = [0, 4]'),\n",
              " Text(0.37425748490208327, 0.7638888888888888, 'gini = 0.0\\nsamples = 10\\nvalue = [10, 0]'),\n",
              " Text(0.4481403363133318, 0.875, 'X[29] <= 88.5\\ngini = 0.406\\nsamples = 1008\\nvalue = [723, 285]'),\n",
              " Text(0.38721606852193347, 0.8472222222222222, 'X[10] <= 519.5\\ngini = 0.499\\nsamples = 94\\nvalue = [45, 49]'),\n",
              " Text(0.37896969712748335, 0.8194444444444444, 'X[107] <= 50.0\\ngini = 0.368\\nsamples = 37\\nvalue = [9, 28]'),\n",
              " Text(0.37739895971901666, 0.7916666666666666, 'gini = 0.0\\nsamples = 4\\nvalue = [4, 0]'),\n",
              " Text(0.38054043453595005, 0.7916666666666666, 'X[102] <= 7.65\\ngini = 0.257\\nsamples = 33\\nvalue = [5, 28]'),\n",
              " Text(0.37739895971901666, 0.7638888888888888, 'X[35] <= 35.2\\ngini = 0.375\\nsamples = 4\\nvalue = [3, 1]'),\n",
              " Text(0.37582822231054996, 0.7361111111111112, 'gini = 0.0\\nsamples = 1\\nvalue = [0, 1]'),\n",
              " Text(0.37896969712748335, 0.7361111111111112, 'gini = 0.0\\nsamples = 3\\nvalue = [3, 0]'),\n",
              " Text(0.38368190935288343, 0.7638888888888888, 'X[87] <= 82.0\\ngini = 0.128\\nsamples = 29\\nvalue = [2, 27]'),\n",
              " Text(0.38211117194441674, 0.7361111111111112, 'gini = 0.0\\nsamples = 1\\nvalue = [1, 0]'),\n",
              " Text(0.38525264676135007, 0.7361111111111112, 'X[101] <= 10.0\\ngini = 0.069\\nsamples = 28\\nvalue = [1, 27]'),\n",
              " Text(0.38368190935288343, 0.7083333333333334, 'gini = 0.0\\nsamples = 1\\nvalue = [1, 0]'),\n",
              " Text(0.38682338416981676, 0.7083333333333334, 'gini = 0.0\\nsamples = 27\\nvalue = [0, 27]'),\n",
              " Text(0.3954624399163836, 0.8194444444444444, 'X[110] <= 9.5\\ngini = 0.465\\nsamples = 57\\nvalue = [36, 21]'),\n",
              " Text(0.39153559639521684, 0.7916666666666666, 'X[57] <= 59.5\\ngini = 0.32\\nsamples = 15\\nvalue = [3, 12]'),\n",
              " Text(0.38996485898675015, 0.7638888888888888, 'X[22] <= 32.0\\ngini = 0.375\\nsamples = 4\\nvalue = [3, 1]'),\n",
              " Text(0.38839412157828346, 0.7361111111111112, 'gini = 0.0\\nsamples = 1\\nvalue = [0, 1]'),\n",
              " Text(0.39153559639521684, 0.7361111111111112, 'gini = 0.0\\nsamples = 3\\nvalue = [3, 0]'),\n",
              " Text(0.39310633380368354, 0.7638888888888888, 'gini = 0.0\\nsamples = 11\\nvalue = [0, 11]'),\n",
              " Text(0.3993892834375503, 0.7916666666666666, 'X[18] <= 158.51\\ngini = 0.337\\nsamples = 42\\nvalue = [33, 9]'),\n",
              " Text(0.3962478086206169, 0.7638888888888888, 'X[101] <= 10.5\\ngini = 0.278\\nsamples = 6\\nvalue = [1, 5]'),\n",
              " Text(0.39467707121215023, 0.7361111111111112, 'gini = 0.0\\nsamples = 1\\nvalue = [1, 0]'),\n",
              " Text(0.3978185460290836, 0.7361111111111112, 'gini = 0.0\\nsamples = 5\\nvalue = [0, 5]'),\n",
              " Text(0.40253075825448364, 0.7638888888888888, 'X[15] <= 99.55\\ngini = 0.198\\nsamples = 36\\nvalue = [32, 4]'),\n",
              " Text(0.40096002084601695, 0.7361111111111112, 'gini = 0.0\\nsamples = 26\\nvalue = [26, 0]'),\n",
              " Text(0.40410149566295034, 0.7361111111111112, 'X[18] <= 802.52\\ngini = 0.48\\nsamples = 10\\nvalue = [6, 4]'),\n",
              " Text(0.40253075825448364, 0.7083333333333334, 'gini = 0.0\\nsamples = 6\\nvalue = [6, 0]'),\n",
              " Text(0.40567223307141703, 0.7083333333333334, 'gini = 0.0\\nsamples = 4\\nvalue = [0, 4]'),\n",
              " Text(0.5090646041047301, 0.8472222222222222, 'X[20] <= 0.5\\ngini = 0.383\\nsamples = 914\\nvalue = [678, 236]'),\n",
              " Text(0.477373558009908, 0.8194444444444444, 'X[29] <= 162.5\\ngini = 0.372\\nsamples = 891\\nvalue = [671, 220]'),\n",
              " Text(0.4269899314446258, 0.7916666666666666, 'X[0] <= 175832.0\\ngini = 0.327\\nsamples = 593\\nvalue = [471, 122]'),\n",
              " Text(0.4158820262264505, 0.7638888888888888, 'X[63] <= 122.0\\ngini = 0.425\\nsamples = 134\\nvalue = [93, 41]'),\n",
              " Text(0.4143112888179838, 0.7361111111111112, 'X[1] <= 190.0\\ngini = 0.402\\nsamples = 129\\nvalue = [93, 36]'),\n",
              " Text(0.4088137078883504, 0.7083333333333334, 'X[2] <= 65.5\\ngini = 0.359\\nsamples = 115\\nvalue = [88, 27]'),\n",
              " Text(0.40253075825448364, 0.6805555555555556, 'X[38] <= 7.5\\ngini = 0.209\\nsamples = 59\\nvalue = [52, 7]'),\n",
              " Text(0.40096002084601695, 0.6527777777777778, 'gini = 0.0\\nsamples = 3\\nvalue = [0, 3]'),\n",
              " Text(0.40410149566295034, 0.6527777777777778, 'X[29] <= 99.0\\ngini = 0.133\\nsamples = 56\\nvalue = [52, 4]'),\n",
              " Text(0.40096002084601695, 0.625, 'X[86] <= 99.5\\ngini = 0.49\\nsamples = 7\\nvalue = [4, 3]'),\n",
              " Text(0.3993892834375503, 0.5972222222222222, 'gini = 0.0\\nsamples = 3\\nvalue = [0, 3]'),\n",
              " Text(0.40253075825448364, 0.5972222222222222, 'gini = 0.0\\nsamples = 4\\nvalue = [4, 0]'),\n",
              " Text(0.4072429704798837, 0.625, 'X[124] <= 5.05\\ngini = 0.04\\nsamples = 49\\nvalue = [48, 1]'),\n",
              " Text(0.40567223307141703, 0.5972222222222222, 'gini = 0.0\\nsamples = 1\\nvalue = [0, 1]'),\n",
              " Text(0.4088137078883504, 0.5972222222222222, 'gini = 0.0\\nsamples = 48\\nvalue = [48, 0]'),\n",
              " Text(0.41509665752221714, 0.6805555555555556, 'X[141] <= 10.15\\ngini = 0.459\\nsamples = 56\\nvalue = [36, 20]'),\n",
              " Text(0.4135259201137505, 0.6527777777777778, 'gini = 0.0\\nsamples = 4\\nvalue = [0, 4]'),\n",
              " Text(0.41666739493068383, 0.6527777777777778, 'X[111] <= 13.75\\ngini = 0.426\\nsamples = 52\\nvalue = [36, 16]'),\n",
              " Text(0.4135259201137505, 0.625, 'X[59] <= 3.5\\ngini = 0.364\\nsamples = 46\\nvalue = [35, 11]'),\n",
              " Text(0.4119551827052838, 0.5972222222222222, 'gini = 0.0\\nsamples = 2\\nvalue = [0, 2]'),\n",
              " Text(0.41509665752221714, 0.5972222222222222, 'X[60] <= 95.5\\ngini = 0.325\\nsamples = 44\\nvalue = [35, 9]'),\n",
              " Text(0.4135259201137505, 0.5694444444444444, 'gini = 0.0\\nsamples = 2\\nvalue = [0, 2]'),\n",
              " Text(0.41666739493068383, 0.5694444444444444, 'X[90] <= 187.5\\ngini = 0.278\\nsamples = 42\\nvalue = [35, 7]'),\n",
              " Text(0.41509665752221714, 0.5416666666666666, 'X[54] <= 83.5\\ngini = 0.219\\nsamples = 40\\nvalue = [35, 5]'),\n",
              " Text(0.4119551827052838, 0.5138888888888888, 'X[49] <= 37.5\\ngini = 0.48\\nsamples = 5\\nvalue = [2, 3]'),\n",
              " Text(0.4103844452968171, 0.4861111111111111, 'gini = 0.0\\nsamples = 2\\nvalue = [2, 0]'),\n",
              " Text(0.4135259201137505, 0.4861111111111111, 'gini = 0.0\\nsamples = 3\\nvalue = [0, 3]'),\n",
              " Text(0.4182381323391505, 0.5138888888888888, 'X[120] <= 3.55\\ngini = 0.108\\nsamples = 35\\nvalue = [33, 2]'),\n",
              " Text(0.41666739493068383, 0.4861111111111111, 'gini = 0.0\\nsamples = 1\\nvalue = [0, 1]'),\n",
              " Text(0.4198088697476172, 0.4861111111111111, 'X[18] <= 1456.04\\ngini = 0.057\\nsamples = 34\\nvalue = [33, 1]'),\n",
              " Text(0.4182381323391505, 0.4583333333333333, 'gini = 0.0\\nsamples = 31\\nvalue = [31, 0]'),\n",
              " Text(0.4213796071560839, 0.4583333333333333, 'X[29] <= 156.307\\ngini = 0.444\\nsamples = 3\\nvalue = [2, 1]'),\n",
              " Text(0.4198088697476172, 0.4305555555555556, 'gini = 0.0\\nsamples = 2\\nvalue = [2, 0]'),\n",
              " Text(0.4229503445645506, 0.4305555555555556, 'gini = 0.0\\nsamples = 1\\nvalue = [0, 1]'),\n",
              " Text(0.4182381323391505, 0.5416666666666666, 'gini = 0.0\\nsamples = 2\\nvalue = [0, 2]'),\n",
              " Text(0.4198088697476172, 0.625, 'X[126] <= 3.549\\ngini = 0.278\\nsamples = 6\\nvalue = [1, 5]'),\n",
              " Text(0.4182381323391505, 0.5972222222222222, 'gini = 0.0\\nsamples = 5\\nvalue = [0, 5]'),\n",
              " Text(0.4213796071560839, 0.5972222222222222, 'gini = 0.0\\nsamples = 1\\nvalue = [1, 0]'),\n",
              " Text(0.4198088697476172, 0.7083333333333334, 'X[118] <= 143.5\\ngini = 0.459\\nsamples = 14\\nvalue = [5, 9]'),\n",
              " Text(0.4182381323391505, 0.6805555555555556, 'gini = 0.0\\nsamples = 4\\nvalue = [4, 0]'),\n",
              " Text(0.4213796071560839, 0.6805555555555556, 'X[49] <= 68.5\\ngini = 0.18\\nsamples = 10\\nvalue = [1, 9]'),\n",
              " Text(0.4198088697476172, 0.6527777777777778, 'gini = 0.0\\nsamples = 9\\nvalue = [0, 9]'),\n",
              " Text(0.4229503445645506, 0.6527777777777778, 'gini = 0.0\\nsamples = 1\\nvalue = [1, 0]'),\n",
              " Text(0.4174527636349172, 0.7361111111111112, 'gini = 0.0\\nsamples = 5\\nvalue = [0, 5]'),\n",
              " Text(0.4380978366628011, 0.7638888888888888, 'X[110] <= 9.25\\ngini = 0.291\\nsamples = 459\\nvalue = [378, 81]'),\n",
              " Text(0.4276625567899507, 0.7361111111111112, 'X[91] <= 132.5\\ngini = 0.449\\nsamples = 47\\nvalue = [31, 16]'),\n",
              " Text(0.426091819381484, 0.7083333333333334, 'X[38] <= 4.5\\ngini = 0.387\\nsamples = 42\\nvalue = [31, 11]'),\n",
              " Text(0.4245210819730173, 0.6805555555555556, 'gini = 0.0\\nsamples = 4\\nvalue = [0, 4]'),\n",
              " Text(0.4276625567899507, 0.6805555555555556, 'X[111] <= 9.15\\ngini = 0.301\\nsamples = 38\\nvalue = [31, 7]'),\n",
              " Text(0.426091819381484, 0.6527777777777778, 'X[105] <= 0.67\\ngini = 0.202\\nsamples = 35\\nvalue = [31, 4]'),\n",
              " Text(0.4245210819730173, 0.625, 'gini = 0.0\\nsamples = 2\\nvalue = [0, 2]'),\n",
              " Text(0.4276625567899507, 0.625, 'X[74] <= 42.5\\ngini = 0.114\\nsamples = 33\\nvalue = [31, 2]'),\n",
              " Text(0.426091819381484, 0.5972222222222222, 'gini = 0.0\\nsamples = 1\\nvalue = [0, 1]'),\n",
              " Text(0.4292332941984173, 0.5972222222222222, 'X[86] <= 93.0\\ngini = 0.061\\nsamples = 32\\nvalue = [31, 1]'),\n",
              " Text(0.4276625567899507, 0.5694444444444444, 'gini = 0.0\\nsamples = 1\\nvalue = [0, 1]'),\n",
              " Text(0.430804031606884, 0.5694444444444444, 'gini = 0.0\\nsamples = 31\\nvalue = [31, 0]'),\n",
              " Text(0.4292332941984173, 0.6527777777777778, 'gini = 0.0\\nsamples = 3\\nvalue = [0, 3]'),\n",
              " Text(0.4292332941984173, 0.7083333333333334, 'gini = 0.0\\nsamples = 5\\nvalue = [0, 5]'),\n",
              " Text(0.4485331165356516, 0.7361111111111112, 'X[68] <= 35.55\\ngini = 0.266\\nsamples = 412\\nvalue = [347, 65]'),\n",
              " Text(0.4469623791271849, 0.7083333333333334, 'gini = 0.0\\nsamples = 2\\nvalue = [0, 2]'),\n",
              " Text(0.4501038539441183, 0.7083333333333334, 'X[166] <= 7.367\\ngini = 0.26\\nsamples = 410\\nvalue = [347, 63]'),\n",
              " Text(0.44117948847296673, 0.6805555555555556, 'X[161] <= 87.55\\ngini = 0.236\\nsamples = 380\\nvalue = [328, 52]'),\n",
              " Text(0.43627706976451014, 0.6527777777777778, 'X[158] <= 7.245\\ngini = 0.03\\nsamples = 66\\nvalue = [65, 1]'),\n",
              " Text(0.43470633235604345, 0.625, 'gini = 0.0\\nsamples = 1\\nvalue = [0, 1]'),\n",
              " Text(0.43784780717297683, 0.625, 'gini = 0.0\\nsamples = 65\\nvalue = [65, 0]'),\n",
              " Text(0.4460819071814233, 0.6527777777777778, 'X[68] <= 38.75\\ngini = 0.272\\nsamples = 314\\nvalue = [263, 51]'),\n",
              " Text(0.4409892819899102, 0.625, 'X[0] <= 198706.0\\ngini = 0.256\\nsamples = 305\\nvalue = [259, 46]'),\n",
              " Text(0.4355162438322841, 0.5972222222222222, 'X[55] <= 34.5\\ngini = 0.036\\nsamples = 54\\nvalue = [53, 1]'),\n",
              " Text(0.4339455064238174, 0.5694444444444444, 'gini = 0.0\\nsamples = 1\\nvalue = [0, 1]'),\n",
              " Text(0.4370869812407508, 0.5694444444444444, 'gini = 0.0\\nsamples = 53\\nvalue = [53, 0]'),\n",
              " Text(0.44646232014753634, 0.5972222222222222, 'X[124] <= 8.305\\ngini = 0.294\\nsamples = 251\\nvalue = [206, 45]'),\n",
              " Text(0.4402284560576842, 0.5694444444444444, 'X[38] <= 22.0\\ngini = 0.465\\nsamples = 38\\nvalue = [24, 14]'),\n",
              " Text(0.4386577186492175, 0.5416666666666666, 'X[72] <= 69.0\\ngini = 0.493\\nsamples = 25\\nvalue = [11, 14]'),\n",
              " Text(0.4355162438322841, 0.5138888888888888, 'X[119] <= 179.5\\ngini = 0.219\\nsamples = 8\\nvalue = [7, 1]'),\n",
              " Text(0.4339455064238174, 0.4861111111111111, 'gini = 0.0\\nsamples = 7\\nvalue = [7, 0]'),\n",
              " Text(0.4370869812407508, 0.4861111111111111, 'gini = 0.0\\nsamples = 1\\nvalue = [0, 1]'),\n",
              " Text(0.4417991934661509, 0.5138888888888888, 'X[109] <= 23.58\\ngini = 0.36\\nsamples = 17\\nvalue = [4, 13]'),\n",
              " Text(0.4402284560576842, 0.4861111111111111, 'X[105] <= 1.386\\ngini = 0.49\\nsamples = 7\\nvalue = [4, 3]'),\n",
              " Text(0.4386577186492175, 0.4583333333333333, 'gini = 0.0\\nsamples = 4\\nvalue = [4, 0]'),\n",
              " Text(0.4417991934661509, 0.4583333333333333, 'gini = 0.0\\nsamples = 3\\nvalue = [0, 3]'),\n",
              " Text(0.44336993087461757, 0.4861111111111111, 'gini = 0.0\\nsamples = 10\\nvalue = [0, 10]'),\n",
              " Text(0.4417991934661509, 0.5416666666666666, 'gini = 0.0\\nsamples = 13\\nvalue = [13, 0]'),\n",
              " Text(0.4526961842373885, 0.5694444444444444, 'X[0] <= 199629.5\\ngini = 0.249\\nsamples = 213\\nvalue = [182, 31]'),\n",
              " Text(0.4511254468289218, 0.5416666666666666, 'gini = 0.0\\nsamples = 2\\nvalue = [0, 2]'),\n",
              " Text(0.4542669216458552, 0.5416666666666666, 'X[51] <= 39.0\\ngini = 0.237\\nsamples = 211\\nvalue = [182, 29]'),\n",
              " Text(0.4480821431000176, 0.5138888888888888, 'X[40] <= 36.355\\ngini = 0.5\\nsamples = 8\\nvalue = [4, 4]'),\n",
              " Text(0.4465114056915509, 0.4861111111111111, 'gini = 0.0\\nsamples = 3\\nvalue = [0, 3]'),\n",
              " Text(0.4496528805084843, 0.4861111111111111, 'X[67] <= 118.0\\ngini = 0.32\\nsamples = 5\\nvalue = [4, 1]'),\n",
              " Text(0.4480821431000176, 0.4583333333333333, 'gini = 0.0\\nsamples = 4\\nvalue = [4, 0]'),\n",
              " Text(0.451223617916951, 0.4583333333333333, 'gini = 0.0\\nsamples = 1\\nvalue = [0, 1]'),\n",
              " Text(0.4604517001916928, 0.5138888888888888, 'X[95] <= 35.35\\ngini = 0.216\\nsamples = 203\\nvalue = [178, 25]'),\n",
              " Text(0.45593583014235106, 0.4861111111111111, 'X[165] <= 43.256\\ngini = 0.444\\nsamples = 3\\nvalue = [1, 2]'),\n",
              " Text(0.45436509273388437, 0.4583333333333333, 'gini = 0.0\\nsamples = 1\\nvalue = [1, 0]'),\n",
              " Text(0.45750656755081776, 0.4583333333333333, 'gini = 0.0\\nsamples = 2\\nvalue = [0, 2]'),\n",
              " Text(0.4649675702410345, 0.4861111111111111, 'X[70] <= 56.5\\ngini = 0.204\\nsamples = 200\\nvalue = [177, 23]'),\n",
              " Text(0.4606480423677511, 0.4583333333333333, 'X[95] <= 37.45\\ngini = 0.444\\nsamples = 3\\nvalue = [1, 2]'),\n",
              " Text(0.4590773049592844, 0.4305555555555556, 'gini = 0.0\\nsamples = 2\\nvalue = [0, 2]'),\n",
              " Text(0.4622187797762178, 0.4305555555555556, 'gini = 0.0\\nsamples = 1\\nvalue = [1, 0]'),\n",
              " Text(0.4692870981143179, 0.4583333333333333, 'X[74] <= 104.5\\ngini = 0.19\\nsamples = 197\\nvalue = [176, 21]'),\n",
              " Text(0.46536025459315117, 0.4305555555555556, 'X[71] <= 83.5\\ngini = 0.165\\nsamples = 187\\nvalue = [170, 17]'),\n",
              " Text(0.4622187797762178, 0.4027777777777778, 'X[67] <= 159.5\\ngini = 0.15\\nsamples = 184\\nvalue = [169, 15]'),\n",
              " Text(0.4606480423677511, 0.375, 'X[104] <= 0.465\\ngini = 0.141\\nsamples = 183\\nvalue = [169, 14]'),\n",
              " Text(0.4590773049592844, 0.3472222222222222, 'gini = 0.0\\nsamples = 1\\nvalue = [0, 1]'),\n",
              " Text(0.4622187797762178, 0.3472222222222222, 'X[59] <= 29.5\\ngini = 0.133\\nsamples = 182\\nvalue = [169, 13]'),\n",
              " Text(0.4606480423677511, 0.3194444444444444, 'X[40] <= 37.75\\ngini = 0.124\\nsamples = 181\\nvalue = [169, 12]'),\n",
              " Text(0.4590773049592844, 0.2916666666666667, 'X[41] <= 3941.438\\ngini = 0.115\\nsamples = 180\\nvalue = [169, 11]'),\n",
              " Text(0.45593583014235106, 0.2638888888888889, 'X[63] <= 142.5\\ngini = 0.097\\nsamples = 176\\nvalue = [167, 9]'),\n",
              " Text(0.45436509273388437, 0.2361111111111111, 'X[136] <= 115.5\\ngini = 0.087\\nsamples = 175\\nvalue = [167, 8]'),\n",
              " Text(0.44984922268454264, 0.20833333333333334, 'X[12] <= 3.0\\ngini = 0.444\\nsamples = 9\\nvalue = [6, 3]'),\n",
              " Text(0.44827848527607594, 0.18055555555555555, 'gini = 0.0\\nsamples = 3\\nvalue = [0, 3]'),\n",
              " Text(0.45141996009300933, 0.18055555555555555, 'gini = 0.0\\nsamples = 6\\nvalue = [6, 0]'),\n",
              " Text(0.4588809627832261, 0.20833333333333334, 'X[7] <= 151.0\\ngini = 0.058\\nsamples = 166\\nvalue = [161, 5]'),\n",
              " Text(0.4545614349099427, 0.18055555555555555, 'X[1] <= 165.5\\ngini = 0.408\\nsamples = 7\\nvalue = [5, 2]'),\n",
              " Text(0.452990697501476, 0.1527777777777778, 'gini = 0.0\\nsamples = 5\\nvalue = [5, 0]'),\n",
              " Text(0.45613217231840936, 0.1527777777777778, 'gini = 0.0\\nsamples = 2\\nvalue = [0, 2]'),\n",
              " Text(0.4632004906565095, 0.18055555555555555, 'X[57] <= 104.5\\ngini = 0.037\\nsamples = 159\\nvalue = [156, 3]'),\n",
              " Text(0.45927364713534274, 0.1527777777777778, 'X[92] <= 184.5\\ngini = 0.025\\nsamples = 155\\nvalue = [153, 2]'),\n",
              " Text(0.45613217231840936, 0.125, 'X[62] <= 127.0\\ngini = 0.013\\nsamples = 151\\nvalue = [150, 1]'),\n",
              " Text(0.4545614349099427, 0.09722222222222222, 'X[51] <= 57.0\\ngini = 0.278\\nsamples = 6\\nvalue = [5, 1]'),\n",
              " Text(0.452990697501476, 0.06944444444444445, 'gini = 0.0\\nsamples = 1\\nvalue = [0, 1]'),\n",
              " Text(0.45613217231840936, 0.06944444444444445, 'gini = 0.0\\nsamples = 5\\nvalue = [5, 0]'),\n",
              " Text(0.45770290972687605, 0.09722222222222222, 'gini = 0.0\\nsamples = 145\\nvalue = [145, 0]'),\n",
              " Text(0.46241512195227613, 0.125, 'X[65] <= 127.5\\ngini = 0.375\\nsamples = 4\\nvalue = [3, 1]'),\n",
              " Text(0.46084438454380944, 0.09722222222222222, 'gini = 0.0\\nsamples = 3\\nvalue = [3, 0]'),\n",
              " Text(0.4639858593607428, 0.09722222222222222, 'gini = 0.0\\nsamples = 1\\nvalue = [0, 1]'),\n",
              " Text(0.4671273341776762, 0.1527777777777778, 'X[73] <= 69.74\\ngini = 0.375\\nsamples = 4\\nvalue = [3, 1]'),\n",
              " Text(0.4655565967692095, 0.125, 'gini = 0.0\\nsamples = 1\\nvalue = [0, 1]'),\n",
              " Text(0.4686980715861429, 0.125, 'gini = 0.0\\nsamples = 3\\nvalue = [3, 0]'),\n",
              " Text(0.45750656755081776, 0.2361111111111111, 'gini = 0.0\\nsamples = 1\\nvalue = [0, 1]'),\n",
              " Text(0.4622187797762178, 0.2638888888888889, 'X[62] <= 159.94\\ngini = 0.5\\nsamples = 4\\nvalue = [2, 2]'),\n",
              " Text(0.4606480423677511, 0.2361111111111111, 'gini = 0.0\\nsamples = 2\\nvalue = [0, 2]'),\n",
              " Text(0.4637895171846845, 0.2361111111111111, 'gini = 0.0\\nsamples = 2\\nvalue = [2, 0]'),\n",
              " Text(0.4622187797762178, 0.2916666666666667, 'gini = 0.0\\nsamples = 1\\nvalue = [0, 1]'),\n",
              " Text(0.4637895171846845, 0.3194444444444444, 'gini = 0.0\\nsamples = 1\\nvalue = [0, 1]'),\n",
              " Text(0.4637895171846845, 0.375, 'gini = 0.0\\nsamples = 1\\nvalue = [0, 1]'),\n",
              " Text(0.46850172941008456, 0.4027777777777778, 'X[5] <= 3.5\\ngini = 0.444\\nsamples = 3\\nvalue = [1, 2]'),\n",
              " Text(0.46693099200161786, 0.375, 'gini = 0.0\\nsamples = 2\\nvalue = [0, 2]'),\n",
              " Text(0.47007246681855125, 0.375, 'gini = 0.0\\nsamples = 1\\nvalue = [1, 0]'),\n",
              " Text(0.47321394163548464, 0.4305555555555556, 'X[17] <= 119.5\\ngini = 0.48\\nsamples = 10\\nvalue = [6, 4]'),\n",
              " Text(0.47164320422701794, 0.4027777777777778, 'gini = 0.0\\nsamples = 5\\nvalue = [5, 0]'),\n",
              " Text(0.4747846790439513, 0.4027777777777778, 'X[98] <= 0.75\\ngini = 0.32\\nsamples = 5\\nvalue = [1, 4]'),\n",
              " Text(0.47321394163548464, 0.375, 'gini = 0.0\\nsamples = 1\\nvalue = [1, 0]'),\n",
              " Text(0.47635541645241797, 0.375, 'gini = 0.0\\nsamples = 4\\nvalue = [0, 4]'),\n",
              " Text(0.4511745323729364, 0.625, 'X[111] <= 11.051\\ngini = 0.494\\nsamples = 9\\nvalue = [4, 5]'),\n",
              " Text(0.4496037949644697, 0.5972222222222222, 'gini = 0.0\\nsamples = 4\\nvalue = [4, 0]'),\n",
              " Text(0.45274526978140306, 0.5972222222222222, 'gini = 0.0\\nsamples = 5\\nvalue = [0, 5]'),\n",
              " Text(0.45902821941526983, 0.6805555555555556, 'X[171] <= 123.333\\ngini = 0.464\\nsamples = 30\\nvalue = [19, 11]'),\n",
              " Text(0.45745748200680314, 0.6527777777777778, 'gini = 0.0\\nsamples = 4\\nvalue = [0, 4]'),\n",
              " Text(0.4605989568237365, 0.6527777777777778, 'X[141] <= 11.137\\ngini = 0.393\\nsamples = 26\\nvalue = [19, 7]'),\n",
              " Text(0.45745748200680314, 0.625, 'X[59] <= 4.5\\ngini = 0.124\\nsamples = 15\\nvalue = [14, 1]'),\n",
              " Text(0.45588674459833645, 0.5972222222222222, 'gini = 0.0\\nsamples = 1\\nvalue = [0, 1]'),\n",
              " Text(0.45902821941526983, 0.5972222222222222, 'gini = 0.0\\nsamples = 14\\nvalue = [14, 0]'),\n",
              " Text(0.4637404316406699, 0.625, 'X[110] <= 12.05\\ngini = 0.496\\nsamples = 11\\nvalue = [5, 6]'),\n",
              " Text(0.4621696942322032, 0.5972222222222222, 'gini = 0.0\\nsamples = 5\\nvalue = [0, 5]'),\n",
              " Text(0.4653111690491366, 0.5972222222222222, 'X[66] <= 152.0\\ngini = 0.278\\nsamples = 6\\nvalue = [5, 1]'),\n",
              " Text(0.4637404316406699, 0.5694444444444444, 'gini = 0.0\\nsamples = 5\\nvalue = [5, 0]'),\n",
              " Text(0.46688190645760325, 0.5694444444444444, 'gini = 0.0\\nsamples = 1\\nvalue = [0, 1]'),\n",
              " Text(0.5277571845751902, 0.7916666666666666, 'X[91] <= 155.0\\ngini = 0.441\\nsamples = 298\\nvalue = [200, 98]'),\n",
              " Text(0.5179001937677615, 0.7638888888888888, 'X[3] <= 39.461\\ngini = 0.41\\nsamples = 271\\nvalue = [193, 78]'),\n",
              " Text(0.5076106366037043, 0.7361111111111112, 'X[88] <= 153.5\\ngini = 0.356\\nsamples = 216\\nvalue = [166, 50]'),\n",
              " Text(0.4980266841348568, 0.7083333333333334, 'X[157] <= 37.95\\ngini = 0.326\\nsamples = 205\\nvalue = [163, 42]'),\n",
              " Text(0.492160961625114, 0.6805555555555556, 'X[65] <= 131.0\\ngini = 0.04\\nsamples = 49\\nvalue = [48, 1]'),\n",
              " Text(0.49059022421664733, 0.6527777777777778, 'gini = 0.0\\nsamples = 48\\nvalue = [48, 0]'),\n",
              " Text(0.4937316990335807, 0.6527777777777778, 'gini = 0.0\\nsamples = 1\\nvalue = [0, 1]'),\n",
              " Text(0.5038924066445996, 0.6805555555555556, 'X[68] <= 37.865\\ngini = 0.387\\nsamples = 156\\nvalue = [115, 41]'),\n",
              " ...]"
            ]
          },
          "metadata": {},
          "execution_count": 18
        },
        {
          "output_type": "display_data",
          "data": {
            "text/plain": [
              "<Figure size 432x288 with 1 Axes>"
            ],
            "image/png": "[encoded data removed]"
          },
          "metadata": {
            "needs_background": "light"
          }
        }
      ],
      "source": [
        "tree.plot_tree(clf_tree)"
      ]
    },
    {
      "cell_type": "markdown",
      "metadata": {
        "id": "95PoDqCxyHbC"
      },
      "source": [
        "### 5\\. Visualize the decision tree as a text based diagram"
      ]
    },
    {
      "cell_type": "code",
      "execution_count": null,
      "metadata": {
        "colab": {
          "base_uri": "https://localhost:8080/"
        },
        "id": "kJzxyWaqm16q",
        "outputId": "25d77d8c-3ffc-4535-decc-b2c397ae7a13"
      },
      "outputs": [
        {
          "output_type": "stream",
          "name": "stdout",
          "text": [
            "|--- feature_106 <= 189.50\n",
            "|   |--- feature_106 <= 135.50\n",
            "|   |   |--- feature_104 <= 1.50\n",
            "|   |   |   |--- feature_106 <= 113.50\n",
            "|   |   |   |   |--- feature_3 <= 32.89\n",
            "|   |   |   |   |   |--- feature_88 <= 204.50\n",
            "|   |   |   |   |   |   |--- feature_62 <= 110.50\n",
            "|   |   |   |   |   |   |   |--- feature_113 <= 36.55\n",
            "|   |   |   |   |   |   |   |   |--- class: 0\n",
            "|   |   |   |   |   |   |   |--- feature_113 >  36.55\n",
            "|   |   |   |   |   |   |   |   |--- class: 1\n",
            "|   |   |   |   |   |   |--- feature_62 >  110.50\n",
            "|   |   |   |   |   |   |   |--- feature_124 <= 1.35\n",
            "|   |   |   |   |   |   |   |   |--- feature_108 <= 27.50\n",
            "|   |   |   |   |   |   |   |   |   |--- class: 0\n",
            "|   |   |   |   |   |   |   |   |--- feature_108 >  27.50\n",
            "|   |   |   |   |   |   |   |   |   |--- class: 1\n",
            "|   |   |   |   |   |   |   |--- feature_124 >  1.35\n",
            "|   |   |   |   |   |   |   |   |--- feature_51 <= 40.50\n",
            "|   |   |   |   |   |   |   |   |   |--- feature_41 <= 1080.91\n",
            "|   |   |   |   |   |   |   |   |   |   |-\n"
          ]
        }
      ],
      "source": [
        "from sklearn.tree import export_text\n",
        "\n",
        "r = export_text(clf_tree)\n",
        "# will show only part of the text based diagram, otherwise, it will be too long\n",
        "print(r[:1000])"
      ]
    },
    {
      "cell_type": "markdown",
      "metadata": {
        "id": "ug5lWKdnxwQx"
      },
      "source": [
        "### 6\\.  Show the feature importances computed by the classifier"
      ]
    },
    {
      "cell_type": "code",
      "execution_count": null,
      "metadata": {
        "colab": {
          "base_uri": "https://localhost:8080/"
        },
        "id": "-QflqjnKxwQy",
        "outputId": "22a3ddc8-a818-44d9-f5b8-3575698149ca"
      },
      "outputs": [
        {
          "output_type": "execute_result",
          "data": {
            "text/plain": [
              "array([0.0141768 , 0.01369373, 0.01493554, 0.01973854, 0.0009419 ,\n",
              "       0.00391088, 0.        , 0.00780492, 0.00158028, 0.00128767])"
            ]
          },
          "metadata": {},
          "execution_count": 20
        }
      ],
      "source": [
        "# show only first 10 features, otherwise it will be too long\n",
        "clf_tree.feature_importances_[:10]"
      ]
    },
    {
      "cell_type": "markdown",
      "metadata": {
        "id": "gzzOJfGjEJDY"
      },
      "source": [
        "### 7\\. Create a bar chart of the feature importances with importance level on the x-axis, and the features on the y-axis"
      ]
    },
    {
      "cell_type": "code",
      "execution_count": null,
      "metadata": {
        "colab": {
          "base_uri": "https://localhost:8080/",
          "height": 385
        },
        "id": "onHt3VzrEL5S",
        "outputId": "e471dc10-617e-41f5-c85a-522f3a2d768c"
      },
      "outputs": [
        {
          "output_type": "execute_result",
          "data": {
            "text/plain": [
              "<BarContainer object of 10 artists>"
            ]
          },
          "metadata": {},
          "execution_count": 21
        },
        {
          "output_type": "display_data",
          "data": {
            "text/plain": [
              "<Figure size 432x288 with 1 Axes>"
            ],
            "image/png": "[encoded data removed]"
          },
          "metadata": {
            "needs_background": "light"
          }
        }
      ],
      "source": [
        "plt.xticks(rotation = 'vertical')\n",
        "\n",
        "# plot first 10 columns because it's too long\n",
        "plt.bar(x_train.columns[:10], clf_tree.feature_importances_[:10])"
      ]
    },
    {
      "cell_type": "markdown",
      "metadata": {
        "id": "m1V1OcYclKCu"
      },
      "source": [
        "## Section 3: Random Forest Classifier"
      ]
    },
    {
      "cell_type": "markdown",
      "metadata": {
        "id": "XLXlIOb18EAT"
      },
      "source": [
        "### 1\\.  Train a Random Forest Classifier on the diabetes data"
      ]
    },
    {
      "cell_type": "code",
      "execution_count": null,
      "metadata": {
        "colab": {
          "base_uri": "https://localhost:8080/"
        },
        "id": "zKadhH5Ak3aj",
        "outputId": "bd78515c-428d-4a43-b8d6-8c9d123ae59a"
      },
      "outputs": [
        {
          "output_type": "execute_result",
          "data": {
            "text/plain": [
              "RandomForestClassifier()"
            ]
          },
          "metadata": {},
          "execution_count": 22
        }
      ],
      "source": [
        "from sklearn.ensemble import RandomForestClassifier\n",
        "rf_clf = RandomForestClassifier()\n",
        "rf_clf.fit(x_train, y_train)"
      ]
    },
    {
      "cell_type": "markdown",
      "metadata": {
        "id": "SvRmCB8hyVJK"
      },
      "source": [
        "### 2\\. Use your classifier on your test data & show a [classification_report](https://scikit-learn.org/stable/modules/generated/sklearn.metrics.classification_report.html) for its performance"
      ]
    },
    {
      "cell_type": "code",
      "execution_count": null,
      "metadata": {
        "colab": {
          "base_uri": "https://localhost:8080/"
        },
        "id": "mt788jaRqThB",
        "outputId": "407a9db2-9c52-49f7-cf6d-3001c7030525"
      },
      "outputs": [
        {
          "output_type": "stream",
          "name": "stdout",
          "text": [
            "              precision    recall  f1-score   support\n",
            "\n",
            "           0       0.83      0.96      0.89      3351\n",
            "           1       0.70      0.29      0.41       945\n",
            "\n",
            "    accuracy                           0.82      4296\n",
            "   macro avg       0.77      0.63      0.65      4296\n",
            "weighted avg       0.80      0.82      0.79      4296\n",
            "\n"
          ]
        }
      ],
      "source": [
        "y_pred = rf_clf.predict(x_test)\n",
        "print(classification_report(y_test, y_pred))"
      ]
    },
    {
      "cell_type": "markdown",
      "metadata": {
        "id": "esVpUga3xGfu"
      },
      "source": [
        "### 3\\. Show the confusion matrix heatmap for the predictions"
      ]
    },
    {
      "cell_type": "code",
      "execution_count": null,
      "metadata": {
        "colab": {
          "base_uri": "https://localhost:8080/",
          "height": 297
        },
        "id": "sYDBqIoUlXu0",
        "outputId": "48387414-dc7e-4cda-8cf0-5c008d529197"
      },
      "outputs": [
        {
          "output_type": "execute_result",
          "data": {
            "text/plain": [
              "<sklearn.metrics._plot.confusion_matrix.ConfusionMatrixDisplay at 0x7f11105d3710>"
            ]
          },
          "metadata": {},
          "execution_count": 24
        },
        {
          "output_type": "display_data",
          "data": {
            "text/plain": [
              "<Figure size 432x288 with 2 Axes>"
            ],
            "image/png": "[encoded data removed]"
          },
          "metadata": {
            "needs_background": "light"
          }
        }
      ],
      "source": [
        "rf_clf_cm = confusion_matrix(y_test, y_pred)\n",
        "dis = ConfusionMatrixDisplay(rf_clf_cm)\n",
        "dis.plot()"
      ]
    },
    {
      "cell_type": "markdown",
      "metadata": {
        "id": "0ErTKDkxxUJM"
      },
      "source": [
        "### Run the following cells to visualize the Random Forest"
      ]
    },
    {
      "cell_type": "code",
      "execution_count": null,
      "metadata": {
        "id": "tLMM2ZLg9KGt"
      },
      "outputs": [],
      "source": [
        "from sklearn.tree import export_graphviz\n",
        "\n",
        "# Export as dot file\n",
        "estimator = rf_clf.estimators_[5]\n",
        "\n",
        "export_graphviz(estimator, out_file='tree.dot', \n",
        "                feature_names = x_train.columns,\n",
        "                # need to change this because can only take string, not numpy object\n",
        "                class_names = np.array2string(y.unique()),\n",
        "                rounded = True, proportion = False, \n",
        "                precision = 2, filled = True)"
      ]
    },
    {
      "cell_type": "code",
      "execution_count": null,
      "metadata": {
        "colab": {
          "base_uri": "https://localhost:8080/"
        },
        "id": "CMiZkh3HshlX",
        "outputId": "42ab7fcf-b3d6-4f1e-e774-9b24fd0cab92"
      },
      "outputs": [
        {
          "output_type": "execute_result",
          "data": {
            "text/plain": [
              "0"
            ]
          },
          "metadata": {},
          "execution_count": 26
        }
      ],
      "source": [
        "from subprocess import call\n",
        "call(['dot', '-Tpng', 'tree.dot', '-o', 'tree.png', '-Gdpi=600'])"
      ]
    },
    {
      "cell_type": "code",
      "execution_count": null,
      "metadata": {
        "colab": {
          "base_uri": "https://localhost:8080/",
          "height": 160
        },
        "id": "0fOOyzVTsbJ2",
        "outputId": "41cdb2ce-6924-48ed-e700-de8b164b19bc"
      },
      "outputs": [],
      "source": [
        "from IPython.display import Image\n",
        "Image(filename = 'tree.png')"
      ]
    },
    {
      "cell_type": "markdown",
      "metadata": {
        "id": "Xb49ImPIw-6C"
      },
      "source": [
        "### 4\\. Print out the [feature_importances_](https://https://scikit-learn.org/stable/modules/generated/sklearn.ensemble.RandomForestClassifier.html) computed by the classifier"
      ]
    },
    {
      "cell_type": "code",
      "execution_count": null,
      "metadata": {
        "id": "JnJORwZtqZiz",
        "colab": {
          "base_uri": "https://localhost:8080/"
        },
        "outputId": "cd313c6b-748b-48e6-b2a8-c24cc2bcdfc8"
      },
      "outputs": [
        {
          "output_type": "execute_result",
          "data": {
            "text/plain": [
              "array([8.83930692e-03, 9.42980847e-03, 1.04944547e-02, 2.12720234e-02,\n",
              "       5.73933386e-04, 2.57071439e-03, 1.10911750e-03, 7.42808554e-03,\n",
              "       3.42732285e-03, 1.88444404e-03, 8.61075537e-03, 4.72004418e-04,\n",
              "       3.52098886e-03, 8.61482518e-03, 0.00000000e+00, 1.73026769e-02,\n",
              "       4.25828510e-03, 6.43660922e-03, 7.57015655e-03, 5.44862894e-04,\n",
              "       3.46425162e-03, 3.93550616e-03, 7.64389796e-03, 8.27525261e-03,\n",
              "       2.06168686e-03, 1.93350410e-03, 1.96737798e-03, 2.61456814e-04,\n",
              "       2.82676803e-03, 6.13259403e-02, 8.08425723e-03, 6.45526126e-03,\n",
              "       1.31367716e-03, 7.41900502e-03, 2.50889943e-03, 2.45079553e-03,\n",
              "       2.43606886e-03, 2.83894417e-03, 6.63227644e-03, 5.15157199e-03,\n",
              "       6.09803615e-03, 6.20106595e-03, 1.27244475e-03, 7.37493039e-03,\n",
              "       3.59158508e-03, 3.39914496e-03, 6.95167264e-03, 6.68787574e-03,\n",
              "       6.80382531e-03, 6.43501390e-03, 9.19732859e-03, 7.02591601e-03,\n",
              "       3.36845311e-03, 3.37116630e-03, 6.61764131e-03, 6.15333647e-03,\n",
              "       6.63168737e-03, 6.51375835e-03, 7.36504933e-03, 5.86665022e-03,\n",
              "       2.35333270e-03, 6.02288132e-03, 4.47981431e-03, 4.65558040e-03,\n",
              "       7.95250441e-03, 7.35303425e-03, 7.33919575e-03, 6.74102184e-03,\n",
              "       7.29583691e-03, 6.07108872e-03, 2.39657870e-03, 2.37021532e-03,\n",
              "       6.45578627e-03, 6.77066497e-03, 6.89574325e-03, 6.57928070e-03,\n",
              "       7.81734940e-03, 7.63009241e-03, 2.15077586e-03, 2.42744389e-03,\n",
              "       5.90757957e-03, 5.85823795e-03, 6.21585904e-03, 6.33544390e-03,\n",
              "       6.82738023e-03, 6.47314068e-03, 4.07807359e-03, 5.09733913e-03,\n",
              "       2.72997683e-03, 2.95679494e-03, 7.21514558e-03, 7.31167104e-03,\n",
              "       6.81315027e-03, 6.59354781e-03, 6.17287551e-03, 5.87587396e-03,\n",
              "       4.01342283e-03, 4.30480793e-03, 3.86112772e-03, 3.69540310e-03,\n",
              "       7.79113421e-03, 7.79035316e-03, 5.81857407e-03, 6.75676563e-03,\n",
              "       9.11740672e-03, 7.84245433e-03, 7.58561270e-02, 1.98340657e-02,\n",
              "       5.50559697e-03, 6.95888263e-03, 7.81852180e-03, 7.02320473e-03,\n",
              "       7.00481646e-03, 6.68078134e-03, 3.27718892e-03, 3.18633772e-03,\n",
              "       4.19717441e-03, 4.06601290e-03, 7.54017736e-03, 7.51442212e-03,\n",
              "       6.36183419e-03, 5.98702152e-03, 5.55806267e-03, 5.55003696e-03,\n",
              "       8.45984268e-03, 7.31782953e-03, 7.81407326e-04, 9.34952910e-04,\n",
              "       9.41593473e-04, 1.01045648e-03, 1.67092088e-03, 1.97250216e-03,\n",
              "       1.86601225e-03, 1.99041605e-03, 2.71056532e-03, 2.37094535e-03,\n",
              "       2.39497661e-02, 2.29148209e-02, 1.54837025e-03, 1.81919538e-03,\n",
              "       2.24929488e-03, 1.97874525e-03, 2.03909746e-03, 2.02883955e-03,\n",
              "       3.36251511e-03, 3.28504968e-03, 1.72622763e-03, 1.31335103e-03,\n",
              "       1.95001882e-03, 1.89777350e-03, 2.29643528e-03, 2.49970866e-03,\n",
              "       2.10133584e-03, 1.95104061e-03, 2.21911673e-03, 1.83358679e-03,\n",
              "       3.11039900e-03, 3.66274445e-03, 4.60546890e-03, 4.54734155e-03,\n",
              "       3.81815011e-03, 3.85211802e-03, 3.87752868e-03, 3.04100365e-03,\n",
              "       1.71596739e-03, 1.79525173e-03, 2.13731939e-03, 1.90476596e-03,\n",
              "       2.35121322e-03, 2.00743137e-03, 1.85581709e-03, 1.41159402e-03,\n",
              "       1.38454346e-05, 4.04611632e-04, 2.72056206e-04, 3.60771275e-04,\n",
              "       2.98177791e-04, 1.64796079e-04, 3.94509398e-04])"
            ]
          },
          "metadata": {},
          "execution_count": 28
        }
      ],
      "source": [
        "rf_clf.feature_importances_"
      ]
    },
    {
      "cell_type": "markdown",
      "metadata": {
        "id": "hJCnC8-fD6gb"
      },
      "source": [
        "### 5\\. Create a bar chart of the feature importances with importance level on the x-axis, and the features on the y-axis"
      ]
    },
    {
      "cell_type": "code",
      "execution_count": null,
      "metadata": {
        "id": "1m3Y3X0YD4_Y",
        "colab": {
          "base_uri": "https://localhost:8080/",
          "height": 385
        },
        "outputId": "0010a667-d22c-4bcf-d2fc-00cc4d4ba84b"
      },
      "outputs": [
        {
          "output_type": "execute_result",
          "data": {
            "text/plain": [
              "<BarContainer object of 10 artists>"
            ]
          },
          "metadata": {},
          "execution_count": 29
        },
        {
          "output_type": "display_data",
          "data": {
            "text/plain": [
              "<Figure size 432x288 with 1 Axes>"
            ],
            "image/png": "[encoded data removed]"
          },
          "metadata": {
            "needs_background": "light"
          }
        }
      ],
      "source": [
        "plt.xticks(rotation = 'vertical')\n",
        "\n",
        "# plot first 10 columns because it's too long\n",
        "plt.bar(x_train.columns[:10], rf_clf.feature_importances_[:10])"
      ]
    },
    {
      "cell_type": "markdown",
      "metadata": {
        "id": "WUBQlXYGt8Au"
      },
      "source": [
        "## Section 4: XGB Classifier"
      ]
    },
    {
      "cell_type": "markdown",
      "metadata": {
        "id": "-Pzg9XumBMKw"
      },
      "source": [
        "### 1\\. Train an XGB Classifier on the diabetes data\n"
      ]
    },
    {
      "cell_type": "code",
      "execution_count": null,
      "metadata": {
        "id": "sMqAWOjHryUy"
      },
      "outputs": [],
      "source": [
        "import xgboost as xgb"
      ]
    },
    {
      "cell_type": "code",
      "source": [
        "xg_classifier = xgb.XGBClassifier()"
      ],
      "metadata": {
        "id": "ZInCU_KIqUnX"
      },
      "execution_count": null,
      "outputs": []
    },
    {
      "cell_type": "code",
      "source": [
        "xg_classifier.fit(x_train, y_train)"
      ],
      "metadata": {
        "colab": {
          "base_uri": "https://localhost:8080/"
        },
        "id": "bHzmQfS1snAS",
        "outputId": "d69d9504-a739-4fd4-a64b-31c06952a1ed"
      },
      "execution_count": null,
      "outputs": [
        {
          "output_type": "execute_result",
          "data": {
            "text/plain": [
              "XGBClassifier()"
            ]
          },
          "metadata": {},
          "execution_count": 35
        }
      ]
    },
    {
      "cell_type": "code",
      "source": [
        "y_pred1 = xg_classifier.predict(x_test)"
      ],
      "metadata": {
        "id": "ZgN_tx1usu9Z"
      },
      "execution_count": null,
      "outputs": []
    },
    {
      "cell_type": "markdown",
      "metadata": {
        "id": "Jkpz_icvBJd6"
      },
      "source": [
        "### 2\\. Use your classifier on your test data & show the [classification_report](https://scikit-learn.org/stable/modules/generated/sklearn.metrics.classification_report.html) for its performance"
      ]
    },
    {
      "cell_type": "code",
      "execution_count": null,
      "metadata": {
        "id": "nsSRmSj7BJd7",
        "colab": {
          "base_uri": "https://localhost:8080/"
        },
        "outputId": "9113af41-f03c-4689-8093-fdcde49b3b0e"
      },
      "outputs": [
        {
          "output_type": "stream",
          "name": "stdout",
          "text": [
            "              precision    recall  f1-score   support\n",
            "\n",
            "           0       0.85      0.95      0.90      3351\n",
            "           1       0.69      0.41      0.52       945\n",
            "\n",
            "    accuracy                           0.83      4296\n",
            "   macro avg       0.77      0.68      0.71      4296\n",
            "weighted avg       0.82      0.83      0.81      4296\n",
            "\n"
          ]
        }
      ],
      "source": [
        "print(classification_report(y_test, y_pred1))"
      ]
    },
    {
      "cell_type": "markdown",
      "metadata": {
        "id": "mRxvjZEfBJd7"
      },
      "source": [
        "### 3\\. Show the confusion matrix heatmap for the predictions"
      ]
    },
    {
      "cell_type": "code",
      "execution_count": null,
      "metadata": {
        "id": "D3-kVRjmBJd7",
        "colab": {
          "base_uri": "https://localhost:8080/",
          "height": 297
        },
        "outputId": "a8644782-32f1-4cc0-8bf9-9cf124dc8ae9"
      },
      "outputs": [
        {
          "output_type": "execute_result",
          "data": {
            "text/plain": [
              "<sklearn.metrics._plot.confusion_matrix.ConfusionMatrixDisplay at 0x7f1107442fd0>"
            ]
          },
          "metadata": {},
          "execution_count": 43
        },
        {
          "output_type": "display_data",
          "data": {
            "text/plain": [
              "<Figure size 432x288 with 2 Axes>"
            ],
            "image/png": "[encoded data removed]"
          },
          "metadata": {
            "needs_background": "light"
          }
        }
      ],
      "source": [
        "xg_classifier_cm = confusion_matrix(y_test, y_pred1)\n",
        "xg_dis = ConfusionMatrixDisplay(rf_clf_cm)\n",
        "xg_dis.plot()"
      ]
    }
  ],
  "metadata": {
    "colab": {
      "collapsed_sections": [],
      "name": "Copy of CMPE188_M3_AssignmentP2v0.ipynb",
      "provenance": []
    },
    "kernelspec": {
      "display_name": "Python 3",
      "name": "python3"
    },
    "language_info": {
      "name": "python"
    }
  },
  "nbformat": 4,
  "nbformat_minor": 0
}